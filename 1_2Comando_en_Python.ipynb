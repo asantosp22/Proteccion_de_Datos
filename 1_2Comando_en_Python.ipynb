{
  "nbformat": 4,
  "nbformat_minor": 0,
  "metadata": {
    "colab": {
      "provenance": [],
      "authorship_tag": "ABX9TyPhd/DNyFJFO2pCqc/r1Waz",
      "include_colab_link": true
    },
    "kernelspec": {
      "name": "python3",
      "display_name": "Python 3"
    },
    "language_info": {
      "name": "python"
    }
  },
  "cells": [
    {
      "cell_type": "markdown",
      "metadata": {
        "id": "view-in-github",
        "colab_type": "text"
      },
      "source": [
        "<a href=\"https://colab.research.google.com/github/asantosp22/Proteccion_de_Datos/blob/main/1_2Comando_en_Python.ipynb\" target=\"_parent\"><img src=\"https://colab.research.google.com/assets/colab-badge.svg\" alt=\"Open In Colab\"/></a>"
      ]
    },
    {
      "cell_type": "markdown",
      "source": [
        "# **1.1: Introducción a Python**\n",
        "\n",
        "\n",
        "*   ***Fecha:*** 17 de Septiembre del 2023\n",
        "*   ***Nombre del alumno:*** Alison S. Santos Pérez.\n",
        "\n"
      ],
      "metadata": {
        "id": "8EQfi6vTZlOQ"
      }
    },
    {
      "cell_type": "code",
      "execution_count": null,
      "metadata": {
        "id": "LBQCjEHvGQ7z",
        "colab": {
          "base_uri": "https://localhost:8080/"
        },
        "outputId": "f28d5493-f9de-42ae-8527-0faa0e5a877b"
      },
      "outputs": [
        {
          "output_type": "stream",
          "name": "stdout",
          "text": [
            "7\n",
            "5\n"
          ]
        }
      ],
      "source": [
        "#EJERCICIO 1\n",
        "#Scope: Alcance de la función\n",
        "#Locales Vs Globales\n",
        "\n",
        "# Mandamos definir una función, llamada local\n",
        "#La función local son las que se encuentran dentro de una función\n",
        "\n",
        "def local():\n",
        "  m = 7 #la función local toma el valor de 7\n",
        "  print(m)\n",
        "# Ahora mandamos a definir una función global\n",
        "#La funciones globales son las que van fuera de todas las funciones\n",
        "\n",
        "m = 5 #en este caso toma el valor de 5\n",
        "\n",
        "## Llamamos (ejecutamos) la función local\n",
        "local()\n",
        "print(m)"
      ]
    },
    {
      "cell_type": "markdown",
      "source": [
        "***Segundo ejemplo de scopes: Alcance de la función***"
      ],
      "metadata": {
        "id": "KkUHGWYfeO89"
      }
    },
    {
      "cell_type": "code",
      "source": [
        "#EJRCICIO 2\n",
        "#Scope: Alcance de la función\n",
        "#Locales Vs Globales\n",
        "\n",
        "def local():\n",
        "# m no pertenece al ámbito definido por la función local\n",
        "# por lo que Python seguirá buscando en el siguiente ámbito envolvente.\n",
        "# m se encuentra finalmente en el ámbito global\n",
        "  m=5\n",
        "  #Mandamos a imprimir desde el ámbito local\n",
        "  print(m,'printing from the local scope')\n",
        "\n",
        "  #Mandamos a imprimir desde el ámbito global\n",
        "\n",
        "  print(m,'printing from the global scope')\n",
        "\n",
        "local()"
      ],
      "metadata": {
        "colab": {
          "base_uri": "https://localhost:8080/"
        },
        "id": "11mLUrQJ5LYK",
        "outputId": "1a174cdc-634b-44eb-f123-59dda19af17c"
      },
      "execution_count": null,
      "outputs": [
        {
          "output_type": "stream",
          "name": "stdout",
          "text": [
            "5 printing from the local scope\n",
            "5 printing from the global scope\n"
          ]
        }
      ]
    },
    {
      "cell_type": "markdown",
      "source": [
        "***Tercer Ejemplo de scope (alcance de la función): Utilizando ámbito local (local), encierre (enclosing) y global (global).***"
      ],
      "metadata": {
        "id": "N4TWGkQE4Vj5"
      }
    },
    {
      "cell_type": "code",
      "source": [
        "#EJERCICIO 3\n",
        "#Scope(alcance de la función): UTILIZANDO LOCAL, ENCLOSING Y GLOBAL.\n",
        "\n",
        "#scopes3.py\n",
        "#Local, Enclosing and Global\n",
        "#Local, encierre y global.\n",
        "\n",
        "def enclosing_func(): #dentro de enclosing_func, creamos una variable local  de nombre m con un valor de 13.\n",
        "  m=13 #nombre de la variable local\n",
        "  def local():\n",
        "    #1.- m no pertenece al ámbito definido por la función local.\n",
        "    # por lo que Python seguirá buscando en el siguiente\n",
        "    # siguiente. Esta vez m se encuentra en el ámbito # adyacente.\n",
        "    # ámbito\n",
        "\n",
        "        print(m, 'printing from the local scope') #imprimir desde el ámbito local\n",
        "    #Mandamos llamar la función local\n",
        "  local()\n",
        "m=5\n",
        "print(m, 'printing from the global scope') #imprimir desde el ámbito global\n",
        "enclosing_func()"
      ],
      "metadata": {
        "colab": {
          "base_uri": "https://localhost:8080/"
        },
        "id": "Rzy_-kyE6KKV",
        "outputId": "c46f7ba0-38fa-4f46-f7d4-b6404abe0d35"
      },
      "execution_count": null,
      "outputs": [
        {
          "output_type": "stream",
          "name": "stdout",
          "text": [
            "5 printing from the global scope\n",
            "13 printing from the local scope\n"
          ]
        }
      ]
    },
    {
      "cell_type": "markdown",
      "source": [
        "# **Clases en python**"
      ],
      "metadata": {
        "id": "Cg1rZb4_CaQD"
      }
    },
    {
      "cell_type": "code",
      "source": [
        "# bike.py\n",
        "#Definamos la clase BIKE-> Bicicleta\n",
        "class Bike:\n",
        "    def __init__(self, colour, frame_material): #__init__ tomamos dos 2 parámetro: colour(color) y frame_material (material)\n",
        "        self.colour = colour   #los mandamos como argumentos: 1.- color\n",
        "        self.frame_material = frame_material #2.- frame_material\n",
        "\n",
        "    def brake(self):\n",
        "        print(\"Braking!\") #aquí le pedimos al programa que nos imprima BRAKING!!\n",
        "\n",
        "## CREAMOS UN PAR DE INSTANCIAS DE LA CLASE\n",
        "red_bike = Bike('Red', 'Carbon fiber') #primer instancia:Con el color \"Red\" y el material \"Carbon fiber\".\n",
        "blue_bike = Bike('Blue', 'Steel') #segunda instancia: Con el color \"Blue\" y el material \"Steel\".\n",
        "\n",
        "#INSPECCIONEMOS LOS OBJETOS QUE TENEMOS, INSTANCIAS DE LA CLASE DE BICICLETA.\n",
        "print(red_bike.colour)  # le pedimos al programa que imprima: Red\n",
        "print(red_bike.frame_material)  # le pedimos al programa que imprima: Carbon fiber\n",
        "print(blue_bike.colour)  #le pedimos al programa que imprima: Blue\n",
        "print(blue_bike.frame_material)  #le pedimos al programa que imprima: Steel\n",
        "\n",
        "# LET´S BRAKE\n",
        "red_bike.brake()\n"
      ],
      "metadata": {
        "colab": {
          "base_uri": "https://localhost:8080/"
        },
        "id": "u3uitxx06KkT",
        "outputId": "69f0136e-f0b0-47aa-eefe-9545db19da46"
      },
      "execution_count": null,
      "outputs": [
        {
          "output_type": "stream",
          "name": "stdout",
          "text": [
            "Red\n",
            "Carbon fiber\n",
            "Blue\n",
            "Steel\n",
            "Braking!\n"
          ]
        }
      ]
    },
    {
      "cell_type": "markdown",
      "source": [
        "# Real Numbers/NúmerosReales"
      ],
      "metadata": {
        "id": "bxYZi-abFKiS"
      }
    },
    {
      "cell_type": "code",
      "source": [
        "pi = 3.1415926536 #creamos una variable de nombre \"pi\", en la cual agregaremos el valor que tiene pi= 3.1415926\n",
        "radius= 4.5 #despues creamos otra variable de nombre radius (radio) y le damos el valor de 4.5\n",
        "area= pi* (radius ** 2) #nuevamente creamos una variable pero ahora de nombre area, en la cual se guardara el resultado de la operación pi*(radius **2)\n",
        "print(area) #por último le pedimos al programa que nos imprima el resultado final."
      ],
      "metadata": {
        "colab": {
          "base_uri": "https://localhost:8080/"
        },
        "id": "-WT5kR52A8G6",
        "outputId": "c31cbba8-b7c8-4e91-9f98-7683130cd844"
      },
      "execution_count": null,
      "outputs": [
        {
          "output_type": "stream",
          "name": "stdout",
          "text": [
            "63.617251235400005\n"
          ]
        }
      ]
    },
    {
      "cell_type": "code",
      "source": [
        "#sys nos proporciona acceso a variables y funciones relacionadas con el sistema,\n",
        "# lo que te permite interactuar con el intérprete de Python y el sistema\n",
        "#operativo en el que se ejecuta tu programa.\n",
        "\n",
        "import sys\n",
        "sys.float_info\n",
        "\n",
        "#La secuencia sys.float_info contiene información sobre cómo funcionan los\n",
        "#números de punto flotante se comportará en su sistema.\n"
      ],
      "metadata": {
        "colab": {
          "base_uri": "https://localhost:8080/"
        },
        "id": "h7YsF7ZCBLkY",
        "outputId": "0658aecf-d846-406c-fe63-b06b25f61394"
      },
      "execution_count": null,
      "outputs": [
        {
          "output_type": "execute_result",
          "data": {
            "text/plain": [
              "sys.float_info(max=1.7976931348623157e+308, max_exp=1024, max_10_exp=308, min=2.2250738585072014e-308, min_exp=-1021, min_10_exp=-307, dig=15, mant_dig=53, epsilon=2.220446049250313e-16, radix=2, rounds=1)"
            ]
          },
          "metadata": {},
          "execution_count": 7
        }
      ]
    },
    {
      "cell_type": "code",
      "source": [
        "a = list(range(10)) # le pedimos al programa crear una variable de nombre \"a\" en la cual contendrá lista con un rango de 10\n",
        "a #por último le pedimos al programa que nos imprima la lista\n"
      ],
      "metadata": {
        "colab": {
          "base_uri": "https://localhost:8080/"
        },
        "id": "GO6uf9yjE402",
        "outputId": "c5fe4eff-a442-483b-bb1c-57eeda14b3ae"
      },
      "execution_count": null,
      "outputs": [
        {
          "output_type": "execute_result",
          "data": {
            "text/plain": [
              "[0, 1, 2, 3, 4, 5, 6, 7, 8, 9]"
            ]
          },
          "metadata": {},
          "execution_count": 52
        }
      ]
    },
    {
      "cell_type": "code",
      "source": [
        "len(a) # le pedimos al programa que nos diga cual es la longitud de los elementos que tiene la lista"
      ],
      "metadata": {
        "colab": {
          "base_uri": "https://localhost:8080/"
        },
        "id": "obMy4UteE9PR",
        "outputId": "7817bbfa-623a-4b36-fe8e-aa54cce1e52a"
      },
      "execution_count": null,
      "outputs": [
        {
          "output_type": "execute_result",
          "data": {
            "text/plain": [
              "10"
            ]
          },
          "metadata": {},
          "execution_count": 53
        }
      ]
    },
    {
      "cell_type": "code",
      "source": [
        " a[len(a) - 1] # la posición del último es len(a) - 1"
      ],
      "metadata": {
        "colab": {
          "base_uri": "https://localhost:8080/"
        },
        "id": "yk_R-HKXE9Th",
        "outputId": "c337829d-10a9-4f05-f505-6120995e76c9"
      },
      "execution_count": null,
      "outputs": [
        {
          "output_type": "execute_result",
          "data": {
            "text/plain": [
              "9"
            ]
          },
          "metadata": {},
          "execution_count": 54
        }
      ]
    },
    {
      "cell_type": "code",
      "source": [
        "a[-2] # equivalente a len(a) - 2"
      ],
      "metadata": {
        "colab": {
          "base_uri": "https://localhost:8080/"
        },
        "id": "CnMYWtWDE9ZP",
        "outputId": "e2359293-54d9-4f6b-81ac-57120d62afd1"
      },
      "execution_count": null,
      "outputs": [
        {
          "output_type": "execute_result",
          "data": {
            "text/plain": [
              "8"
            ]
          },
          "metadata": {},
          "execution_count": 55
        }
      ]
    },
    {
      "cell_type": "code",
      "source": [
        "a[-3] # equivalente a len(a) - 3"
      ],
      "metadata": {
        "colab": {
          "base_uri": "https://localhost:8080/"
        },
        "id": "hKJo86n3E9dE",
        "outputId": "f2b20b8b-5b0b-41a3-9653-06015cb1e05f"
      },
      "execution_count": null,
      "outputs": [
        {
          "output_type": "execute_result",
          "data": {
            "text/plain": [
              "7"
            ]
          },
          "metadata": {},
          "execution_count": 56
        }
      ]
    },
    {
      "cell_type": "markdown",
      "source": [
        "# **Programación Condicional**\n",
        "\n",
        "\n",
        "\n",
        "*   La programación condicional, o bifurcación, es algo que se hace todos los días, todos los días en cada momento. Es decir, se trata de evaluar condiciones, como por ejemplo:\n",
        "si el semáforo está en verde, entonces puedo cruzar; si es\n",
        "\n",
        "1.   SI el semáforo está en verde, entonces puedo cruzar.\n",
        "2.   SI está lloviendo, entonces me llevo el paraguas.\n",
        "3.   SI llego tarde al trabajo, llamaré a mi jefe."
      ],
      "metadata": {
        "id": "Vjtv7lUsKjpu"
      }
    },
    {
      "cell_type": "code",
      "source": [
        "late = True #En este caso le pedimos al programa crear una variable de nombre late(tarde) asignandole el valor de TRUE (VERDADERO).\n",
        "            #Lo cual nos indicará si la persona llegará tarde o no\n",
        "# INICIAMOS CON LA CONDICIÓN\n",
        "if late:  #SI la persona esta retrasada\n",
        "  print('I need to call my manager!/ NECESITO LLAMAR A MI JEFE AHHHHH!! :/') #IMPRIME: NECESITO LLAMAR A MI JEFE!!!\n",
        "\n",
        "  #84"
      ],
      "metadata": {
        "colab": {
          "base_uri": "https://localhost:8080/"
        },
        "id": "eAqKrEHwE9gb",
        "outputId": "e8604863-de0d-4318-9422-0ca026923a9f"
      },
      "execution_count": null,
      "outputs": [
        {
          "output_type": "stream",
          "name": "stdout",
          "text": [
            "I need to call my manager!/ NECESITO LLAMAR A MI JEFE AHHHHH!! :/\n"
          ]
        }
      ]
    },
    {
      "cell_type": "markdown",
      "source": [
        "**Ejercicio 2: CONDICIONALES**"
      ],
      "metadata": {
        "id": "9KZA6JsnMZUF"
      }
    },
    {
      "cell_type": "code",
      "source": [
        "# conditional.2.py\n",
        "\n",
        "#Utilizando las mismas dos líneas de código del ejemplo anterior........\n",
        "\n",
        "late = False ##Ahora le pedimos al programa crear una variable de nombre late(tarde) pero asignandole el valor de FALSE (FALSO).\n",
        "              #Por lo cual ahora nos indicará que debe de hacer la persona al ver que no llegará tarde\n",
        "\n",
        "if late: #SI LA PERSONA ESTA RETRASADA\n",
        "  print('I need to call my manager!/ NECESITO LLAMAR A MI JEFE AHHHHHHH!!') #ENTONCES IMPRIME: NECESITO LLAMAR A MI JEFE!!\n",
        "else: #CASO CONTRARIO: SI LA PERSONA NO ESTA RETRASADA-....\n",
        "  print('no need to call my manager.../ UF, NO NECESITO LLAMAR A MI JEFE:)') #ENTONCES IMPRIME: NO NECESITO LLAMAR A MI JEFE\n",
        "  #página 84"
      ],
      "metadata": {
        "colab": {
          "base_uri": "https://localhost:8080/"
        },
        "id": "l6U8mC0vFQZ4",
        "outputId": "a37df6a2-548b-4fe9-8f72-4da5bc6708f4"
      },
      "execution_count": null,
      "outputs": [
        {
          "output_type": "stream",
          "name": "stdout",
          "text": [
            "no need to call my manager.../ UF, NO NECESITO LLAMAR A MI JEFE:)\n"
          ]
        }
      ]
    },
    {
      "cell_type": "markdown",
      "source": [
        "# **3 Ejemplo de condiciones pero ahora TAX**\n",
        "\n",
        "\n",
        "\n",
        "*   A veces todo lo que necesitamos es hacer algo si se cumple una condición (una simple cláusula if).\n",
        "*   En otras ocasiones, deberá proporcionar una alternativa, en caso de que la condición sea falsa (si/ cláusula de lo contrario).\n",
        "\n",
        "*   Pero hay situaciones en las que es posible que tengas más de dos caminos.\n",
        "Para escoger de;\n",
        "\n",
        "1.   llamar al administrador (o no llamarlo) es un tipo de binario ejemplo (o llamas o no lo haces), cambiemos el tipo de ejemplo y mantengamos\n",
        "en expansión.\n",
        "\n"
      ],
      "metadata": {
        "id": "ylz0J-N1PEAl"
      }
    },
    {
      "cell_type": "markdown",
      "source": [
        "Esta vez decidimos los porcentajes de impuestos.\n",
        "*   Si sus ingresos son inferiores a $10,000, no necesitas pagar ningún impuesto.\n",
        "*   Si está entre $10,000 y $30,000, usted tiene que pagar el 20% en impuestos.\n",
        "\n",
        "*   Si está entre $30.000 y $100.000, pagas el 35% en impuestos\n",
        "*   Y si tienes la suerte de ganar más de $100,000, debes pagar el 45% en impuestos.\n",
        "\n",
        "QUEDANDO EN PYTHON......"
      ],
      "metadata": {
        "id": "t_lHDNsiP_aD"
      }
    },
    {
      "cell_type": "code",
      "source": [
        "# taxes.py\n",
        "income = 15000 #Se inicia definiendo una variable de nombre \"income\" en el cual le asignaremos un valor de $15,000.\n",
        "              #Donde representa los ingresos anuales de la persona cuyos impuestos se calculan.\n",
        "\n",
        "if income < 10000: # SI EL INGRESO ES INFERIOR A $10,000.\n",
        "  tax_coefficient = 0.0 # SE ESTABLECERA UN COEFICIENTE DE 0.0\n",
        "elif income < 30000: #CASO CONTRARIO:  Si los ingresos son mayores o iguales a $10,000 pero menores que $30,000.\n",
        "  tax_coefficient = 0.2 #se establece tax_coefficient en 0.2.\n",
        "elif income < 100000: #CASO CONTRARIO: Si los ingresos son mayores o iguales a $30,000 pero menores que $100,000.\n",
        "  tax_coefficient = 0.35 #se establece tax_coefficient en 0.35.\n",
        "else:\n",
        "  tax_coefficient = 0.45 #Si ninguno de los casos anteriores es verdadero (es decir, los ingresos son $100,000 o más).\n",
        "                         #se establece tax_coefficient en 0.45.\n",
        "\n",
        "print(f'You will pay: ${income * tax_coefficient} in taxes') #se multiplica el income * el coeficiente de taxas\n",
        "                                                             #Por lo cual le pedimos al programa que imprima la cantidad de impuestos que la\n",
        "                                                             #persona debe pagar.\n"
      ],
      "metadata": {
        "colab": {
          "base_uri": "https://localhost:8080/"
        },
        "id": "7sf7CorVFQc7",
        "outputId": "782ad069-a8b6-49b2-d890-d3b34b2c64ae"
      },
      "execution_count": null,
      "outputs": [
        {
          "output_type": "stream",
          "name": "stdout",
          "text": [
            "You will pay: $3000.0 in taxes\n"
          ]
        }
      ]
    },
    {
      "cell_type": "markdown",
      "source": [
        "# **IF ANIDADOS**"
      ],
      "metadata": {
        "id": "icCV_jOAdTQp"
      }
    },
    {
      "cell_type": "markdown",
      "source": [
        "El programa encuentra un error.\n",
        "*   Si el sistema de alerta es la consola imprimimos el error.\n",
        "*   Si el sistema de alerta es un correo electrónico, lo enviamos según la gravedad del error.\n",
        "\n",
        "*   Si el sistema de alerta es cualquier cosa que no sea consola o correo electrónico, no sabemos qué hacer,\n",
        "por lo tanto no hacemos nada."
      ],
      "metadata": {
        "id": "9QQNQY8kdXW3"
      }
    },
    {
      "cell_type": "code",
      "source": [
        "# errorsalert.py\n",
        "#Se muestran dos cláusulas if anidadas\n",
        "\n",
        "#Aquí se define una variable llamada alert_system y se le asigna el valor 'console'. Esto significa que el sistema de alerta\n",
        "# se configurará para mostrar mensajes de error en la consola.\n",
        "\n",
        "#1.- Se define una variable llamada alert_system y se le asigna el valor de \"console\", esto significa que el sistema de alerta\n",
        "#se configurará para mostrar mensajes de error en la consola.\n",
        "\n",
        "alert_system = 'console' #'otro valor puede ser 'correo electrónico'\n",
        "error_severity = 'critical' #Se define una variable llamada error_severity y se le asigna el valor 'critical'.\n",
        "                            #indicandonos el nivel de gravedad del error.\n",
        "                            #otros valores: \"medio\" o \"bajo\"\n",
        "error_message = 'OMG! Something terrible happened!/OJO, AGUAS ALGO MALO ESTA PASANDOO'# Nuevamente definimos una variable llamada error_message\n",
        "                                                                                      #(error de mensaje) pidiendole al programa que le  muestre al usuario\n",
        "                                                                                      #un mensaje de error: 'OMG! Something terrible happened!'/\n",
        "                                                                                      #AGUAS,ALGO MALO ESTA PASANDOOOOO\".\n",
        "#INICIAMOS CON LAS CONDICIONES, LAS CUALES NOS INDICARAN COMO SE NOTIFICARÁN LOS ERRORES.\n",
        "\n",
        "if alert_system == 'console': #SI la variable alert_system es igual a 'console'.\n",
        "  print(error_message) #Imprime el mensaje que se guardo en la variable de nombre error_message.\n",
        "elif alert_system == 'email': #CASO CONTRARIO..... Si la variable alert_system es igual a 'email'.....\n",
        "  if error_severity == 'critical': #VERIFICA si error_severity es igual a 'critical'.\n",
        "    send_email('admin@example.com', error_message) #Si es así, entonces envía un correo electrónico al administrador con el mensaje que se\n",
        "                                                   #encuentra en la variable error_message.\n",
        "elif error_severity == 'medium': #NUEVAMENTE CASO CONTRARIO...... Si error_severity no es igual a 'critical', ahora VERIFICA si es igual a 'medium'.\n",
        "  send_email('support.1@example.com', error_message) #Si es asi, enviale un correo electrónico al equipo de soporte 1 con el mensaje\n",
        "                                                     #que se encuentra en la variable error_message.\n",
        "\n",
        "                                                     #AHORA............\n",
        "else: #Si ninguna de las condiciones anteriores es verdadera.\n",
        "  send_email('support.2@example.com', error_message) #envía un correo electrónico al equipo de soporte 2 con el mensaje que se encuentra en la variable\n",
        "                                                     #error_message."
      ],
      "metadata": {
        "colab": {
          "base_uri": "https://localhost:8080/"
        },
        "id": "6IazdXF_FjqW",
        "outputId": "f1a93808-af37-4ebb-d37d-6980e538e439"
      },
      "execution_count": null,
      "outputs": [
        {
          "output_type": "stream",
          "name": "stdout",
          "text": [
            "OMG! Something terrible happened!/OJO, AGUAS ALGO MALO ESTA PASANDOO\n"
          ]
        }
      ]
    }
  ]
}