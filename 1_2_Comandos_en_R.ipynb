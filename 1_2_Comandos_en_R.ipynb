{
  "nbformat": 4,
  "nbformat_minor": 0,
  "metadata": {
    "colab": {
      "provenance": [],
      "authorship_tag": "ABX9TyOMcmjYkrJPEdKZWhKztEsJ",
      "include_colab_link": true
    },
    "kernelspec": {
      "name": "ir",
      "display_name": "R"
    },
    "language_info": {
      "name": "R"
    }
  },
  "cells": [
    {
      "cell_type": "markdown",
      "metadata": {
        "id": "view-in-github",
        "colab_type": "text"
      },
      "source": [
        "<a href=\"https://colab.research.google.com/github/asantosp22/Proteccion_de_Datos/blob/main/1_2_Comandos_en_R.ipynb\" target=\"_parent\"><img src=\"https://colab.research.google.com/assets/colab-badge.svg\" alt=\"Open In Colab\"/></a>"
      ]
    },
    {
      "cell_type": "markdown",
      "source": [
        "\n",
        "*   **Nombre del Alumno:** Alison Saraí Santos Pérez\n",
        "*   **Fecha:** 8 de Octubre del 2023"
      ],
      "metadata": {
        "id": "UNpsUB2QP184"
      }
    },
    {
      "cell_type": "code",
      "execution_count": null,
      "metadata": {
        "colab": {
          "base_uri": "https://localhost:8080/",
          "height": 1000
        },
        "id": "dVsjwD1lPGk3",
        "outputId": "3e83f2b9-1722-4787-f9b3-24086e5c5630"
      },
      "outputs": [
        {
          "output_type": "display_data",
          "data": {
            "text/html": [
              "<table class=\"dataframe\">\n",
              "<caption>A matrix: 163 × 16 of type chr</caption>\n",
              "<thead>\n",
              "\t<tr><th></th><th scope=col>Package</th><th scope=col>LibPath</th><th scope=col>Version</th><th scope=col>Priority</th><th scope=col>Depends</th><th scope=col>Imports</th><th scope=col>LinkingTo</th><th scope=col>Suggests</th><th scope=col>Enhances</th><th scope=col>License</th><th scope=col>License_is_FOSS</th><th scope=col>License_restricts_use</th><th scope=col>OS_type</th><th scope=col>MD5sum</th><th scope=col>NeedsCompilation</th><th scope=col>Built</th></tr>\n",
              "</thead>\n",
              "<tbody>\n",
              "\t<tr><th scope=row>IRdisplay</th><td><span style=white-space:pre-wrap>IRdisplay  </span></td><td>/usr/local/lib/R/site-library</td><td><span style=white-space:pre-wrap>1.1   </span></td><td>NA</td><td><span style=white-space:pre-wrap>R (&gt;= 3.0.1)                                       </span></td><td><span style=white-space:pre-wrap>methods, repr                                                                                                                                                                                                                                                                                    </span></td><td>NA</td><td><span style=white-space:pre-wrap>testthat, withr                                                                                                                                                                                                                                                                                                                                                                                                                                                                                                                                                                                                                                                                                                                                                    </span></td><td><span style=white-space:pre-wrap>NA                                                          </span></td><td><span style=white-space:pre-wrap>MIT + file LICENSE         </span></td><td>NA</td><td>NA</td><td>NA</td><td>NA</td><td>no </td><td>4.3.1</td></tr>\n",
              "\t<tr><th scope=row>IRkernel</th><td><span style=white-space:pre-wrap>IRkernel   </span></td><td>/usr/local/lib/R/site-library</td><td>1.3.2 </td><td>NA</td><td><span style=white-space:pre-wrap>R (&gt;= 3.2.0)                                       </span></td><td><span style=white-space:pre-wrap>repr (&gt;= 0.4.99), methods, evaluate (&gt;= 0.10), IRdisplay (&gt;=\n",
              "0.3.0.9999), pbdZMQ (&gt;= 0.2-1), crayon, jsonlite (&gt;= 0.9.6),\n",
              "uuid, digest                                                                                                                                                         </span></td><td>NA</td><td><span style=white-space:pre-wrap>testthat, roxygen2                                                                                                                                                                                                                                                                                                                                                                                                                                                                                                                                                                                                                                                                                                                                                 </span></td><td><span style=white-space:pre-wrap>NA                                                          </span></td><td><span style=white-space:pre-wrap>MIT + file LICENSE         </span></td><td>NA</td><td>NA</td><td>NA</td><td>NA</td><td>no </td><td>4.3.1</td></tr>\n",
              "\t<tr><th scope=row>pbdZMQ</th><td><span style=white-space:pre-wrap>pbdZMQ     </span></td><td>/usr/local/lib/R/site-library</td><td>0.3-10</td><td>NA</td><td><span style=white-space:pre-wrap>R (&gt;= 3.5.0)                                       </span></td><td><span style=white-space:pre-wrap>NA                                                                                                                                                                                                                                                                                               </span></td><td>NA</td><td><span style=white-space:pre-wrap>NA                                                                                                                                                                                                                                                                                                                                                                                                                                                                                                                                                                                                                                                                                                                                                                 </span></td><td><span style=white-space:pre-wrap>NA                                                          </span></td><td><span style=white-space:pre-wrap>GPL-3                      </span></td><td>NA</td><td>NA</td><td>NA</td><td>NA</td><td>yes</td><td>4.3.1</td></tr>\n",
              "\t<tr><th scope=row>repr</th><td><span style=white-space:pre-wrap>repr       </span></td><td>/usr/local/lib/R/site-library</td><td>1.1.6 </td><td>NA</td><td><span style=white-space:pre-wrap>R (&gt;= 3.0.1)                                       </span></td><td><span style=white-space:pre-wrap>utils, grDevices, htmltools, jsonlite, pillar (&gt;= 1.4.0),\n",
              "base64enc                                                                                                                                                                                                                             </span></td><td>NA</td><td><span style=white-space:pre-wrap>methods, highr, Cairo, stringr, testthat (&gt;= 3.0.0), leaflet                                                                                                                                                                                                                                                                                                                                                                                                                                                                                                                                                                                                                                                                                                       </span></td><td>data.table, tibble, htmlwidgets, vegalite, plotly, geojsonio</td><td><span style=white-space:pre-wrap>GPL (&gt;= 3)                 </span></td><td>NA</td><td>NA</td><td>NA</td><td>NA</td><td>no </td><td>4.3.1</td></tr>\n",
              "\t<tr><th scope=row>askpass</th><td><span style=white-space:pre-wrap>askpass    </span></td><td><span style=white-space:pre-wrap>/usr/lib/R/site-library      </span></td><td>1.2.0 </td><td>NA</td><td><span style=white-space:pre-wrap>NA                                                 </span></td><td><span style=white-space:pre-wrap>sys (&gt;= 2.1)                                                                                                                                                                                                                                                                                     </span></td><td>NA</td><td><span style=white-space:pre-wrap>testthat                                                                                                                                                                                                                                                                                                                                                                                                                                                                                                                                                                                                                                                                                                                                                           </span></td><td><span style=white-space:pre-wrap>NA                                                          </span></td><td><span style=white-space:pre-wrap>MIT + file LICENSE         </span></td><td>NA</td><td>NA</td><td>NA</td><td>NA</td><td>yes</td><td>4.3.1</td></tr>\n",
              "\t<tr><th scope=row>backports</th><td><span style=white-space:pre-wrap>backports  </span></td><td><span style=white-space:pre-wrap>/usr/lib/R/site-library      </span></td><td>1.4.1 </td><td>NA</td><td><span style=white-space:pre-wrap>R (&gt;= 3.0.0)                                       </span></td><td><span style=white-space:pre-wrap>NA                                                                                                                                                                                                                                                                                               </span></td><td>NA</td><td><span style=white-space:pre-wrap>NA                                                                                                                                                                                                                                                                                                                                                                                                                                                                                                                                                                                                                                                                                                                                                                 </span></td><td><span style=white-space:pre-wrap>NA                                                          </span></td><td><span style=white-space:pre-wrap>GPL-2 | GPL-3              </span></td><td>NA</td><td>NA</td><td>NA</td><td>NA</td><td>yes</td><td>4.2.0</td></tr>\n",
              "\t<tr><th scope=row>base64enc</th><td><span style=white-space:pre-wrap>base64enc  </span></td><td><span style=white-space:pre-wrap>/usr/lib/R/site-library      </span></td><td>0.1-3 </td><td>NA</td><td><span style=white-space:pre-wrap>R (&gt;= 2.9.0)                                       </span></td><td><span style=white-space:pre-wrap>NA                                                                                                                                                                                                                                                                                               </span></td><td>NA</td><td><span style=white-space:pre-wrap>NA                                                                                                                                                                                                                                                                                                                                                                                                                                                                                                                                                                                                                                                                                                                                                                 </span></td><td><span style=white-space:pre-wrap>png                                                         </span></td><td><span style=white-space:pre-wrap>GPL-2 | GPL-3              </span></td><td>NA</td><td>NA</td><td>NA</td><td>NA</td><td>yes</td><td>4.0.2</td></tr>\n",
              "\t<tr><th scope=row>bit</th><td><span style=white-space:pre-wrap>bit        </span></td><td><span style=white-space:pre-wrap>/usr/lib/R/site-library      </span></td><td>4.0.4 </td><td>NA</td><td><span style=white-space:pre-wrap>R (&gt;= 2.9.2)                                       </span></td><td><span style=white-space:pre-wrap>NA                                                                                                                                                                                                                                                                                               </span></td><td>NA</td><td><span style=white-space:pre-wrap>testthat (&gt;= 0.11.0), roxygen2, knitr, rmarkdown,\n",
              "microbenchmark, bit64 (&gt;= 4.0.0), ff (&gt;= 4.0.0)                                                                                                                                                                                                                                                                                                                                                                                                                                                                                                                                                                                                                                                                 </span></td><td><span style=white-space:pre-wrap>NA                                                          </span></td><td><span style=white-space:pre-wrap>GPL-2 | GPL-3              </span></td><td>NA</td><td>NA</td><td>NA</td><td>NA</td><td>yes</td><td>4.0.2</td></tr>\n",
              "\t<tr><th scope=row>bit64</th><td><span style=white-space:pre-wrap>bit64      </span></td><td><span style=white-space:pre-wrap>/usr/lib/R/site-library      </span></td><td>4.0.5 </td><td>NA</td><td>R (&gt;= 3.0.1), bit (&gt;= 4.0.0), utils, methods, stats</td><td><span style=white-space:pre-wrap>NA                                                                                                                                                                                                                                                                                               </span></td><td>NA</td><td><span style=white-space:pre-wrap>NA                                                                                                                                                                                                                                                                                                                                                                                                                                                                                                                                                                                                                                                                                                                                                                 </span></td><td><span style=white-space:pre-wrap>NA                                                          </span></td><td><span style=white-space:pre-wrap>GPL-2 | GPL-3              </span></td><td>NA</td><td>NA</td><td>NA</td><td>NA</td><td>yes</td><td>4.2.0</td></tr>\n",
              "\t<tr><th scope=row>blob</th><td><span style=white-space:pre-wrap>blob       </span></td><td><span style=white-space:pre-wrap>/usr/lib/R/site-library      </span></td><td>1.2.4 </td><td>NA</td><td><span style=white-space:pre-wrap>NA                                                 </span></td><td><span style=white-space:pre-wrap>methods, rlang, vctrs (&gt;= 0.2.1)                                                                                                                                                                                                                                                                 </span></td><td>NA</td><td><span style=white-space:pre-wrap>covr, crayon, pillar (&gt;= 1.2.1), testthat                                                                                                                                                                                                                                                                                                                                                                                                                                                                                                                                                                                                                                                                                                                          </span></td><td><span style=white-space:pre-wrap>NA                                                          </span></td><td><span style=white-space:pre-wrap>MIT + file LICENSE         </span></td><td>NA</td><td>NA</td><td>NA</td><td>NA</td><td>no </td><td>4.2.3</td></tr>\n",
              "\t<tr><th scope=row>brew</th><td><span style=white-space:pre-wrap>brew       </span></td><td><span style=white-space:pre-wrap>/usr/lib/R/site-library      </span></td><td>1.0-8 </td><td>NA</td><td><span style=white-space:pre-wrap>NA                                                 </span></td><td><span style=white-space:pre-wrap>NA                                                                                                                                                                                                                                                                                               </span></td><td>NA</td><td><span style=white-space:pre-wrap>testthat (&gt;= 3.0.0)                                                                                                                                                                                                                                                                                                                                                                                                                                                                                                                                                                                                                                                                                                                                                </span></td><td><span style=white-space:pre-wrap>NA                                                          </span></td><td><span style=white-space:pre-wrap>GPL-2                      </span></td><td>NA</td><td>NA</td><td>NA</td><td>NA</td><td>no </td><td>4.2.1</td></tr>\n",
              "\t<tr><th scope=row>brio</th><td><span style=white-space:pre-wrap>brio       </span></td><td><span style=white-space:pre-wrap>/usr/lib/R/site-library      </span></td><td>1.1.3 </td><td>NA</td><td><span style=white-space:pre-wrap>NA                                                 </span></td><td><span style=white-space:pre-wrap>NA                                                                                                                                                                                                                                                                                               </span></td><td>NA</td><td><span style=white-space:pre-wrap>covr, testthat (&gt;= 2.1.0)                                                                                                                                                                                                                                                                                                                                                                                                                                                                                                                                                                                                                                                                                                                                          </span></td><td><span style=white-space:pre-wrap>NA                                                          </span></td><td><span style=white-space:pre-wrap>MIT + file LICENSE         </span></td><td>NA</td><td>NA</td><td>NA</td><td>NA</td><td>yes</td><td>4.2.0</td></tr>\n",
              "\t<tr><th scope=row>broom</th><td><span style=white-space:pre-wrap>broom      </span></td><td><span style=white-space:pre-wrap>/usr/lib/R/site-library      </span></td><td>1.0.5 </td><td>NA</td><td><span style=white-space:pre-wrap>R (&gt;= 3.5)                                         </span></td><td><span style=white-space:pre-wrap>backports, dplyr (&gt;= 1.0.0), ellipsis, generics (&gt;= 0.0.2),\n",
              "glue, lifecycle, purrr, rlang, stringr, tibble (&gt;= 3.0.0),\n",
              "tidyr (&gt;= 1.0.0)                                                                                                                                                        </span></td><td>NA</td><td>AER, AUC, bbmle, betareg, biglm, binGroup, boot, btergm (&gt;=\n",
              "1.10.6), car, carData, caret, cluster, cmprsk, coda, covr, drc,\n",
              "e1071, emmeans, epiR, ergm (&gt;= 3.10.4), fixest (&gt;= 0.9.0), gam\n",
              "(&gt;= 1.15), gee, geepack, ggplot2, glmnet, glmnetUtils, gmm,\n",
              "Hmisc, irlba, interp, joineRML, Kendall, knitr, ks, Lahman,\n",
              "lavaan, leaps, lfe, lm.beta, lme4, lmodel2, lmtest (&gt;= 0.9.38),\n",
              "lsmeans, maps, margins, MASS, mclust, mediation, metafor, mfx,\n",
              "mgcv, mlogit, modeldata, modeltests, muhaz, multcomp, network,\n",
              "nnet, orcutt (&gt;= 2.2), ordinal, plm, poLCA, psych, quantreg,\n",
              "rmarkdown, robust, robustbase, rsample, sandwich, sp, spdep (&gt;=\n",
              "1.1), spatialreg, speedglm, spelling, survey, survival,\n",
              "systemfit, testthat (&gt;= 2.1.0), tseries, vars, zoo</td><td><span style=white-space:pre-wrap>NA                                                          </span></td><td><span style=white-space:pre-wrap>MIT + file LICENSE         </span></td><td>NA</td><td>NA</td><td>NA</td><td>NA</td><td>no </td><td>4.3.1</td></tr>\n",
              "\t<tr><th scope=row>bslib</th><td><span style=white-space:pre-wrap>bslib      </span></td><td><span style=white-space:pre-wrap>/usr/lib/R/site-library      </span></td><td>0.5.1 </td><td>NA</td><td><span style=white-space:pre-wrap>R (&gt;= 2.10)                                        </span></td><td><span style=white-space:pre-wrap>base64enc, cachem, grDevices, htmltools (&gt;= 0.5.4), jquerylib\n",
              "(&gt;= 0.1.3), jsonlite, memoise (&gt;= 2.0.1), mime, rlang, sass (&gt;=\n",
              "0.4.0)                                                                                                                                                           </span></td><td>NA</td><td><span style=white-space:pre-wrap>bsicons, curl, fontawesome, ggplot2, knitr, magrittr,\n",
              "rappdirs, rmarkdown (&gt;= 2.7), shiny (&gt;= 1.6.0), testthat,\n",
              "thematic, withr                                                                                                                                                                                                                                                                                                                                                                                                                                                                                                                                                                                                                                  </span></td><td><span style=white-space:pre-wrap>NA                                                          </span></td><td><span style=white-space:pre-wrap>MIT + file LICENSE         </span></td><td>NA</td><td>NA</td><td>NA</td><td>NA</td><td>no </td><td>4.3.1</td></tr>\n",
              "\t<tr><th scope=row>cachem</th><td><span style=white-space:pre-wrap>cachem     </span></td><td><span style=white-space:pre-wrap>/usr/lib/R/site-library      </span></td><td>1.0.8 </td><td>NA</td><td><span style=white-space:pre-wrap>NA                                                 </span></td><td><span style=white-space:pre-wrap>rlang, fastmap (&gt;= 1.1.1)                                                                                                                                                                                                                                                                        </span></td><td>NA</td><td><span style=white-space:pre-wrap>testthat                                                                                                                                                                                                                                                                                                                                                                                                                                                                                                                                                                                                                                                                                                                                                           </span></td><td><span style=white-space:pre-wrap>NA                                                          </span></td><td><span style=white-space:pre-wrap>MIT + file LICENSE         </span></td><td>NA</td><td>NA</td><td>NA</td><td>NA</td><td>yes</td><td>4.3.0</td></tr>\n",
              "\t<tr><th scope=row>callr</th><td><span style=white-space:pre-wrap>callr      </span></td><td><span style=white-space:pre-wrap>/usr/lib/R/site-library      </span></td><td>3.7.3 </td><td>NA</td><td><span style=white-space:pre-wrap>R (&gt;= 3.4)                                         </span></td><td><span style=white-space:pre-wrap>processx (&gt;= 3.6.1), R6, utils                                                                                                                                                                                                                                                                   </span></td><td>NA</td><td><span style=white-space:pre-wrap>asciicast, cli (&gt;= 1.1.0), covr, mockery, ps, rprojroot,\n",
              "spelling, testthat (&gt;= 3.0.0), withr (&gt;= 2.3.0)                                                                                                                                                                                                                                                                                                                                                                                                                                                                                                                                                                                                                                                          </span></td><td><span style=white-space:pre-wrap>NA                                                          </span></td><td><span style=white-space:pre-wrap>MIT + file LICENSE         </span></td><td>NA</td><td>NA</td><td>NA</td><td>NA</td><td>no </td><td>4.2.2</td></tr>\n",
              "\t<tr><th scope=row>cellranger</th><td>cellranger </td><td><span style=white-space:pre-wrap>/usr/lib/R/site-library      </span></td><td>1.1.0 </td><td>NA</td><td><span style=white-space:pre-wrap>R (&gt;= 3.0.0)                                       </span></td><td><span style=white-space:pre-wrap>rematch, tibble                                                                                                                                                                                                                                                                                  </span></td><td>NA</td><td><span style=white-space:pre-wrap>covr, testthat (&gt;= 1.0.0), knitr, rmarkdown                                                                                                                                                                                                                                                                                                                                                                                                                                                                                                                                                                                                                                                                                                                        </span></td><td><span style=white-space:pre-wrap>NA                                                          </span></td><td><span style=white-space:pre-wrap>MIT + file LICENSE         </span></td><td>NA</td><td>NA</td><td>NA</td><td>NA</td><td>no </td><td>4.0.1</td></tr>\n",
              "\t<tr><th scope=row>cli</th><td><span style=white-space:pre-wrap>cli        </span></td><td><span style=white-space:pre-wrap>/usr/lib/R/site-library      </span></td><td>3.6.1 </td><td>NA</td><td><span style=white-space:pre-wrap>R (&gt;= 3.4)                                         </span></td><td><span style=white-space:pre-wrap>utils                                                                                                                                                                                                                                                                                            </span></td><td>NA</td><td><span style=white-space:pre-wrap>callr, covr, crayon, digest, glue (&gt;= 1.6.0), grDevices,\n",
              "htmltools, htmlwidgets, knitr, methods, mockery, processx, ps\n",
              "(&gt;= 1.3.4.9000), rlang (&gt;= 1.0.2.9003), rmarkdown, rprojroot,\n",
              "rstudioapi, testthat, tibble, whoami, withr                                                                                                                                                                                                                                                                                                                                                                                                                                                                                                                                </span></td><td><span style=white-space:pre-wrap>NA                                                          </span></td><td><span style=white-space:pre-wrap>MIT + file LICENSE         </span></td><td>NA</td><td>NA</td><td>NA</td><td>NA</td><td>yes</td><td>4.2.3</td></tr>\n",
              "\t<tr><th scope=row>clipr</th><td><span style=white-space:pre-wrap>clipr      </span></td><td><span style=white-space:pre-wrap>/usr/lib/R/site-library      </span></td><td>0.8.0 </td><td>NA</td><td><span style=white-space:pre-wrap>NA                                                 </span></td><td><span style=white-space:pre-wrap>utils                                                                                                                                                                                                                                                                                            </span></td><td>NA</td><td><span style=white-space:pre-wrap>covr, knitr, rmarkdown, rstudioapi (&gt;= 0.5), testthat (&gt;=\n",
              "2.0.0)                                                                                                                                                                                                                                                                                                                                                                                                                                                                                                                                                                                                                                                                                                  </span></td><td><span style=white-space:pre-wrap>NA                                                          </span></td><td><span style=white-space:pre-wrap>GPL-3                      </span></td><td>NA</td><td>NA</td><td>NA</td><td>NA</td><td>no </td><td>4.2.0</td></tr>\n",
              "\t<tr><th scope=row>colorspace</th><td>colorspace </td><td><span style=white-space:pre-wrap>/usr/lib/R/site-library      </span></td><td>2.1-0 </td><td>NA</td><td><span style=white-space:pre-wrap>R (&gt;= 3.0.0), methods                              </span></td><td><span style=white-space:pre-wrap>graphics, grDevices, stats                                                                                                                                                                                                                                                                       </span></td><td>NA</td><td><span style=white-space:pre-wrap>datasets, utils, KernSmooth, MASS, kernlab, mvtnorm, vcd,\n",
              "tcltk, shiny, shinyjs, ggplot2, dplyr, scales, grid, png, jpeg,\n",
              "knitr, rmarkdown, RColorBrewer, rcartocolor, scico, viridis,\n",
              "wesanderson                                                                                                                                                                                                                                                                                                                                                                                                                                                                                                                                                              </span></td><td><span style=white-space:pre-wrap>NA                                                          </span></td><td>BSD_3_clause + file LICENSE</td><td>NA</td><td>NA</td><td>NA</td><td>NA</td><td>yes</td><td>4.2.2</td></tr>\n",
              "\t<tr><th scope=row>commonmark</th><td>commonmark </td><td>/usr/lib/R/site-library      </td><td>1.9.0 </td><td>NA</td><td>NA                                                 </td><td>NA                                                                                                                                                                                                                                                                                               </td><td>NA</td><td>curl, testthat, xml2                                                                                                                                                                                                                                                                                                                                                                                                                                                                                                                                                                                                                                                                                                                                               </td><td>NA                                                          </td><td>BSD_2_clause + file LICENSE</td><td>NA</td><td>NA</td><td>NA</td><td>NA</td><td>yes</td><td>4.2.3</td></tr>\n",
              "\t<tr><th scope=row>conflicted</th><td>conflicted </td><td><span style=white-space:pre-wrap>/usr/lib/R/site-library      </span></td><td>1.2.0 </td><td>NA</td><td><span style=white-space:pre-wrap>R (&gt;= 3.2)                                         </span></td><td><span style=white-space:pre-wrap>cli (&gt;= 3.4.0), memoise, rlang (&gt;= 1.0.0)                                                                                                                                                                                                                                                        </span></td><td>NA</td><td><span style=white-space:pre-wrap>callr, covr, dplyr, Matrix, methods, pkgload, testthat (&gt;=\n",
              "3.0.0), withr                                                                                                                                                                                                                                                                                                                                                                                                                                                                                                                                                                                                                                                                                          </span></td><td><span style=white-space:pre-wrap>NA                                                          </span></td><td><span style=white-space:pre-wrap>MIT + file LICENSE         </span></td><td>NA</td><td>NA</td><td>NA</td><td>NA</td><td>no </td><td>4.2.2</td></tr>\n",
              "\t<tr><th scope=row>cpp11</th><td><span style=white-space:pre-wrap>cpp11      </span></td><td><span style=white-space:pre-wrap>/usr/lib/R/site-library      </span></td><td>0.4.6 </td><td>NA</td><td><span style=white-space:pre-wrap>R (&gt;= 3.5.0)                                       </span></td><td><span style=white-space:pre-wrap>NA                                                                                                                                                                                                                                                                                               </span></td><td>NA</td><td><span style=white-space:pre-wrap>bench, brio, callr, cli, covr, decor, desc, ggplot2, glue,\n",
              "knitr, lobstr, mockery, progress, rmarkdown, scales, Rcpp,\n",
              "testthat, tibble, utils, vctrs, withr                                                                                                                                                                                                                                                                                                                                                                                                                                                                                                                                                                                                      </span></td><td><span style=white-space:pre-wrap>NA                                                          </span></td><td><span style=white-space:pre-wrap>MIT + file LICENSE         </span></td><td>NA</td><td>NA</td><td>NA</td><td>NA</td><td>no </td><td>4.3.1</td></tr>\n",
              "\t<tr><th scope=row>crayon</th><td>crayon     </td><td>/usr/lib/R/site-library      </td><td>1.5.2 </td><td>NA</td><td>NA                                                 </td><td>grDevices, methods, utils                                                                                                                                                                                                                                                                        </td><td>NA</td><td>mockery, rstudioapi, testthat, withr                                                                                                                                                                                                                                                                                                                                                                                                                                                                                                                                                                                                                                                                                                                               </td><td>NA                                                          </td><td>MIT + file LICENSE         </td><td>NA</td><td>NA</td><td>NA</td><td>NA</td><td>no </td><td>4.2.1</td></tr>\n",
              "\t<tr><th scope=row>credentials</th><td>credentials</td><td><span style=white-space:pre-wrap>/usr/lib/R/site-library      </span></td><td>2.0.1 </td><td>NA</td><td><span style=white-space:pre-wrap>NA                                                 </span></td><td><span style=white-space:pre-wrap>openssl (&gt;= 1.3), sys (&gt;= 2.1), curl, jsonlite, askpass                                                                                                                                                                                                                                          </span></td><td>NA</td><td><span style=white-space:pre-wrap>testthat, knitr, rmarkdown                                                                                                                                                                                                                                                                                                                                                                                                                                                                                                                                                                                                                                                                                                                                         </span></td><td><span style=white-space:pre-wrap>NA                                                          </span></td><td><span style=white-space:pre-wrap>MIT + file LICENSE         </span></td><td>NA</td><td>NA</td><td>NA</td><td>NA</td><td>no </td><td>4.3.1</td></tr>\n",
              "\t<tr><th scope=row>curl</th><td><span style=white-space:pre-wrap>curl       </span></td><td><span style=white-space:pre-wrap>/usr/lib/R/site-library      </span></td><td>5.0.2 </td><td>NA</td><td><span style=white-space:pre-wrap>R (&gt;= 3.0.0)                                       </span></td><td><span style=white-space:pre-wrap>NA                                                                                                                                                                                                                                                                                               </span></td><td>NA</td><td><span style=white-space:pre-wrap>spelling, testthat (&gt;= 1.0.0), knitr, jsonlite, rmarkdown,\n",
              "magrittr, httpuv (&gt;= 1.4.4), webutils                                                                                                                                                                                                                                                                                                                                                                                                                                                                                                                                                                                                                                                                  </span></td><td><span style=white-space:pre-wrap>NA                                                          </span></td><td><span style=white-space:pre-wrap>MIT + file LICENSE         </span></td><td>NA</td><td>NA</td><td>NA</td><td>NA</td><td>yes</td><td>4.3.1</td></tr>\n",
              "\t<tr><th scope=row>data.table</th><td>data.table </td><td><span style=white-space:pre-wrap>/usr/lib/R/site-library      </span></td><td>1.14.8</td><td>NA</td><td><span style=white-space:pre-wrap>R (&gt;= 3.1.0)                                       </span></td><td><span style=white-space:pre-wrap>methods                                                                                                                                                                                                                                                                                          </span></td><td>NA</td><td><span style=white-space:pre-wrap>bit64 (&gt;= 4.0.0), bit (&gt;= 4.0.4), curl, R.utils, xts,\n",
              "nanotime, zoo (&gt;= 1.8-1), yaml, knitr, rmarkdown                                                                                                                                                                                                                                                                                                                                                                                                                                                                                                                                                                                                                                                            </span></td><td><span style=white-space:pre-wrap>NA                                                          </span></td><td><span style=white-space:pre-wrap>MPL-2.0 | file LICENSE     </span></td><td>NA</td><td>NA</td><td>NA</td><td>NA</td><td>yes</td><td>4.2.2</td></tr>\n",
              "\t<tr><th scope=row>DBI</th><td><span style=white-space:pre-wrap>DBI        </span></td><td><span style=white-space:pre-wrap>/usr/lib/R/site-library      </span></td><td>1.1.3 </td><td>NA</td><td><span style=white-space:pre-wrap>methods, R (&gt;= 3.0.0)                              </span></td><td><span style=white-space:pre-wrap>NA                                                                                                                                                                                                                                                                                               </span></td><td>NA</td><td><span style=white-space:pre-wrap>blob, covr, DBItest, dbplyr, downlit, dplyr, glue, hms,\n",
              "knitr, magrittr, RMariaDB, rmarkdown, rprojroot, RSQLite (&gt;=\n",
              "1.1-2), testthat, xml2                                                                                                                                                                                                                                                                                                                                                                                                                                                                                                                                                                                                                      </span></td><td><span style=white-space:pre-wrap>NA                                                          </span></td><td><span style=white-space:pre-wrap>LGPL (&gt;= 2.1)              </span></td><td>NA</td><td>NA</td><td>NA</td><td>NA</td><td>no </td><td>4.2.1</td></tr>\n",
              "\t<tr><th scope=row>dbplyr</th><td><span style=white-space:pre-wrap>dbplyr     </span></td><td><span style=white-space:pre-wrap>/usr/lib/R/site-library      </span></td><td>2.3.4 </td><td>NA</td><td><span style=white-space:pre-wrap>R (&gt;= 3.1)                                         </span></td><td>blob (&gt;= 1.2.0), cli (&gt;= 3.4.1), DBI (&gt;= 1.0.0), dplyr (&gt;=\n",
              "1.1.0), glue (&gt;= 1.2.0), lifecycle (&gt;= 1.0.3), magrittr,\n",
              "methods, pillar (&gt;= 1.5.0), purrr (&gt;= 1.0.1), R6 (&gt;= 2.2.2),\n",
              "rlang (&gt;= 1.0.6), tibble (&gt;= 1.4.2), tidyr (&gt;= 1.3.0),\n",
              "tidyselect (&gt;= 1.2.0), utils, vctrs (&gt;= 0.5.0), withr</td><td>NA</td><td><span style=white-space:pre-wrap>bit64, covr, knitr, Lahman, nycflights13, odbc, RMariaDB (&gt;=\n",
              "1.0.2), rmarkdown, RPostgres (&gt;= 1.1.3), RPostgreSQL, RSQLite\n",
              "(&gt;= 2.2.15), testthat (&gt;= 3.0.2)                                                                                                                                                                                                                                                                                                                                                                                                                                                                                                                                                                                                      </span></td><td><span style=white-space:pre-wrap>NA                                                          </span></td><td><span style=white-space:pre-wrap>MIT + file LICENSE         </span></td><td>NA</td><td>NA</td><td>NA</td><td>NA</td><td>no </td><td>4.3.1</td></tr>\n",
              "\t<tr><th scope=row>desc</th><td><span style=white-space:pre-wrap>desc       </span></td><td><span style=white-space:pre-wrap>/usr/lib/R/site-library      </span></td><td>1.4.2 </td><td>NA</td><td><span style=white-space:pre-wrap>R (&gt;= 3.4)                                         </span></td><td><span style=white-space:pre-wrap>cli, R6, rprojroot, utils                                                                                                                                                                                                                                                                        </span></td><td>NA</td><td><span style=white-space:pre-wrap>callr, covr, gh, spelling, testthat, whoami, withr                                                                                                                                                                                                                                                                                                                                                                                                                                                                                                                                                                                                                                                                                                                 </span></td><td><span style=white-space:pre-wrap>NA                                                          </span></td><td><span style=white-space:pre-wrap>MIT + file LICENSE         </span></td><td>NA</td><td>NA</td><td>NA</td><td>NA</td><td>no </td><td>4.2.1</td></tr>\n",
              "\t<tr><th scope=row>⋮</th><td>⋮</td><td>⋮</td><td>⋮</td><td>⋮</td><td>⋮</td><td>⋮</td><td>⋮</td><td>⋮</td><td>⋮</td><td>⋮</td><td>⋮</td><td>⋮</td><td>⋮</td><td>⋮</td><td>⋮</td><td>⋮</td></tr>\n",
              "\t<tr><th scope=row>zip</th><td>zip       </td><td>/usr/lib/R/site-library</td><td>2.3.0  </td><td>NA         </td><td>NA                                           </td><td>NA                                              </td><td>NA</td><td>covr, processx, R6, testthat, withr                                  </td><td>NA            </td><td>MIT + file LICENSE       </td><td>NA</td><td>NA</td><td>NA</td><td>NA</td><td>yes</td><td>4.3.0</td></tr>\n",
              "\t<tr><th scope=row>base</th><td>base      </td><td>/usr/lib/R/library     </td><td>4.3.1  </td><td>base       </td><td>NA                                           </td><td>NA                                              </td><td>NA</td><td>methods                                                              </td><td>NA            </td><td>Part of R 4.3.1          </td><td>NA</td><td>NA</td><td>NA</td><td>NA</td><td>NA </td><td>4.3.1</td></tr>\n",
              "\t<tr><th scope=row>boot</th><td><span style=white-space:pre-wrap>boot      </span></td><td><span style=white-space:pre-wrap>/usr/lib/R/library     </span></td><td>1.3-28 </td><td>recommended</td><td><span style=white-space:pre-wrap>R (&gt;= 3.0.0), graphics, stats                </span></td><td><span style=white-space:pre-wrap>NA                                              </span></td><td>NA</td><td><span style=white-space:pre-wrap>MASS, survival                                                       </span></td><td><span style=white-space:pre-wrap>NA            </span></td><td><span style=white-space:pre-wrap>Unlimited                </span></td><td>NA</td><td>NA</td><td>NA</td><td>NA</td><td>no </td><td>4.2.0</td></tr>\n",
              "\t<tr><th scope=row>class</th><td><span style=white-space:pre-wrap>class     </span></td><td><span style=white-space:pre-wrap>/usr/lib/R/library     </span></td><td>7.3-22 </td><td>recommended</td><td><span style=white-space:pre-wrap>R (&gt;= 3.0.0), stats, utils                   </span></td><td><span style=white-space:pre-wrap>MASS                                            </span></td><td>NA</td><td><span style=white-space:pre-wrap>NA                                                                   </span></td><td><span style=white-space:pre-wrap>NA            </span></td><td><span style=white-space:pre-wrap>GPL-2 | GPL-3            </span></td><td>NA</td><td>NA</td><td>NA</td><td>NA</td><td>yes</td><td>4.3.1</td></tr>\n",
              "\t<tr><th scope=row>cluster</th><td><span style=white-space:pre-wrap>cluster   </span></td><td><span style=white-space:pre-wrap>/usr/lib/R/library     </span></td><td><span style=white-space:pre-wrap>2.1.4  </span></td><td>recommended</td><td><span style=white-space:pre-wrap>R (&gt;= 3.5.0)                                 </span></td><td><span style=white-space:pre-wrap>graphics, grDevices, stats, utils               </span></td><td>NA</td><td><span style=white-space:pre-wrap>MASS, Matrix                                                         </span></td><td><span style=white-space:pre-wrap>NA            </span></td><td><span style=white-space:pre-wrap>GPL (&gt;= 2)               </span></td><td>NA</td><td>NA</td><td>NA</td><td>NA</td><td>yes</td><td>4.2.1</td></tr>\n",
              "\t<tr><th scope=row>codetools</th><td>codetools </td><td><span style=white-space:pre-wrap>/usr/lib/R/library     </span></td><td>0.2-19 </td><td>recommended</td><td><span style=white-space:pre-wrap>R (&gt;= 2.1)                                   </span></td><td><span style=white-space:pre-wrap>NA                                              </span></td><td>NA</td><td><span style=white-space:pre-wrap>NA                                                                   </span></td><td><span style=white-space:pre-wrap>NA            </span></td><td><span style=white-space:pre-wrap>GPL                      </span></td><td>NA</td><td>NA</td><td>NA</td><td>NA</td><td>no </td><td>4.2.2</td></tr>\n",
              "\t<tr><th scope=row>compiler</th><td>compiler  </td><td>/usr/lib/R/library     </td><td>4.3.1  </td><td>base       </td><td>NA                                           </td><td>NA                                              </td><td>NA</td><td>NA                                                                   </td><td>NA            </td><td>Part of R 4.3.1          </td><td>NA</td><td>NA</td><td>NA</td><td>NA</td><td>NA </td><td>4.3.1</td></tr>\n",
              "\t<tr><th scope=row>datasets</th><td>datasets  </td><td>/usr/lib/R/library     </td><td>4.3.1  </td><td>base       </td><td>NA                                           </td><td>NA                                              </td><td>NA</td><td>NA                                                                   </td><td>NA            </td><td>Part of R 4.3.1          </td><td>NA</td><td>NA</td><td>NA</td><td>NA</td><td>NA </td><td>4.3.1</td></tr>\n",
              "\t<tr><th scope=row>foreign</th><td><span style=white-space:pre-wrap>foreign   </span></td><td><span style=white-space:pre-wrap>/usr/lib/R/library     </span></td><td>0.8-85 </td><td>recommended</td><td><span style=white-space:pre-wrap>R (&gt;= 4.0.0)                                 </span></td><td><span style=white-space:pre-wrap>methods, utils, stats                           </span></td><td>NA</td><td><span style=white-space:pre-wrap>NA                                                                   </span></td><td><span style=white-space:pre-wrap>NA            </span></td><td><span style=white-space:pre-wrap>GPL (&gt;= 2)               </span></td><td>NA</td><td>NA</td><td>NA</td><td>NA</td><td>yes</td><td>4.3.1</td></tr>\n",
              "\t<tr><th scope=row>graphics</th><td>graphics  </td><td>/usr/lib/R/library     </td><td>4.3.1  </td><td>base       </td><td>NA                                           </td><td>grDevices                                       </td><td>NA</td><td>NA                                                                   </td><td>NA            </td><td>Part of R 4.3.1          </td><td>NA</td><td>NA</td><td>NA</td><td>NA</td><td>yes</td><td>4.3.1</td></tr>\n",
              "\t<tr><th scope=row>grDevices</th><td>grDevices </td><td>/usr/lib/R/library     </td><td>4.3.1  </td><td>base       </td><td>NA                                           </td><td>NA                                              </td><td>NA</td><td>KernSmooth                                                           </td><td>NA            </td><td>Part of R 4.3.1          </td><td>NA</td><td>NA</td><td>NA</td><td>NA</td><td>yes</td><td>4.3.1</td></tr>\n",
              "\t<tr><th scope=row>grid</th><td>grid      </td><td>/usr/lib/R/library     </td><td>4.3.1  </td><td>base       </td><td>NA                                           </td><td>grDevices, utils                                </td><td>NA</td><td>NA                                                                   </td><td>NA            </td><td>Part of R 4.3.1          </td><td>NA</td><td>NA</td><td>NA</td><td>NA</td><td>yes</td><td>4.3.1</td></tr>\n",
              "\t<tr><th scope=row>KernSmooth</th><td>KernSmooth</td><td><span style=white-space:pre-wrap>/usr/lib/R/library     </span></td><td>2.23-22</td><td>recommended</td><td><span style=white-space:pre-wrap>R (&gt;= 2.5.0), stats                          </span></td><td><span style=white-space:pre-wrap>NA                                              </span></td><td>NA</td><td><span style=white-space:pre-wrap>MASS, carData                                                        </span></td><td><span style=white-space:pre-wrap>NA            </span></td><td><span style=white-space:pre-wrap>Unlimited                </span></td><td>NA</td><td>NA</td><td>NA</td><td>NA</td><td>yes</td><td>4.3.1</td></tr>\n",
              "\t<tr><th scope=row>lattice</th><td><span style=white-space:pre-wrap>lattice   </span></td><td><span style=white-space:pre-wrap>/usr/lib/R/library     </span></td><td>0.21-9 </td><td>recommended</td><td><span style=white-space:pre-wrap>R (&gt;= 4.0.0)                                 </span></td><td><span style=white-space:pre-wrap>grid, grDevices, graphics, stats, utils         </span></td><td>NA</td><td><span style=white-space:pre-wrap>KernSmooth, MASS, latticeExtra, colorspace                           </span></td><td><span style=white-space:pre-wrap>chron         </span></td><td><span style=white-space:pre-wrap>GPL (&gt;= 2)               </span></td><td>NA</td><td>NA</td><td>NA</td><td>NA</td><td>yes</td><td>4.3.1</td></tr>\n",
              "\t<tr><th scope=row>MASS</th><td><span style=white-space:pre-wrap>MASS      </span></td><td><span style=white-space:pre-wrap>/usr/lib/R/library     </span></td><td>7.3-60 </td><td>recommended</td><td>R (&gt;= 4.0), grDevices, graphics, stats, utils</td><td><span style=white-space:pre-wrap>methods                                         </span></td><td>NA</td><td><span style=white-space:pre-wrap>lattice, nlme, nnet, survival                                        </span></td><td><span style=white-space:pre-wrap>NA            </span></td><td><span style=white-space:pre-wrap>GPL-2 | GPL-3            </span></td><td>NA</td><td>NA</td><td>NA</td><td>NA</td><td>yes</td><td>4.3.1</td></tr>\n",
              "\t<tr><th scope=row>Matrix</th><td><span style=white-space:pre-wrap>Matrix    </span></td><td><span style=white-space:pre-wrap>/usr/lib/R/library     </span></td><td>1.6-1.1</td><td>recommended</td><td><span style=white-space:pre-wrap>R (&gt;= 3.5.0), methods                        </span></td><td>grDevices, graphics, grid, lattice, stats, utils</td><td>NA</td><td><span style=white-space:pre-wrap>MASS, datasets, sfsmisc                                              </span></td><td>SparseM, graph</td><td>GPL (&gt;= 2) | file LICENCE</td><td>NA</td><td>NA</td><td>NA</td><td>NA</td><td>yes</td><td>4.3.1</td></tr>\n",
              "\t<tr><th scope=row>methods</th><td>methods   </td><td>/usr/lib/R/library     </td><td>4.3.1  </td><td>base       </td><td>NA                                           </td><td>utils, stats                                    </td><td>NA</td><td>codetools                                                            </td><td>NA            </td><td>Part of R 4.3.1          </td><td>NA</td><td>NA</td><td>NA</td><td>NA</td><td>yes</td><td>4.3.1</td></tr>\n",
              "\t<tr><th scope=row>mgcv</th><td><span style=white-space:pre-wrap>mgcv      </span></td><td><span style=white-space:pre-wrap>/usr/lib/R/library     </span></td><td><span style=white-space:pre-wrap>1.9-0  </span></td><td>recommended</td><td><span style=white-space:pre-wrap>R (&gt;= 3.6.0), nlme (&gt;= 3.1-64)               </span></td><td>methods, stats, graphics, Matrix, splines, utils</td><td>NA</td><td><span style=white-space:pre-wrap>parallel, survival, MASS                                             </span></td><td><span style=white-space:pre-wrap>NA            </span></td><td><span style=white-space:pre-wrap>GPL (&gt;= 2)               </span></td><td>NA</td><td>NA</td><td>NA</td><td>NA</td><td>yes</td><td>4.3.1</td></tr>\n",
              "\t<tr><th scope=row>nlme</th><td><span style=white-space:pre-wrap>nlme      </span></td><td><span style=white-space:pre-wrap>/usr/lib/R/library     </span></td><td>3.1-163</td><td>recommended</td><td><span style=white-space:pre-wrap>R (&gt;= 3.5.0)                                 </span></td><td><span style=white-space:pre-wrap>graphics, stats, utils, lattice                 </span></td><td>NA</td><td><span style=white-space:pre-wrap>Hmisc, MASS, SASmixed                                                </span></td><td><span style=white-space:pre-wrap>NA            </span></td><td><span style=white-space:pre-wrap>GPL (&gt;= 2)               </span></td><td>NA</td><td>NA</td><td>NA</td><td>NA</td><td>yes</td><td>4.3.1</td></tr>\n",
              "\t<tr><th scope=row>nnet</th><td><span style=white-space:pre-wrap>nnet      </span></td><td><span style=white-space:pre-wrap>/usr/lib/R/library     </span></td><td>7.3-19 </td><td>recommended</td><td><span style=white-space:pre-wrap>R (&gt;= 3.0.0), stats, utils                   </span></td><td><span style=white-space:pre-wrap>NA                                              </span></td><td>NA</td><td><span style=white-space:pre-wrap>MASS                                                                 </span></td><td><span style=white-space:pre-wrap>NA            </span></td><td><span style=white-space:pre-wrap>GPL-2 | GPL-3            </span></td><td>NA</td><td>NA</td><td>NA</td><td>NA</td><td>yes</td><td>4.3.1</td></tr>\n",
              "\t<tr><th scope=row>parallel</th><td>parallel  </td><td>/usr/lib/R/library     </td><td>4.3.1  </td><td>base       </td><td>NA                                           </td><td>tools, compiler                                 </td><td>NA</td><td>methods                                                              </td><td>snow, Rmpi    </td><td>Part of R 4.3.1          </td><td>NA</td><td>NA</td><td>NA</td><td>NA</td><td>yes</td><td>4.3.1</td></tr>\n",
              "\t<tr><th scope=row>rpart</th><td><span style=white-space:pre-wrap>rpart     </span></td><td><span style=white-space:pre-wrap>/usr/lib/R/library     </span></td><td>4.1.19 </td><td>recommended</td><td><span style=white-space:pre-wrap>R (&gt;= 2.15.0), graphics, stats, grDevices    </span></td><td><span style=white-space:pre-wrap>NA                                              </span></td><td>NA</td><td><span style=white-space:pre-wrap>survival                                                             </span></td><td><span style=white-space:pre-wrap>NA            </span></td><td><span style=white-space:pre-wrap>GPL-2 | GPL-3            </span></td><td>NA</td><td>NA</td><td>NA</td><td>NA</td><td>yes</td><td>4.2.1</td></tr>\n",
              "\t<tr><th scope=row>spatial</th><td><span style=white-space:pre-wrap>spatial   </span></td><td><span style=white-space:pre-wrap>/usr/lib/R/library     </span></td><td>7.3-17 </td><td>recommended</td><td><span style=white-space:pre-wrap>R (&gt;= 3.0.0), graphics, stats, utils         </span></td><td><span style=white-space:pre-wrap>NA                                              </span></td><td>NA</td><td><span style=white-space:pre-wrap>MASS                                                                 </span></td><td><span style=white-space:pre-wrap>NA            </span></td><td><span style=white-space:pre-wrap>GPL-2 | GPL-3            </span></td><td>NA</td><td>NA</td><td>NA</td><td>NA</td><td>yes</td><td>4.3.1</td></tr>\n",
              "\t<tr><th scope=row>splines</th><td>splines   </td><td>/usr/lib/R/library     </td><td>4.3.1  </td><td>base       </td><td>NA                                           </td><td>graphics, stats                                 </td><td>NA</td><td>Matrix, methods                                                      </td><td>NA            </td><td>Part of R 4.3.1          </td><td>NA</td><td>NA</td><td>NA</td><td>NA</td><td>yes</td><td>4.3.1</td></tr>\n",
              "\t<tr><th scope=row>stats</th><td>stats     </td><td>/usr/lib/R/library     </td><td>4.3.1  </td><td>base       </td><td>NA                                           </td><td>utils, grDevices, graphics                      </td><td>NA</td><td>MASS, Matrix, SuppDists, methods, stats4                             </td><td>NA            </td><td>Part of R 4.3.1          </td><td>NA</td><td>NA</td><td>NA</td><td>NA</td><td>yes</td><td>4.3.1</td></tr>\n",
              "\t<tr><th scope=row>stats4</th><td>stats4    </td><td>/usr/lib/R/library     </td><td>4.3.1  </td><td>base       </td><td>NA                                           </td><td>graphics, methods, stats                        </td><td>NA</td><td>NA                                                                   </td><td>NA            </td><td>Part of R 4.3.1          </td><td>NA</td><td>NA</td><td>NA</td><td>NA</td><td>NA </td><td>4.3.1</td></tr>\n",
              "\t<tr><th scope=row>survival</th><td><span style=white-space:pre-wrap>survival  </span></td><td><span style=white-space:pre-wrap>/usr/lib/R/library     </span></td><td><span style=white-space:pre-wrap>3.5-7  </span></td><td>recommended</td><td><span style=white-space:pre-wrap>R (&gt;= 3.5.0)                                 </span></td><td>graphics, Matrix, methods, splines, stats, utils</td><td>NA</td><td><span style=white-space:pre-wrap>NA                                                                   </span></td><td><span style=white-space:pre-wrap>NA            </span></td><td><span style=white-space:pre-wrap>LGPL (&gt;= 2)              </span></td><td>NA</td><td>NA</td><td>NA</td><td>NA</td><td>yes</td><td>4.3.1</td></tr>\n",
              "\t<tr><th scope=row>tcltk</th><td>tcltk     </td><td>/usr/lib/R/library     </td><td>4.3.1  </td><td>base       </td><td>NA                                           </td><td>utils                                           </td><td>NA</td><td>NA                                                                   </td><td>NA            </td><td>Part of R 4.3.1          </td><td>NA</td><td>NA</td><td>NA</td><td>NA</td><td>yes</td><td>4.3.1</td></tr>\n",
              "\t<tr><th scope=row>tools</th><td>tools     </td><td>/usr/lib/R/library     </td><td>4.3.1  </td><td>base       </td><td>NA                                           </td><td>NA                                              </td><td>NA</td><td>codetools, methods, xml2, curl, commonmark, knitr, xfun, mathjaxr, V8</td><td>NA            </td><td>Part of R 4.3.1          </td><td>NA</td><td>NA</td><td>NA</td><td>NA</td><td>yes</td><td>4.3.1</td></tr>\n",
              "\t<tr><th scope=row>utils</th><td>utils     </td><td>/usr/lib/R/library     </td><td>4.3.1  </td><td>base       </td><td>NA                                           </td><td>NA                                              </td><td>NA</td><td>methods, xml2, commonmark, knitr                                     </td><td>NA            </td><td>Part of R 4.3.1          </td><td>NA</td><td>NA</td><td>NA</td><td>NA</td><td>yes</td><td>4.3.1</td></tr>\n",
              "</tbody>\n",
              "</table>\n"
            ],
            "text/markdown": "\nA matrix: 163 × 16 of type chr\n\n| <!--/--> | Package | LibPath | Version | Priority | Depends | Imports | LinkingTo | Suggests | Enhances | License | License_is_FOSS | License_restricts_use | OS_type | MD5sum | NeedsCompilation | Built |\n|---|---|---|---|---|---|---|---|---|---|---|---|---|---|---|---|---|\n| IRdisplay | IRdisplay   | /usr/local/lib/R/site-library | 1.1    | NA | R (&gt;= 3.0.1)                                        | methods, repr                                                                                                                                                                                                                                                                                     | NA | testthat, withr                                                                                                                                                                                                                                                                                                                                                                                                                                                                                                                                                                                                                                                                                                                                                     | NA                                                           | MIT + file LICENSE          | NA | NA | NA | NA | no  | 4.3.1 |\n| IRkernel | IRkernel    | /usr/local/lib/R/site-library | 1.3.2  | NA | R (&gt;= 3.2.0)                                        | repr (&gt;= 0.4.99), methods, evaluate (&gt;= 0.10), IRdisplay (&gt;=\n0.3.0.9999), pbdZMQ (&gt;= 0.2-1), crayon, jsonlite (&gt;= 0.9.6),\nuuid, digest                                                                                                                                                          | NA | testthat, roxygen2                                                                                                                                                                                                                                                                                                                                                                                                                                                                                                                                                                                                                                                                                                                                                  | NA                                                           | MIT + file LICENSE          | NA | NA | NA | NA | no  | 4.3.1 |\n| pbdZMQ | pbdZMQ      | /usr/local/lib/R/site-library | 0.3-10 | NA | R (&gt;= 3.5.0)                                        | NA                                                                                                                                                                                                                                                                                                | NA | NA                                                                                                                                                                                                                                                                                                                                                                                                                                                                                                                                                                                                                                                                                                                                                                  | NA                                                           | GPL-3                       | NA | NA | NA | NA | yes | 4.3.1 |\n| repr | repr        | /usr/local/lib/R/site-library | 1.1.6  | NA | R (&gt;= 3.0.1)                                        | utils, grDevices, htmltools, jsonlite, pillar (&gt;= 1.4.0),\nbase64enc                                                                                                                                                                                                                              | NA | methods, highr, Cairo, stringr, testthat (&gt;= 3.0.0), leaflet                                                                                                                                                                                                                                                                                                                                                                                                                                                                                                                                                                                                                                                                                                        | data.table, tibble, htmlwidgets, vegalite, plotly, geojsonio | GPL (&gt;= 3)                  | NA | NA | NA | NA | no  | 4.3.1 |\n| askpass | askpass     | /usr/lib/R/site-library       | 1.2.0  | NA | NA                                                  | sys (&gt;= 2.1)                                                                                                                                                                                                                                                                                      | NA | testthat                                                                                                                                                                                                                                                                                                                                                                                                                                                                                                                                                                                                                                                                                                                                                            | NA                                                           | MIT + file LICENSE          | NA | NA | NA | NA | yes | 4.3.1 |\n| backports | backports   | /usr/lib/R/site-library       | 1.4.1  | NA | R (&gt;= 3.0.0)                                        | NA                                                                                                                                                                                                                                                                                                | NA | NA                                                                                                                                                                                                                                                                                                                                                                                                                                                                                                                                                                                                                                                                                                                                                                  | NA                                                           | GPL-2 | GPL-3               | NA | NA | NA | NA | yes | 4.2.0 |\n| base64enc | base64enc   | /usr/lib/R/site-library       | 0.1-3  | NA | R (&gt;= 2.9.0)                                        | NA                                                                                                                                                                                                                                                                                                | NA | NA                                                                                                                                                                                                                                                                                                                                                                                                                                                                                                                                                                                                                                                                                                                                                                  | png                                                          | GPL-2 | GPL-3               | NA | NA | NA | NA | yes | 4.0.2 |\n| bit | bit         | /usr/lib/R/site-library       | 4.0.4  | NA | R (&gt;= 2.9.2)                                        | NA                                                                                                                                                                                                                                                                                                | NA | testthat (&gt;= 0.11.0), roxygen2, knitr, rmarkdown,\nmicrobenchmark, bit64 (&gt;= 4.0.0), ff (&gt;= 4.0.0)                                                                                                                                                                                                                                                                                                                                                                                                                                                                                                                                                                                                                                                                  | NA                                                           | GPL-2 | GPL-3               | NA | NA | NA | NA | yes | 4.0.2 |\n| bit64 | bit64       | /usr/lib/R/site-library       | 4.0.5  | NA | R (&gt;= 3.0.1), bit (&gt;= 4.0.0), utils, methods, stats | NA                                                                                                                                                                                                                                                                                                | NA | NA                                                                                                                                                                                                                                                                                                                                                                                                                                                                                                                                                                                                                                                                                                                                                                  | NA                                                           | GPL-2 | GPL-3               | NA | NA | NA | NA | yes | 4.2.0 |\n| blob | blob        | /usr/lib/R/site-library       | 1.2.4  | NA | NA                                                  | methods, rlang, vctrs (&gt;= 0.2.1)                                                                                                                                                                                                                                                                  | NA | covr, crayon, pillar (&gt;= 1.2.1), testthat                                                                                                                                                                                                                                                                                                                                                                                                                                                                                                                                                                                                                                                                                                                           | NA                                                           | MIT + file LICENSE          | NA | NA | NA | NA | no  | 4.2.3 |\n| brew | brew        | /usr/lib/R/site-library       | 1.0-8  | NA | NA                                                  | NA                                                                                                                                                                                                                                                                                                | NA | testthat (&gt;= 3.0.0)                                                                                                                                                                                                                                                                                                                                                                                                                                                                                                                                                                                                                                                                                                                                                 | NA                                                           | GPL-2                       | NA | NA | NA | NA | no  | 4.2.1 |\n| brio | brio        | /usr/lib/R/site-library       | 1.1.3  | NA | NA                                                  | NA                                                                                                                                                                                                                                                                                                | NA | covr, testthat (&gt;= 2.1.0)                                                                                                                                                                                                                                                                                                                                                                                                                                                                                                                                                                                                                                                                                                                                           | NA                                                           | MIT + file LICENSE          | NA | NA | NA | NA | yes | 4.2.0 |\n| broom | broom       | /usr/lib/R/site-library       | 1.0.5  | NA | R (&gt;= 3.5)                                          | backports, dplyr (&gt;= 1.0.0), ellipsis, generics (&gt;= 0.0.2),\nglue, lifecycle, purrr, rlang, stringr, tibble (&gt;= 3.0.0),\ntidyr (&gt;= 1.0.0)                                                                                                                                                         | NA | AER, AUC, bbmle, betareg, biglm, binGroup, boot, btergm (&gt;=\n1.10.6), car, carData, caret, cluster, cmprsk, coda, covr, drc,\ne1071, emmeans, epiR, ergm (&gt;= 3.10.4), fixest (&gt;= 0.9.0), gam\n(&gt;= 1.15), gee, geepack, ggplot2, glmnet, glmnetUtils, gmm,\nHmisc, irlba, interp, joineRML, Kendall, knitr, ks, Lahman,\nlavaan, leaps, lfe, lm.beta, lme4, lmodel2, lmtest (&gt;= 0.9.38),\nlsmeans, maps, margins, MASS, mclust, mediation, metafor, mfx,\nmgcv, mlogit, modeldata, modeltests, muhaz, multcomp, network,\nnnet, orcutt (&gt;= 2.2), ordinal, plm, poLCA, psych, quantreg,\nrmarkdown, robust, robustbase, rsample, sandwich, sp, spdep (&gt;=\n1.1), spatialreg, speedglm, spelling, survey, survival,\nsystemfit, testthat (&gt;= 2.1.0), tseries, vars, zoo | NA                                                           | MIT + file LICENSE          | NA | NA | NA | NA | no  | 4.3.1 |\n| bslib | bslib       | /usr/lib/R/site-library       | 0.5.1  | NA | R (&gt;= 2.10)                                         | base64enc, cachem, grDevices, htmltools (&gt;= 0.5.4), jquerylib\n(&gt;= 0.1.3), jsonlite, memoise (&gt;= 2.0.1), mime, rlang, sass (&gt;=\n0.4.0)                                                                                                                                                            | NA | bsicons, curl, fontawesome, ggplot2, knitr, magrittr,\nrappdirs, rmarkdown (&gt;= 2.7), shiny (&gt;= 1.6.0), testthat,\nthematic, withr                                                                                                                                                                                                                                                                                                                                                                                                                                                                                                                                                                                                                                   | NA                                                           | MIT + file LICENSE          | NA | NA | NA | NA | no  | 4.3.1 |\n| cachem | cachem      | /usr/lib/R/site-library       | 1.0.8  | NA | NA                                                  | rlang, fastmap (&gt;= 1.1.1)                                                                                                                                                                                                                                                                         | NA | testthat                                                                                                                                                                                                                                                                                                                                                                                                                                                                                                                                                                                                                                                                                                                                                            | NA                                                           | MIT + file LICENSE          | NA | NA | NA | NA | yes | 4.3.0 |\n| callr | callr       | /usr/lib/R/site-library       | 3.7.3  | NA | R (&gt;= 3.4)                                          | processx (&gt;= 3.6.1), R6, utils                                                                                                                                                                                                                                                                    | NA | asciicast, cli (&gt;= 1.1.0), covr, mockery, ps, rprojroot,\nspelling, testthat (&gt;= 3.0.0), withr (&gt;= 2.3.0)                                                                                                                                                                                                                                                                                                                                                                                                                                                                                                                                                                                                                                                           | NA                                                           | MIT + file LICENSE          | NA | NA | NA | NA | no  | 4.2.2 |\n| cellranger | cellranger  | /usr/lib/R/site-library       | 1.1.0  | NA | R (&gt;= 3.0.0)                                        | rematch, tibble                                                                                                                                                                                                                                                                                   | NA | covr, testthat (&gt;= 1.0.0), knitr, rmarkdown                                                                                                                                                                                                                                                                                                                                                                                                                                                                                                                                                                                                                                                                                                                         | NA                                                           | MIT + file LICENSE          | NA | NA | NA | NA | no  | 4.0.1 |\n| cli | cli         | /usr/lib/R/site-library       | 3.6.1  | NA | R (&gt;= 3.4)                                          | utils                                                                                                                                                                                                                                                                                             | NA | callr, covr, crayon, digest, glue (&gt;= 1.6.0), grDevices,\nhtmltools, htmlwidgets, knitr, methods, mockery, processx, ps\n(&gt;= 1.3.4.9000), rlang (&gt;= 1.0.2.9003), rmarkdown, rprojroot,\nrstudioapi, testthat, tibble, whoami, withr                                                                                                                                                                                                                                                                                                                                                                                                                                                                                                                                 | NA                                                           | MIT + file LICENSE          | NA | NA | NA | NA | yes | 4.2.3 |\n| clipr | clipr       | /usr/lib/R/site-library       | 0.8.0  | NA | NA                                                  | utils                                                                                                                                                                                                                                                                                             | NA | covr, knitr, rmarkdown, rstudioapi (&gt;= 0.5), testthat (&gt;=\n2.0.0)                                                                                                                                                                                                                                                                                                                                                                                                                                                                                                                                                                                                                                                                                                   | NA                                                           | GPL-3                       | NA | NA | NA | NA | no  | 4.2.0 |\n| colorspace | colorspace  | /usr/lib/R/site-library       | 2.1-0  | NA | R (&gt;= 3.0.0), methods                               | graphics, grDevices, stats                                                                                                                                                                                                                                                                        | NA | datasets, utils, KernSmooth, MASS, kernlab, mvtnorm, vcd,\ntcltk, shiny, shinyjs, ggplot2, dplyr, scales, grid, png, jpeg,\nknitr, rmarkdown, RColorBrewer, rcartocolor, scico, viridis,\nwesanderson                                                                                                                                                                                                                                                                                                                                                                                                                                                                                                                                                               | NA                                                           | BSD_3_clause + file LICENSE | NA | NA | NA | NA | yes | 4.2.2 |\n| commonmark | commonmark  | /usr/lib/R/site-library       | 1.9.0  | NA | NA                                                  | NA                                                                                                                                                                                                                                                                                                | NA | curl, testthat, xml2                                                                                                                                                                                                                                                                                                                                                                                                                                                                                                                                                                                                                                                                                                                                                | NA                                                           | BSD_2_clause + file LICENSE | NA | NA | NA | NA | yes | 4.2.3 |\n| conflicted | conflicted  | /usr/lib/R/site-library       | 1.2.0  | NA | R (&gt;= 3.2)                                          | cli (&gt;= 3.4.0), memoise, rlang (&gt;= 1.0.0)                                                                                                                                                                                                                                                         | NA | callr, covr, dplyr, Matrix, methods, pkgload, testthat (&gt;=\n3.0.0), withr                                                                                                                                                                                                                                                                                                                                                                                                                                                                                                                                                                                                                                                                                           | NA                                                           | MIT + file LICENSE          | NA | NA | NA | NA | no  | 4.2.2 |\n| cpp11 | cpp11       | /usr/lib/R/site-library       | 0.4.6  | NA | R (&gt;= 3.5.0)                                        | NA                                                                                                                                                                                                                                                                                                | NA | bench, brio, callr, cli, covr, decor, desc, ggplot2, glue,\nknitr, lobstr, mockery, progress, rmarkdown, scales, Rcpp,\ntestthat, tibble, utils, vctrs, withr                                                                                                                                                                                                                                                                                                                                                                                                                                                                                                                                                                                                       | NA                                                           | MIT + file LICENSE          | NA | NA | NA | NA | no  | 4.3.1 |\n| crayon | crayon      | /usr/lib/R/site-library       | 1.5.2  | NA | NA                                                  | grDevices, methods, utils                                                                                                                                                                                                                                                                         | NA | mockery, rstudioapi, testthat, withr                                                                                                                                                                                                                                                                                                                                                                                                                                                                                                                                                                                                                                                                                                                                | NA                                                           | MIT + file LICENSE          | NA | NA | NA | NA | no  | 4.2.1 |\n| credentials | credentials | /usr/lib/R/site-library       | 2.0.1  | NA | NA                                                  | openssl (&gt;= 1.3), sys (&gt;= 2.1), curl, jsonlite, askpass                                                                                                                                                                                                                                           | NA | testthat, knitr, rmarkdown                                                                                                                                                                                                                                                                                                                                                                                                                                                                                                                                                                                                                                                                                                                                          | NA                                                           | MIT + file LICENSE          | NA | NA | NA | NA | no  | 4.3.1 |\n| curl | curl        | /usr/lib/R/site-library       | 5.0.2  | NA | R (&gt;= 3.0.0)                                        | NA                                                                                                                                                                                                                                                                                                | NA | spelling, testthat (&gt;= 1.0.0), knitr, jsonlite, rmarkdown,\nmagrittr, httpuv (&gt;= 1.4.4), webutils                                                                                                                                                                                                                                                                                                                                                                                                                                                                                                                                                                                                                                                                   | NA                                                           | MIT + file LICENSE          | NA | NA | NA | NA | yes | 4.3.1 |\n| data.table | data.table  | /usr/lib/R/site-library       | 1.14.8 | NA | R (&gt;= 3.1.0)                                        | methods                                                                                                                                                                                                                                                                                           | NA | bit64 (&gt;= 4.0.0), bit (&gt;= 4.0.4), curl, R.utils, xts,\nnanotime, zoo (&gt;= 1.8-1), yaml, knitr, rmarkdown                                                                                                                                                                                                                                                                                                                                                                                                                                                                                                                                                                                                                                                             | NA                                                           | MPL-2.0 | file LICENSE      | NA | NA | NA | NA | yes | 4.2.2 |\n| DBI | DBI         | /usr/lib/R/site-library       | 1.1.3  | NA | methods, R (&gt;= 3.0.0)                               | NA                                                                                                                                                                                                                                                                                                | NA | blob, covr, DBItest, dbplyr, downlit, dplyr, glue, hms,\nknitr, magrittr, RMariaDB, rmarkdown, rprojroot, RSQLite (&gt;=\n1.1-2), testthat, xml2                                                                                                                                                                                                                                                                                                                                                                                                                                                                                                                                                                                                                       | NA                                                           | LGPL (&gt;= 2.1)               | NA | NA | NA | NA | no  | 4.2.1 |\n| dbplyr | dbplyr      | /usr/lib/R/site-library       | 2.3.4  | NA | R (&gt;= 3.1)                                          | blob (&gt;= 1.2.0), cli (&gt;= 3.4.1), DBI (&gt;= 1.0.0), dplyr (&gt;=\n1.1.0), glue (&gt;= 1.2.0), lifecycle (&gt;= 1.0.3), magrittr,\nmethods, pillar (&gt;= 1.5.0), purrr (&gt;= 1.0.1), R6 (&gt;= 2.2.2),\nrlang (&gt;= 1.0.6), tibble (&gt;= 1.4.2), tidyr (&gt;= 1.3.0),\ntidyselect (&gt;= 1.2.0), utils, vctrs (&gt;= 0.5.0), withr | NA | bit64, covr, knitr, Lahman, nycflights13, odbc, RMariaDB (&gt;=\n1.0.2), rmarkdown, RPostgres (&gt;= 1.1.3), RPostgreSQL, RSQLite\n(&gt;= 2.2.15), testthat (&gt;= 3.0.2)                                                                                                                                                                                                                                                                                                                                                                                                                                                                                                                                                                                                       | NA                                                           | MIT + file LICENSE          | NA | NA | NA | NA | no  | 4.3.1 |\n| desc | desc        | /usr/lib/R/site-library       | 1.4.2  | NA | R (&gt;= 3.4)                                          | cli, R6, rprojroot, utils                                                                                                                                                                                                                                                                         | NA | callr, covr, gh, spelling, testthat, whoami, withr                                                                                                                                                                                                                                                                                                                                                                                                                                                                                                                                                                                                                                                                                                                  | NA                                                           | MIT + file LICENSE          | NA | NA | NA | NA | no  | 4.2.1 |\n| ⋮ | ⋮ | ⋮ | ⋮ | ⋮ | ⋮ | ⋮ | ⋮ | ⋮ | ⋮ | ⋮ | ⋮ | ⋮ | ⋮ | ⋮ | ⋮ | ⋮ |\n| zip | zip        | /usr/lib/R/site-library | 2.3.0   | NA          | NA                                            | NA                                               | NA | covr, processx, R6, testthat, withr                                   | NA             | MIT + file LICENSE        | NA | NA | NA | NA | yes | 4.3.0 |\n| base | base       | /usr/lib/R/library      | 4.3.1   | base        | NA                                            | NA                                               | NA | methods                                                               | NA             | Part of R 4.3.1           | NA | NA | NA | NA | NA  | 4.3.1 |\n| boot | boot       | /usr/lib/R/library      | 1.3-28  | recommended | R (&gt;= 3.0.0), graphics, stats                 | NA                                               | NA | MASS, survival                                                        | NA             | Unlimited                 | NA | NA | NA | NA | no  | 4.2.0 |\n| class | class      | /usr/lib/R/library      | 7.3-22  | recommended | R (&gt;= 3.0.0), stats, utils                    | MASS                                             | NA | NA                                                                    | NA             | GPL-2 | GPL-3             | NA | NA | NA | NA | yes | 4.3.1 |\n| cluster | cluster    | /usr/lib/R/library      | 2.1.4   | recommended | R (&gt;= 3.5.0)                                  | graphics, grDevices, stats, utils                | NA | MASS, Matrix                                                          | NA             | GPL (&gt;= 2)                | NA | NA | NA | NA | yes | 4.2.1 |\n| codetools | codetools  | /usr/lib/R/library      | 0.2-19  | recommended | R (&gt;= 2.1)                                    | NA                                               | NA | NA                                                                    | NA             | GPL                       | NA | NA | NA | NA | no  | 4.2.2 |\n| compiler | compiler   | /usr/lib/R/library      | 4.3.1   | base        | NA                                            | NA                                               | NA | NA                                                                    | NA             | Part of R 4.3.1           | NA | NA | NA | NA | NA  | 4.3.1 |\n| datasets | datasets   | /usr/lib/R/library      | 4.3.1   | base        | NA                                            | NA                                               | NA | NA                                                                    | NA             | Part of R 4.3.1           | NA | NA | NA | NA | NA  | 4.3.1 |\n| foreign | foreign    | /usr/lib/R/library      | 0.8-85  | recommended | R (&gt;= 4.0.0)                                  | methods, utils, stats                            | NA | NA                                                                    | NA             | GPL (&gt;= 2)                | NA | NA | NA | NA | yes | 4.3.1 |\n| graphics | graphics   | /usr/lib/R/library      | 4.3.1   | base        | NA                                            | grDevices                                        | NA | NA                                                                    | NA             | Part of R 4.3.1           | NA | NA | NA | NA | yes | 4.3.1 |\n| grDevices | grDevices  | /usr/lib/R/library      | 4.3.1   | base        | NA                                            | NA                                               | NA | KernSmooth                                                            | NA             | Part of R 4.3.1           | NA | NA | NA | NA | yes | 4.3.1 |\n| grid | grid       | /usr/lib/R/library      | 4.3.1   | base        | NA                                            | grDevices, utils                                 | NA | NA                                                                    | NA             | Part of R 4.3.1           | NA | NA | NA | NA | yes | 4.3.1 |\n| KernSmooth | KernSmooth | /usr/lib/R/library      | 2.23-22 | recommended | R (&gt;= 2.5.0), stats                           | NA                                               | NA | MASS, carData                                                         | NA             | Unlimited                 | NA | NA | NA | NA | yes | 4.3.1 |\n| lattice | lattice    | /usr/lib/R/library      | 0.21-9  | recommended | R (&gt;= 4.0.0)                                  | grid, grDevices, graphics, stats, utils          | NA | KernSmooth, MASS, latticeExtra, colorspace                            | chron          | GPL (&gt;= 2)                | NA | NA | NA | NA | yes | 4.3.1 |\n| MASS | MASS       | /usr/lib/R/library      | 7.3-60  | recommended | R (&gt;= 4.0), grDevices, graphics, stats, utils | methods                                          | NA | lattice, nlme, nnet, survival                                         | NA             | GPL-2 | GPL-3             | NA | NA | NA | NA | yes | 4.3.1 |\n| Matrix | Matrix     | /usr/lib/R/library      | 1.6-1.1 | recommended | R (&gt;= 3.5.0), methods                         | grDevices, graphics, grid, lattice, stats, utils | NA | MASS, datasets, sfsmisc                                               | SparseM, graph | GPL (&gt;= 2) | file LICENCE | NA | NA | NA | NA | yes | 4.3.1 |\n| methods | methods    | /usr/lib/R/library      | 4.3.1   | base        | NA                                            | utils, stats                                     | NA | codetools                                                             | NA             | Part of R 4.3.1           | NA | NA | NA | NA | yes | 4.3.1 |\n| mgcv | mgcv       | /usr/lib/R/library      | 1.9-0   | recommended | R (&gt;= 3.6.0), nlme (&gt;= 3.1-64)                | methods, stats, graphics, Matrix, splines, utils | NA | parallel, survival, MASS                                              | NA             | GPL (&gt;= 2)                | NA | NA | NA | NA | yes | 4.3.1 |\n| nlme | nlme       | /usr/lib/R/library      | 3.1-163 | recommended | R (&gt;= 3.5.0)                                  | graphics, stats, utils, lattice                  | NA | Hmisc, MASS, SASmixed                                                 | NA             | GPL (&gt;= 2)                | NA | NA | NA | NA | yes | 4.3.1 |\n| nnet | nnet       | /usr/lib/R/library      | 7.3-19  | recommended | R (&gt;= 3.0.0), stats, utils                    | NA                                               | NA | MASS                                                                  | NA             | GPL-2 | GPL-3             | NA | NA | NA | NA | yes | 4.3.1 |\n| parallel | parallel   | /usr/lib/R/library      | 4.3.1   | base        | NA                                            | tools, compiler                                  | NA | methods                                                               | snow, Rmpi     | Part of R 4.3.1           | NA | NA | NA | NA | yes | 4.3.1 |\n| rpart | rpart      | /usr/lib/R/library      | 4.1.19  | recommended | R (&gt;= 2.15.0), graphics, stats, grDevices     | NA                                               | NA | survival                                                              | NA             | GPL-2 | GPL-3             | NA | NA | NA | NA | yes | 4.2.1 |\n| spatial | spatial    | /usr/lib/R/library      | 7.3-17  | recommended | R (&gt;= 3.0.0), graphics, stats, utils          | NA                                               | NA | MASS                                                                  | NA             | GPL-2 | GPL-3             | NA | NA | NA | NA | yes | 4.3.1 |\n| splines | splines    | /usr/lib/R/library      | 4.3.1   | base        | NA                                            | graphics, stats                                  | NA | Matrix, methods                                                       | NA             | Part of R 4.3.1           | NA | NA | NA | NA | yes | 4.3.1 |\n| stats | stats      | /usr/lib/R/library      | 4.3.1   | base        | NA                                            | utils, grDevices, graphics                       | NA | MASS, Matrix, SuppDists, methods, stats4                              | NA             | Part of R 4.3.1           | NA | NA | NA | NA | yes | 4.3.1 |\n| stats4 | stats4     | /usr/lib/R/library      | 4.3.1   | base        | NA                                            | graphics, methods, stats                         | NA | NA                                                                    | NA             | Part of R 4.3.1           | NA | NA | NA | NA | NA  | 4.3.1 |\n| survival | survival   | /usr/lib/R/library      | 3.5-7   | recommended | R (&gt;= 3.5.0)                                  | graphics, Matrix, methods, splines, stats, utils | NA | NA                                                                    | NA             | LGPL (&gt;= 2)               | NA | NA | NA | NA | yes | 4.3.1 |\n| tcltk | tcltk      | /usr/lib/R/library      | 4.3.1   | base        | NA                                            | utils                                            | NA | NA                                                                    | NA             | Part of R 4.3.1           | NA | NA | NA | NA | yes | 4.3.1 |\n| tools | tools      | /usr/lib/R/library      | 4.3.1   | base        | NA                                            | NA                                               | NA | codetools, methods, xml2, curl, commonmark, knitr, xfun, mathjaxr, V8 | NA             | Part of R 4.3.1           | NA | NA | NA | NA | yes | 4.3.1 |\n| utils | utils      | /usr/lib/R/library      | 4.3.1   | base        | NA                                            | NA                                               | NA | methods, xml2, commonmark, knitr                                      | NA             | Part of R 4.3.1           | NA | NA | NA | NA | yes | 4.3.1 |\n\n",
            "text/latex": "A matrix: 163 × 16 of type chr\n\\begin{tabular}{r|llllllllllllllll}\n  & Package & LibPath & Version & Priority & Depends & Imports & LinkingTo & Suggests & Enhances & License & License\\_is\\_FOSS & License\\_restricts\\_use & OS\\_type & MD5sum & NeedsCompilation & Built\\\\\n\\hline\n\tIRdisplay & IRdisplay   & /usr/local/lib/R/site-library & 1.1    & NA & R (>= 3.0.1)                                        & methods, repr                                                                                                                                                                                                                                                                                     & NA & testthat, withr                                                                                                                                                                                                                                                                                                                                                                                                                                                                                                                                                                                                                                                                                                                                                     & NA                                                           & MIT + file LICENSE          & NA & NA & NA & NA & no  & 4.3.1\\\\\n\tIRkernel & IRkernel    & /usr/local/lib/R/site-library & 1.3.2  & NA & R (>= 3.2.0)                                        & repr (>= 0.4.99), methods, evaluate (>= 0.10), IRdisplay (>=\n0.3.0.9999), pbdZMQ (>= 0.2-1), crayon, jsonlite (>= 0.9.6),\nuuid, digest                                                                                                                                                          & NA & testthat, roxygen2                                                                                                                                                                                                                                                                                                                                                                                                                                                                                                                                                                                                                                                                                                                                                  & NA                                                           & MIT + file LICENSE          & NA & NA & NA & NA & no  & 4.3.1\\\\\n\tpbdZMQ & pbdZMQ      & /usr/local/lib/R/site-library & 0.3-10 & NA & R (>= 3.5.0)                                        & NA                                                                                                                                                                                                                                                                                                & NA & NA                                                                                                                                                                                                                                                                                                                                                                                                                                                                                                                                                                                                                                                                                                                                                                  & NA                                                           & GPL-3                       & NA & NA & NA & NA & yes & 4.3.1\\\\\n\trepr & repr        & /usr/local/lib/R/site-library & 1.1.6  & NA & R (>= 3.0.1)                                        & utils, grDevices, htmltools, jsonlite, pillar (>= 1.4.0),\nbase64enc                                                                                                                                                                                                                              & NA & methods, highr, Cairo, stringr, testthat (>= 3.0.0), leaflet                                                                                                                                                                                                                                                                                                                                                                                                                                                                                                                                                                                                                                                                                                        & data.table, tibble, htmlwidgets, vegalite, plotly, geojsonio & GPL (>= 3)                  & NA & NA & NA & NA & no  & 4.3.1\\\\\n\taskpass & askpass     & /usr/lib/R/site-library       & 1.2.0  & NA & NA                                                  & sys (>= 2.1)                                                                                                                                                                                                                                                                                      & NA & testthat                                                                                                                                                                                                                                                                                                                                                                                                                                                                                                                                                                                                                                                                                                                                                            & NA                                                           & MIT + file LICENSE          & NA & NA & NA & NA & yes & 4.3.1\\\\\n\tbackports & backports   & /usr/lib/R/site-library       & 1.4.1  & NA & R (>= 3.0.0)                                        & NA                                                                                                                                                                                                                                                                                                & NA & NA                                                                                                                                                                                                                                                                                                                                                                                                                                                                                                                                                                                                                                                                                                                                                                  & NA                                                           & GPL-2 \\textbar{} GPL-3               & NA & NA & NA & NA & yes & 4.2.0\\\\\n\tbase64enc & base64enc   & /usr/lib/R/site-library       & 0.1-3  & NA & R (>= 2.9.0)                                        & NA                                                                                                                                                                                                                                                                                                & NA & NA                                                                                                                                                                                                                                                                                                                                                                                                                                                                                                                                                                                                                                                                                                                                                                  & png                                                          & GPL-2 \\textbar{} GPL-3               & NA & NA & NA & NA & yes & 4.0.2\\\\\n\tbit & bit         & /usr/lib/R/site-library       & 4.0.4  & NA & R (>= 2.9.2)                                        & NA                                                                                                                                                                                                                                                                                                & NA & testthat (>= 0.11.0), roxygen2, knitr, rmarkdown,\nmicrobenchmark, bit64 (>= 4.0.0), ff (>= 4.0.0)                                                                                                                                                                                                                                                                                                                                                                                                                                                                                                                                                                                                                                                                  & NA                                                           & GPL-2 \\textbar{} GPL-3               & NA & NA & NA & NA & yes & 4.0.2\\\\\n\tbit64 & bit64       & /usr/lib/R/site-library       & 4.0.5  & NA & R (>= 3.0.1), bit (>= 4.0.0), utils, methods, stats & NA                                                                                                                                                                                                                                                                                                & NA & NA                                                                                                                                                                                                                                                                                                                                                                                                                                                                                                                                                                                                                                                                                                                                                                  & NA                                                           & GPL-2 \\textbar{} GPL-3               & NA & NA & NA & NA & yes & 4.2.0\\\\\n\tblob & blob        & /usr/lib/R/site-library       & 1.2.4  & NA & NA                                                  & methods, rlang, vctrs (>= 0.2.1)                                                                                                                                                                                                                                                                  & NA & covr, crayon, pillar (>= 1.2.1), testthat                                                                                                                                                                                                                                                                                                                                                                                                                                                                                                                                                                                                                                                                                                                           & NA                                                           & MIT + file LICENSE          & NA & NA & NA & NA & no  & 4.2.3\\\\\n\tbrew & brew        & /usr/lib/R/site-library       & 1.0-8  & NA & NA                                                  & NA                                                                                                                                                                                                                                                                                                & NA & testthat (>= 3.0.0)                                                                                                                                                                                                                                                                                                                                                                                                                                                                                                                                                                                                                                                                                                                                                 & NA                                                           & GPL-2                       & NA & NA & NA & NA & no  & 4.2.1\\\\\n\tbrio & brio        & /usr/lib/R/site-library       & 1.1.3  & NA & NA                                                  & NA                                                                                                                                                                                                                                                                                                & NA & covr, testthat (>= 2.1.0)                                                                                                                                                                                                                                                                                                                                                                                                                                                                                                                                                                                                                                                                                                                                           & NA                                                           & MIT + file LICENSE          & NA & NA & NA & NA & yes & 4.2.0\\\\\n\tbroom & broom       & /usr/lib/R/site-library       & 1.0.5  & NA & R (>= 3.5)                                          & backports, dplyr (>= 1.0.0), ellipsis, generics (>= 0.0.2),\nglue, lifecycle, purrr, rlang, stringr, tibble (>= 3.0.0),\ntidyr (>= 1.0.0)                                                                                                                                                         & NA & AER, AUC, bbmle, betareg, biglm, binGroup, boot, btergm (>=\n1.10.6), car, carData, caret, cluster, cmprsk, coda, covr, drc,\ne1071, emmeans, epiR, ergm (>= 3.10.4), fixest (>= 0.9.0), gam\n(>= 1.15), gee, geepack, ggplot2, glmnet, glmnetUtils, gmm,\nHmisc, irlba, interp, joineRML, Kendall, knitr, ks, Lahman,\nlavaan, leaps, lfe, lm.beta, lme4, lmodel2, lmtest (>= 0.9.38),\nlsmeans, maps, margins, MASS, mclust, mediation, metafor, mfx,\nmgcv, mlogit, modeldata, modeltests, muhaz, multcomp, network,\nnnet, orcutt (>= 2.2), ordinal, plm, poLCA, psych, quantreg,\nrmarkdown, robust, robustbase, rsample, sandwich, sp, spdep (>=\n1.1), spatialreg, speedglm, spelling, survey, survival,\nsystemfit, testthat (>= 2.1.0), tseries, vars, zoo & NA                                                           & MIT + file LICENSE          & NA & NA & NA & NA & no  & 4.3.1\\\\\n\tbslib & bslib       & /usr/lib/R/site-library       & 0.5.1  & NA & R (>= 2.10)                                         & base64enc, cachem, grDevices, htmltools (>= 0.5.4), jquerylib\n(>= 0.1.3), jsonlite, memoise (>= 2.0.1), mime, rlang, sass (>=\n0.4.0)                                                                                                                                                            & NA & bsicons, curl, fontawesome, ggplot2, knitr, magrittr,\nrappdirs, rmarkdown (>= 2.7), shiny (>= 1.6.0), testthat,\nthematic, withr                                                                                                                                                                                                                                                                                                                                                                                                                                                                                                                                                                                                                                   & NA                                                           & MIT + file LICENSE          & NA & NA & NA & NA & no  & 4.3.1\\\\\n\tcachem & cachem      & /usr/lib/R/site-library       & 1.0.8  & NA & NA                                                  & rlang, fastmap (>= 1.1.1)                                                                                                                                                                                                                                                                         & NA & testthat                                                                                                                                                                                                                                                                                                                                                                                                                                                                                                                                                                                                                                                                                                                                                            & NA                                                           & MIT + file LICENSE          & NA & NA & NA & NA & yes & 4.3.0\\\\\n\tcallr & callr       & /usr/lib/R/site-library       & 3.7.3  & NA & R (>= 3.4)                                          & processx (>= 3.6.1), R6, utils                                                                                                                                                                                                                                                                    & NA & asciicast, cli (>= 1.1.0), covr, mockery, ps, rprojroot,\nspelling, testthat (>= 3.0.0), withr (>= 2.3.0)                                                                                                                                                                                                                                                                                                                                                                                                                                                                                                                                                                                                                                                           & NA                                                           & MIT + file LICENSE          & NA & NA & NA & NA & no  & 4.2.2\\\\\n\tcellranger & cellranger  & /usr/lib/R/site-library       & 1.1.0  & NA & R (>= 3.0.0)                                        & rematch, tibble                                                                                                                                                                                                                                                                                   & NA & covr, testthat (>= 1.0.0), knitr, rmarkdown                                                                                                                                                                                                                                                                                                                                                                                                                                                                                                                                                                                                                                                                                                                         & NA                                                           & MIT + file LICENSE          & NA & NA & NA & NA & no  & 4.0.1\\\\\n\tcli & cli         & /usr/lib/R/site-library       & 3.6.1  & NA & R (>= 3.4)                                          & utils                                                                                                                                                                                                                                                                                             & NA & callr, covr, crayon, digest, glue (>= 1.6.0), grDevices,\nhtmltools, htmlwidgets, knitr, methods, mockery, processx, ps\n(>= 1.3.4.9000), rlang (>= 1.0.2.9003), rmarkdown, rprojroot,\nrstudioapi, testthat, tibble, whoami, withr                                                                                                                                                                                                                                                                                                                                                                                                                                                                                                                                 & NA                                                           & MIT + file LICENSE          & NA & NA & NA & NA & yes & 4.2.3\\\\\n\tclipr & clipr       & /usr/lib/R/site-library       & 0.8.0  & NA & NA                                                  & utils                                                                                                                                                                                                                                                                                             & NA & covr, knitr, rmarkdown, rstudioapi (>= 0.5), testthat (>=\n2.0.0)                                                                                                                                                                                                                                                                                                                                                                                                                                                                                                                                                                                                                                                                                                   & NA                                                           & GPL-3                       & NA & NA & NA & NA & no  & 4.2.0\\\\\n\tcolorspace & colorspace  & /usr/lib/R/site-library       & 2.1-0  & NA & R (>= 3.0.0), methods                               & graphics, grDevices, stats                                                                                                                                                                                                                                                                        & NA & datasets, utils, KernSmooth, MASS, kernlab, mvtnorm, vcd,\ntcltk, shiny, shinyjs, ggplot2, dplyr, scales, grid, png, jpeg,\nknitr, rmarkdown, RColorBrewer, rcartocolor, scico, viridis,\nwesanderson                                                                                                                                                                                                                                                                                                                                                                                                                                                                                                                                                               & NA                                                           & BSD\\_3\\_clause + file LICENSE & NA & NA & NA & NA & yes & 4.2.2\\\\\n\tcommonmark & commonmark  & /usr/lib/R/site-library       & 1.9.0  & NA & NA                                                  & NA                                                                                                                                                                                                                                                                                                & NA & curl, testthat, xml2                                                                                                                                                                                                                                                                                                                                                                                                                                                                                                                                                                                                                                                                                                                                                & NA                                                           & BSD\\_2\\_clause + file LICENSE & NA & NA & NA & NA & yes & 4.2.3\\\\\n\tconflicted & conflicted  & /usr/lib/R/site-library       & 1.2.0  & NA & R (>= 3.2)                                          & cli (>= 3.4.0), memoise, rlang (>= 1.0.0)                                                                                                                                                                                                                                                         & NA & callr, covr, dplyr, Matrix, methods, pkgload, testthat (>=\n3.0.0), withr                                                                                                                                                                                                                                                                                                                                                                                                                                                                                                                                                                                                                                                                                           & NA                                                           & MIT + file LICENSE          & NA & NA & NA & NA & no  & 4.2.2\\\\\n\tcpp11 & cpp11       & /usr/lib/R/site-library       & 0.4.6  & NA & R (>= 3.5.0)                                        & NA                                                                                                                                                                                                                                                                                                & NA & bench, brio, callr, cli, covr, decor, desc, ggplot2, glue,\nknitr, lobstr, mockery, progress, rmarkdown, scales, Rcpp,\ntestthat, tibble, utils, vctrs, withr                                                                                                                                                                                                                                                                                                                                                                                                                                                                                                                                                                                                       & NA                                                           & MIT + file LICENSE          & NA & NA & NA & NA & no  & 4.3.1\\\\\n\tcrayon & crayon      & /usr/lib/R/site-library       & 1.5.2  & NA & NA                                                  & grDevices, methods, utils                                                                                                                                                                                                                                                                         & NA & mockery, rstudioapi, testthat, withr                                                                                                                                                                                                                                                                                                                                                                                                                                                                                                                                                                                                                                                                                                                                & NA                                                           & MIT + file LICENSE          & NA & NA & NA & NA & no  & 4.2.1\\\\\n\tcredentials & credentials & /usr/lib/R/site-library       & 2.0.1  & NA & NA                                                  & openssl (>= 1.3), sys (>= 2.1), curl, jsonlite, askpass                                                                                                                                                                                                                                           & NA & testthat, knitr, rmarkdown                                                                                                                                                                                                                                                                                                                                                                                                                                                                                                                                                                                                                                                                                                                                          & NA                                                           & MIT + file LICENSE          & NA & NA & NA & NA & no  & 4.3.1\\\\\n\tcurl & curl        & /usr/lib/R/site-library       & 5.0.2  & NA & R (>= 3.0.0)                                        & NA                                                                                                                                                                                                                                                                                                & NA & spelling, testthat (>= 1.0.0), knitr, jsonlite, rmarkdown,\nmagrittr, httpuv (>= 1.4.4), webutils                                                                                                                                                                                                                                                                                                                                                                                                                                                                                                                                                                                                                                                                   & NA                                                           & MIT + file LICENSE          & NA & NA & NA & NA & yes & 4.3.1\\\\\n\tdata.table & data.table  & /usr/lib/R/site-library       & 1.14.8 & NA & R (>= 3.1.0)                                        & methods                                                                                                                                                                                                                                                                                           & NA & bit64 (>= 4.0.0), bit (>= 4.0.4), curl, R.utils, xts,\nnanotime, zoo (>= 1.8-1), yaml, knitr, rmarkdown                                                                                                                                                                                                                                                                                                                                                                                                                                                                                                                                                                                                                                                             & NA                                                           & MPL-2.0 \\textbar{} file LICENSE      & NA & NA & NA & NA & yes & 4.2.2\\\\\n\tDBI & DBI         & /usr/lib/R/site-library       & 1.1.3  & NA & methods, R (>= 3.0.0)                               & NA                                                                                                                                                                                                                                                                                                & NA & blob, covr, DBItest, dbplyr, downlit, dplyr, glue, hms,\nknitr, magrittr, RMariaDB, rmarkdown, rprojroot, RSQLite (>=\n1.1-2), testthat, xml2                                                                                                                                                                                                                                                                                                                                                                                                                                                                                                                                                                                                                       & NA                                                           & LGPL (>= 2.1)               & NA & NA & NA & NA & no  & 4.2.1\\\\\n\tdbplyr & dbplyr      & /usr/lib/R/site-library       & 2.3.4  & NA & R (>= 3.1)                                          & blob (>= 1.2.0), cli (>= 3.4.1), DBI (>= 1.0.0), dplyr (>=\n1.1.0), glue (>= 1.2.0), lifecycle (>= 1.0.3), magrittr,\nmethods, pillar (>= 1.5.0), purrr (>= 1.0.1), R6 (>= 2.2.2),\nrlang (>= 1.0.6), tibble (>= 1.4.2), tidyr (>= 1.3.0),\ntidyselect (>= 1.2.0), utils, vctrs (>= 0.5.0), withr & NA & bit64, covr, knitr, Lahman, nycflights13, odbc, RMariaDB (>=\n1.0.2), rmarkdown, RPostgres (>= 1.1.3), RPostgreSQL, RSQLite\n(>= 2.2.15), testthat (>= 3.0.2)                                                                                                                                                                                                                                                                                                                                                                                                                                                                                                                                                                                                       & NA                                                           & MIT + file LICENSE          & NA & NA & NA & NA & no  & 4.3.1\\\\\n\tdesc & desc        & /usr/lib/R/site-library       & 1.4.2  & NA & R (>= 3.4)                                          & cli, R6, rprojroot, utils                                                                                                                                                                                                                                                                         & NA & callr, covr, gh, spelling, testthat, whoami, withr                                                                                                                                                                                                                                                                                                                                                                                                                                                                                                                                                                                                                                                                                                                  & NA                                                           & MIT + file LICENSE          & NA & NA & NA & NA & no  & 4.2.1\\\\\n\t⋮ & ⋮ & ⋮ & ⋮ & ⋮ & ⋮ & ⋮ & ⋮ & ⋮ & ⋮ & ⋮ & ⋮ & ⋮ & ⋮ & ⋮ & ⋮ & ⋮\\\\\n\tzip & zip        & /usr/lib/R/site-library & 2.3.0   & NA          & NA                                            & NA                                               & NA & covr, processx, R6, testthat, withr                                   & NA             & MIT + file LICENSE        & NA & NA & NA & NA & yes & 4.3.0\\\\\n\tbase & base       & /usr/lib/R/library      & 4.3.1   & base        & NA                                            & NA                                               & NA & methods                                                               & NA             & Part of R 4.3.1           & NA & NA & NA & NA & NA  & 4.3.1\\\\\n\tboot & boot       & /usr/lib/R/library      & 1.3-28  & recommended & R (>= 3.0.0), graphics, stats                 & NA                                               & NA & MASS, survival                                                        & NA             & Unlimited                 & NA & NA & NA & NA & no  & 4.2.0\\\\\n\tclass & class      & /usr/lib/R/library      & 7.3-22  & recommended & R (>= 3.0.0), stats, utils                    & MASS                                             & NA & NA                                                                    & NA             & GPL-2 \\textbar{} GPL-3             & NA & NA & NA & NA & yes & 4.3.1\\\\\n\tcluster & cluster    & /usr/lib/R/library      & 2.1.4   & recommended & R (>= 3.5.0)                                  & graphics, grDevices, stats, utils                & NA & MASS, Matrix                                                          & NA             & GPL (>= 2)                & NA & NA & NA & NA & yes & 4.2.1\\\\\n\tcodetools & codetools  & /usr/lib/R/library      & 0.2-19  & recommended & R (>= 2.1)                                    & NA                                               & NA & NA                                                                    & NA             & GPL                       & NA & NA & NA & NA & no  & 4.2.2\\\\\n\tcompiler & compiler   & /usr/lib/R/library      & 4.3.1   & base        & NA                                            & NA                                               & NA & NA                                                                    & NA             & Part of R 4.3.1           & NA & NA & NA & NA & NA  & 4.3.1\\\\\n\tdatasets & datasets   & /usr/lib/R/library      & 4.3.1   & base        & NA                                            & NA                                               & NA & NA                                                                    & NA             & Part of R 4.3.1           & NA & NA & NA & NA & NA  & 4.3.1\\\\\n\tforeign & foreign    & /usr/lib/R/library      & 0.8-85  & recommended & R (>= 4.0.0)                                  & methods, utils, stats                            & NA & NA                                                                    & NA             & GPL (>= 2)                & NA & NA & NA & NA & yes & 4.3.1\\\\\n\tgraphics & graphics   & /usr/lib/R/library      & 4.3.1   & base        & NA                                            & grDevices                                        & NA & NA                                                                    & NA             & Part of R 4.3.1           & NA & NA & NA & NA & yes & 4.3.1\\\\\n\tgrDevices & grDevices  & /usr/lib/R/library      & 4.3.1   & base        & NA                                            & NA                                               & NA & KernSmooth                                                            & NA             & Part of R 4.3.1           & NA & NA & NA & NA & yes & 4.3.1\\\\\n\tgrid & grid       & /usr/lib/R/library      & 4.3.1   & base        & NA                                            & grDevices, utils                                 & NA & NA                                                                    & NA             & Part of R 4.3.1           & NA & NA & NA & NA & yes & 4.3.1\\\\\n\tKernSmooth & KernSmooth & /usr/lib/R/library      & 2.23-22 & recommended & R (>= 2.5.0), stats                           & NA                                               & NA & MASS, carData                                                         & NA             & Unlimited                 & NA & NA & NA & NA & yes & 4.3.1\\\\\n\tlattice & lattice    & /usr/lib/R/library      & 0.21-9  & recommended & R (>= 4.0.0)                                  & grid, grDevices, graphics, stats, utils          & NA & KernSmooth, MASS, latticeExtra, colorspace                            & chron          & GPL (>= 2)                & NA & NA & NA & NA & yes & 4.3.1\\\\\n\tMASS & MASS       & /usr/lib/R/library      & 7.3-60  & recommended & R (>= 4.0), grDevices, graphics, stats, utils & methods                                          & NA & lattice, nlme, nnet, survival                                         & NA             & GPL-2 \\textbar{} GPL-3             & NA & NA & NA & NA & yes & 4.3.1\\\\\n\tMatrix & Matrix     & /usr/lib/R/library      & 1.6-1.1 & recommended & R (>= 3.5.0), methods                         & grDevices, graphics, grid, lattice, stats, utils & NA & MASS, datasets, sfsmisc                                               & SparseM, graph & GPL (>= 2) \\textbar{} file LICENCE & NA & NA & NA & NA & yes & 4.3.1\\\\\n\tmethods & methods    & /usr/lib/R/library      & 4.3.1   & base        & NA                                            & utils, stats                                     & NA & codetools                                                             & NA             & Part of R 4.3.1           & NA & NA & NA & NA & yes & 4.3.1\\\\\n\tmgcv & mgcv       & /usr/lib/R/library      & 1.9-0   & recommended & R (>= 3.6.0), nlme (>= 3.1-64)                & methods, stats, graphics, Matrix, splines, utils & NA & parallel, survival, MASS                                              & NA             & GPL (>= 2)                & NA & NA & NA & NA & yes & 4.3.1\\\\\n\tnlme & nlme       & /usr/lib/R/library      & 3.1-163 & recommended & R (>= 3.5.0)                                  & graphics, stats, utils, lattice                  & NA & Hmisc, MASS, SASmixed                                                 & NA             & GPL (>= 2)                & NA & NA & NA & NA & yes & 4.3.1\\\\\n\tnnet & nnet       & /usr/lib/R/library      & 7.3-19  & recommended & R (>= 3.0.0), stats, utils                    & NA                                               & NA & MASS                                                                  & NA             & GPL-2 \\textbar{} GPL-3             & NA & NA & NA & NA & yes & 4.3.1\\\\\n\tparallel & parallel   & /usr/lib/R/library      & 4.3.1   & base        & NA                                            & tools, compiler                                  & NA & methods                                                               & snow, Rmpi     & Part of R 4.3.1           & NA & NA & NA & NA & yes & 4.3.1\\\\\n\trpart & rpart      & /usr/lib/R/library      & 4.1.19  & recommended & R (>= 2.15.0), graphics, stats, grDevices     & NA                                               & NA & survival                                                              & NA             & GPL-2 \\textbar{} GPL-3             & NA & NA & NA & NA & yes & 4.2.1\\\\\n\tspatial & spatial    & /usr/lib/R/library      & 7.3-17  & recommended & R (>= 3.0.0), graphics, stats, utils          & NA                                               & NA & MASS                                                                  & NA             & GPL-2 \\textbar{} GPL-3             & NA & NA & NA & NA & yes & 4.3.1\\\\\n\tsplines & splines    & /usr/lib/R/library      & 4.3.1   & base        & NA                                            & graphics, stats                                  & NA & Matrix, methods                                                       & NA             & Part of R 4.3.1           & NA & NA & NA & NA & yes & 4.3.1\\\\\n\tstats & stats      & /usr/lib/R/library      & 4.3.1   & base        & NA                                            & utils, grDevices, graphics                       & NA & MASS, Matrix, SuppDists, methods, stats4                              & NA             & Part of R 4.3.1           & NA & NA & NA & NA & yes & 4.3.1\\\\\n\tstats4 & stats4     & /usr/lib/R/library      & 4.3.1   & base        & NA                                            & graphics, methods, stats                         & NA & NA                                                                    & NA             & Part of R 4.3.1           & NA & NA & NA & NA & NA  & 4.3.1\\\\\n\tsurvival & survival   & /usr/lib/R/library      & 3.5-7   & recommended & R (>= 3.5.0)                                  & graphics, Matrix, methods, splines, stats, utils & NA & NA                                                                    & NA             & LGPL (>= 2)               & NA & NA & NA & NA & yes & 4.3.1\\\\\n\ttcltk & tcltk      & /usr/lib/R/library      & 4.3.1   & base        & NA                                            & utils                                            & NA & NA                                                                    & NA             & Part of R 4.3.1           & NA & NA & NA & NA & yes & 4.3.1\\\\\n\ttools & tools      & /usr/lib/R/library      & 4.3.1   & base        & NA                                            & NA                                               & NA & codetools, methods, xml2, curl, commonmark, knitr, xfun, mathjaxr, V8 & NA             & Part of R 4.3.1           & NA & NA & NA & NA & yes & 4.3.1\\\\\n\tutils & utils      & /usr/lib/R/library      & 4.3.1   & base        & NA                                            & NA                                               & NA & methods, xml2, commonmark, knitr                                      & NA             & Part of R 4.3.1           & NA & NA & NA & NA & yes & 4.3.1\\\\\n\\end{tabular}\n",
            "text/plain": [
              "            Package     LibPath                       Version Priority   \n",
              "IRdisplay   IRdisplay   /usr/local/lib/R/site-library 1.1     NA         \n",
              "IRkernel    IRkernel    /usr/local/lib/R/site-library 1.3.2   NA         \n",
              "pbdZMQ      pbdZMQ      /usr/local/lib/R/site-library 0.3-10  NA         \n",
              "repr        repr        /usr/local/lib/R/site-library 1.1.6   NA         \n",
              "askpass     askpass     /usr/lib/R/site-library       1.2.0   NA         \n",
              "backports   backports   /usr/lib/R/site-library       1.4.1   NA         \n",
              "base64enc   base64enc   /usr/lib/R/site-library       0.1-3   NA         \n",
              "bit         bit         /usr/lib/R/site-library       4.0.4   NA         \n",
              "bit64       bit64       /usr/lib/R/site-library       4.0.5   NA         \n",
              "blob        blob        /usr/lib/R/site-library       1.2.4   NA         \n",
              "brew        brew        /usr/lib/R/site-library       1.0-8   NA         \n",
              "brio        brio        /usr/lib/R/site-library       1.1.3   NA         \n",
              "broom       broom       /usr/lib/R/site-library       1.0.5   NA         \n",
              "bslib       bslib       /usr/lib/R/site-library       0.5.1   NA         \n",
              "cachem      cachem      /usr/lib/R/site-library       1.0.8   NA         \n",
              "callr       callr       /usr/lib/R/site-library       3.7.3   NA         \n",
              "cellranger  cellranger  /usr/lib/R/site-library       1.1.0   NA         \n",
              "cli         cli         /usr/lib/R/site-library       3.6.1   NA         \n",
              "clipr       clipr       /usr/lib/R/site-library       0.8.0   NA         \n",
              "colorspace  colorspace  /usr/lib/R/site-library       2.1-0   NA         \n",
              "commonmark  commonmark  /usr/lib/R/site-library       1.9.0   NA         \n",
              "conflicted  conflicted  /usr/lib/R/site-library       1.2.0   NA         \n",
              "cpp11       cpp11       /usr/lib/R/site-library       0.4.6   NA         \n",
              "crayon      crayon      /usr/lib/R/site-library       1.5.2   NA         \n",
              "credentials credentials /usr/lib/R/site-library       2.0.1   NA         \n",
              "curl        curl        /usr/lib/R/site-library       5.0.2   NA         \n",
              "data.table  data.table  /usr/lib/R/site-library       1.14.8  NA         \n",
              "DBI         DBI         /usr/lib/R/site-library       1.1.3   NA         \n",
              "dbplyr      dbplyr      /usr/lib/R/site-library       2.3.4   NA         \n",
              "desc        desc        /usr/lib/R/site-library       1.4.2   NA         \n",
              "⋮           ⋮           ⋮                             ⋮       ⋮          \n",
              "zip         zip         /usr/lib/R/site-library       2.3.0   NA         \n",
              "base        base        /usr/lib/R/library            4.3.1   base       \n",
              "boot        boot        /usr/lib/R/library            1.3-28  recommended\n",
              "class       class       /usr/lib/R/library            7.3-22  recommended\n",
              "cluster     cluster     /usr/lib/R/library            2.1.4   recommended\n",
              "codetools   codetools   /usr/lib/R/library            0.2-19  recommended\n",
              "compiler    compiler    /usr/lib/R/library            4.3.1   base       \n",
              "datasets    datasets    /usr/lib/R/library            4.3.1   base       \n",
              "foreign     foreign     /usr/lib/R/library            0.8-85  recommended\n",
              "graphics    graphics    /usr/lib/R/library            4.3.1   base       \n",
              "grDevices   grDevices   /usr/lib/R/library            4.3.1   base       \n",
              "grid        grid        /usr/lib/R/library            4.3.1   base       \n",
              "KernSmooth  KernSmooth  /usr/lib/R/library            2.23-22 recommended\n",
              "lattice     lattice     /usr/lib/R/library            0.21-9  recommended\n",
              "MASS        MASS        /usr/lib/R/library            7.3-60  recommended\n",
              "Matrix      Matrix      /usr/lib/R/library            1.6-1.1 recommended\n",
              "methods     methods     /usr/lib/R/library            4.3.1   base       \n",
              "mgcv        mgcv        /usr/lib/R/library            1.9-0   recommended\n",
              "nlme        nlme        /usr/lib/R/library            3.1-163 recommended\n",
              "nnet        nnet        /usr/lib/R/library            7.3-19  recommended\n",
              "parallel    parallel    /usr/lib/R/library            4.3.1   base       \n",
              "rpart       rpart       /usr/lib/R/library            4.1.19  recommended\n",
              "spatial     spatial     /usr/lib/R/library            7.3-17  recommended\n",
              "splines     splines     /usr/lib/R/library            4.3.1   base       \n",
              "stats       stats       /usr/lib/R/library            4.3.1   base       \n",
              "stats4      stats4      /usr/lib/R/library            4.3.1   base       \n",
              "survival    survival    /usr/lib/R/library            3.5-7   recommended\n",
              "tcltk       tcltk       /usr/lib/R/library            4.3.1   base       \n",
              "tools       tools       /usr/lib/R/library            4.3.1   base       \n",
              "utils       utils       /usr/lib/R/library            4.3.1   base       \n",
              "            Depends                                            \n",
              "IRdisplay   R (>= 3.0.1)                                       \n",
              "IRkernel    R (>= 3.2.0)                                       \n",
              "pbdZMQ      R (>= 3.5.0)                                       \n",
              "repr        R (>= 3.0.1)                                       \n",
              "askpass     NA                                                 \n",
              "backports   R (>= 3.0.0)                                       \n",
              "base64enc   R (>= 2.9.0)                                       \n",
              "bit         R (>= 2.9.2)                                       \n",
              "bit64       R (>= 3.0.1), bit (>= 4.0.0), utils, methods, stats\n",
              "blob        NA                                                 \n",
              "brew        NA                                                 \n",
              "brio        NA                                                 \n",
              "broom       R (>= 3.5)                                         \n",
              "bslib       R (>= 2.10)                                        \n",
              "cachem      NA                                                 \n",
              "callr       R (>= 3.4)                                         \n",
              "cellranger  R (>= 3.0.0)                                       \n",
              "cli         R (>= 3.4)                                         \n",
              "clipr       NA                                                 \n",
              "colorspace  R (>= 3.0.0), methods                              \n",
              "commonmark  NA                                                 \n",
              "conflicted  R (>= 3.2)                                         \n",
              "cpp11       R (>= 3.5.0)                                       \n",
              "crayon      NA                                                 \n",
              "credentials NA                                                 \n",
              "curl        R (>= 3.0.0)                                       \n",
              "data.table  R (>= 3.1.0)                                       \n",
              "DBI         methods, R (>= 3.0.0)                              \n",
              "dbplyr      R (>= 3.1)                                         \n",
              "desc        R (>= 3.4)                                         \n",
              "⋮           ⋮                                                  \n",
              "zip         NA                                                 \n",
              "base        NA                                                 \n",
              "boot        R (>= 3.0.0), graphics, stats                      \n",
              "class       R (>= 3.0.0), stats, utils                         \n",
              "cluster     R (>= 3.5.0)                                       \n",
              "codetools   R (>= 2.1)                                         \n",
              "compiler    NA                                                 \n",
              "datasets    NA                                                 \n",
              "foreign     R (>= 4.0.0)                                       \n",
              "graphics    NA                                                 \n",
              "grDevices   NA                                                 \n",
              "grid        NA                                                 \n",
              "KernSmooth  R (>= 2.5.0), stats                                \n",
              "lattice     R (>= 4.0.0)                                       \n",
              "MASS        R (>= 4.0), grDevices, graphics, stats, utils      \n",
              "Matrix      R (>= 3.5.0), methods                              \n",
              "methods     NA                                                 \n",
              "mgcv        R (>= 3.6.0), nlme (>= 3.1-64)                     \n",
              "nlme        R (>= 3.5.0)                                       \n",
              "nnet        R (>= 3.0.0), stats, utils                         \n",
              "parallel    NA                                                 \n",
              "rpart       R (>= 2.15.0), graphics, stats, grDevices          \n",
              "spatial     R (>= 3.0.0), graphics, stats, utils               \n",
              "splines     NA                                                 \n",
              "stats       NA                                                 \n",
              "stats4      NA                                                 \n",
              "survival    R (>= 3.5.0)                                       \n",
              "tcltk       NA                                                 \n",
              "tools       NA                                                 \n",
              "utils       NA                                                 \n",
              "            Imports                                                                                                                                                                                                                                                                                          \n",
              "IRdisplay   methods, repr                                                                                                                                                                                                                                                                                    \n",
              "IRkernel    repr (>= 0.4.99), methods, evaluate (>= 0.10), IRdisplay (>=\\n0.3.0.9999), pbdZMQ (>= 0.2-1), crayon, jsonlite (>= 0.9.6),\\nuuid, digest                                                                                                                                                         \n",
              "pbdZMQ      NA                                                                                                                                                                                                                                                                                               \n",
              "repr        utils, grDevices, htmltools, jsonlite, pillar (>= 1.4.0),\\nbase64enc                                                                                                                                                                                                                             \n",
              "askpass     sys (>= 2.1)                                                                                                                                                                                                                                                                                     \n",
              "backports   NA                                                                                                                                                                                                                                                                                               \n",
              "base64enc   NA                                                                                                                                                                                                                                                                                               \n",
              "bit         NA                                                                                                                                                                                                                                                                                               \n",
              "bit64       NA                                                                                                                                                                                                                                                                                               \n",
              "blob        methods, rlang, vctrs (>= 0.2.1)                                                                                                                                                                                                                                                                 \n",
              "brew        NA                                                                                                                                                                                                                                                                                               \n",
              "brio        NA                                                                                                                                                                                                                                                                                               \n",
              "broom       backports, dplyr (>= 1.0.0), ellipsis, generics (>= 0.0.2),\\nglue, lifecycle, purrr, rlang, stringr, tibble (>= 3.0.0),\\ntidyr (>= 1.0.0)                                                                                                                                                        \n",
              "bslib       base64enc, cachem, grDevices, htmltools (>= 0.5.4), jquerylib\\n(>= 0.1.3), jsonlite, memoise (>= 2.0.1), mime, rlang, sass (>=\\n0.4.0)                                                                                                                                                           \n",
              "cachem      rlang, fastmap (>= 1.1.1)                                                                                                                                                                                                                                                                        \n",
              "callr       processx (>= 3.6.1), R6, utils                                                                                                                                                                                                                                                                   \n",
              "cellranger  rematch, tibble                                                                                                                                                                                                                                                                                  \n",
              "cli         utils                                                                                                                                                                                                                                                                                            \n",
              "clipr       utils                                                                                                                                                                                                                                                                                            \n",
              "colorspace  graphics, grDevices, stats                                                                                                                                                                                                                                                                       \n",
              "commonmark  NA                                                                                                                                                                                                                                                                                               \n",
              "conflicted  cli (>= 3.4.0), memoise, rlang (>= 1.0.0)                                                                                                                                                                                                                                                        \n",
              "cpp11       NA                                                                                                                                                                                                                                                                                               \n",
              "crayon      grDevices, methods, utils                                                                                                                                                                                                                                                                        \n",
              "credentials openssl (>= 1.3), sys (>= 2.1), curl, jsonlite, askpass                                                                                                                                                                                                                                          \n",
              "curl        NA                                                                                                                                                                                                                                                                                               \n",
              "data.table  methods                                                                                                                                                                                                                                                                                          \n",
              "DBI         NA                                                                                                                                                                                                                                                                                               \n",
              "dbplyr      blob (>= 1.2.0), cli (>= 3.4.1), DBI (>= 1.0.0), dplyr (>=\\n1.1.0), glue (>= 1.2.0), lifecycle (>= 1.0.3), magrittr,\\nmethods, pillar (>= 1.5.0), purrr (>= 1.0.1), R6 (>= 2.2.2),\\nrlang (>= 1.0.6), tibble (>= 1.4.2), tidyr (>= 1.3.0),\\ntidyselect (>= 1.2.0), utils, vctrs (>= 0.5.0), withr\n",
              "desc        cli, R6, rprojroot, utils                                                                                                                                                                                                                                                                        \n",
              "⋮           ⋮                                                                                                                                                                                                                                                                                                \n",
              "zip         NA                                                                                                                                                                                                                                                                                               \n",
              "base        NA                                                                                                                                                                                                                                                                                               \n",
              "boot        NA                                                                                                                                                                                                                                                                                               \n",
              "class       MASS                                                                                                                                                                                                                                                                                             \n",
              "cluster     graphics, grDevices, stats, utils                                                                                                                                                                                                                                                                \n",
              "codetools   NA                                                                                                                                                                                                                                                                                               \n",
              "compiler    NA                                                                                                                                                                                                                                                                                               \n",
              "datasets    NA                                                                                                                                                                                                                                                                                               \n",
              "foreign     methods, utils, stats                                                                                                                                                                                                                                                                            \n",
              "graphics    grDevices                                                                                                                                                                                                                                                                                        \n",
              "grDevices   NA                                                                                                                                                                                                                                                                                               \n",
              "grid        grDevices, utils                                                                                                                                                                                                                                                                                 \n",
              "KernSmooth  NA                                                                                                                                                                                                                                                                                               \n",
              "lattice     grid, grDevices, graphics, stats, utils                                                                                                                                                                                                                                                          \n",
              "MASS        methods                                                                                                                                                                                                                                                                                          \n",
              "Matrix      grDevices, graphics, grid, lattice, stats, utils                                                                                                                                                                                                                                                 \n",
              "methods     utils, stats                                                                                                                                                                                                                                                                                     \n",
              "mgcv        methods, stats, graphics, Matrix, splines, utils                                                                                                                                                                                                                                                 \n",
              "nlme        graphics, stats, utils, lattice                                                                                                                                                                                                                                                                  \n",
              "nnet        NA                                                                                                                                                                                                                                                                                               \n",
              "parallel    tools, compiler                                                                                                                                                                                                                                                                                  \n",
              "rpart       NA                                                                                                                                                                                                                                                                                               \n",
              "spatial     NA                                                                                                                                                                                                                                                                                               \n",
              "splines     graphics, stats                                                                                                                                                                                                                                                                                  \n",
              "stats       utils, grDevices, graphics                                                                                                                                                                                                                                                                       \n",
              "stats4      graphics, methods, stats                                                                                                                                                                                                                                                                         \n",
              "survival    graphics, Matrix, methods, splines, stats, utils                                                                                                                                                                                                                                                 \n",
              "tcltk       utils                                                                                                                                                                                                                                                                                            \n",
              "tools       NA                                                                                                                                                                                                                                                                                               \n",
              "utils       NA                                                                                                                                                                                                                                                                                               \n",
              "            LinkingTo\n",
              "IRdisplay   NA       \n",
              "IRkernel    NA       \n",
              "pbdZMQ      NA       \n",
              "repr        NA       \n",
              "askpass     NA       \n",
              "backports   NA       \n",
              "base64enc   NA       \n",
              "bit         NA       \n",
              "bit64       NA       \n",
              "blob        NA       \n",
              "brew        NA       \n",
              "brio        NA       \n",
              "broom       NA       \n",
              "bslib       NA       \n",
              "cachem      NA       \n",
              "callr       NA       \n",
              "cellranger  NA       \n",
              "cli         NA       \n",
              "clipr       NA       \n",
              "colorspace  NA       \n",
              "commonmark  NA       \n",
              "conflicted  NA       \n",
              "cpp11       NA       \n",
              "crayon      NA       \n",
              "credentials NA       \n",
              "curl        NA       \n",
              "data.table  NA       \n",
              "DBI         NA       \n",
              "dbplyr      NA       \n",
              "desc        NA       \n",
              "⋮           ⋮        \n",
              "zip         NA       \n",
              "base        NA       \n",
              "boot        NA       \n",
              "class       NA       \n",
              "cluster     NA       \n",
              "codetools   NA       \n",
              "compiler    NA       \n",
              "datasets    NA       \n",
              "foreign     NA       \n",
              "graphics    NA       \n",
              "grDevices   NA       \n",
              "grid        NA       \n",
              "KernSmooth  NA       \n",
              "lattice     NA       \n",
              "MASS        NA       \n",
              "Matrix      NA       \n",
              "methods     NA       \n",
              "mgcv        NA       \n",
              "nlme        NA       \n",
              "nnet        NA       \n",
              "parallel    NA       \n",
              "rpart       NA       \n",
              "spatial     NA       \n",
              "splines     NA       \n",
              "stats       NA       \n",
              "stats4      NA       \n",
              "survival    NA       \n",
              "tcltk       NA       \n",
              "tools       NA       \n",
              "utils       NA       \n",
              "            Suggests                                                                                                                                                                                                                                                                                                                                                                                                                                                                                                                                                                                                                                                                                                                                                           \n",
              "IRdisplay   testthat, withr                                                                                                                                                                                                                                                                                                                                                                                                                                                                                                                                                                                                                                                                                                                                                    \n",
              "IRkernel    testthat, roxygen2                                                                                                                                                                                                                                                                                                                                                                                                                                                                                                                                                                                                                                                                                                                                                 \n",
              "pbdZMQ      NA                                                                                                                                                                                                                                                                                                                                                                                                                                                                                                                                                                                                                                                                                                                                                                 \n",
              "repr        methods, highr, Cairo, stringr, testthat (>= 3.0.0), leaflet                                                                                                                                                                                                                                                                                                                                                                                                                                                                                                                                                                                                                                                                                                       \n",
              "askpass     testthat                                                                                                                                                                                                                                                                                                                                                                                                                                                                                                                                                                                                                                                                                                                                                           \n",
              "backports   NA                                                                                                                                                                                                                                                                                                                                                                                                                                                                                                                                                                                                                                                                                                                                                                 \n",
              "base64enc   NA                                                                                                                                                                                                                                                                                                                                                                                                                                                                                                                                                                                                                                                                                                                                                                 \n",
              "bit         testthat (>= 0.11.0), roxygen2, knitr, rmarkdown,\\nmicrobenchmark, bit64 (>= 4.0.0), ff (>= 4.0.0)                                                                                                                                                                                                                                                                                                                                                                                                                                                                                                                                                                                                                                                                 \n",
              "bit64       NA                                                                                                                                                                                                                                                                                                                                                                                                                                                                                                                                                                                                                                                                                                                                                                 \n",
              "blob        covr, crayon, pillar (>= 1.2.1), testthat                                                                                                                                                                                                                                                                                                                                                                                                                                                                                                                                                                                                                                                                                                                          \n",
              "brew        testthat (>= 3.0.0)                                                                                                                                                                                                                                                                                                                                                                                                                                                                                                                                                                                                                                                                                                                                                \n",
              "brio        covr, testthat (>= 2.1.0)                                                                                                                                                                                                                                                                                                                                                                                                                                                                                                                                                                                                                                                                                                                                          \n",
              "broom       AER, AUC, bbmle, betareg, biglm, binGroup, boot, btergm (>=\\n1.10.6), car, carData, caret, cluster, cmprsk, coda, covr, drc,\\ne1071, emmeans, epiR, ergm (>= 3.10.4), fixest (>= 0.9.0), gam\\n(>= 1.15), gee, geepack, ggplot2, glmnet, glmnetUtils, gmm,\\nHmisc, irlba, interp, joineRML, Kendall, knitr, ks, Lahman,\\nlavaan, leaps, lfe, lm.beta, lme4, lmodel2, lmtest (>= 0.9.38),\\nlsmeans, maps, margins, MASS, mclust, mediation, metafor, mfx,\\nmgcv, mlogit, modeldata, modeltests, muhaz, multcomp, network,\\nnnet, orcutt (>= 2.2), ordinal, plm, poLCA, psych, quantreg,\\nrmarkdown, robust, robustbase, rsample, sandwich, sp, spdep (>=\\n1.1), spatialreg, speedglm, spelling, survey, survival,\\nsystemfit, testthat (>= 2.1.0), tseries, vars, zoo\n",
              "bslib       bsicons, curl, fontawesome, ggplot2, knitr, magrittr,\\nrappdirs, rmarkdown (>= 2.7), shiny (>= 1.6.0), testthat,\\nthematic, withr                                                                                                                                                                                                                                                                                                                                                                                                                                                                                                                                                                                                                                  \n",
              "cachem      testthat                                                                                                                                                                                                                                                                                                                                                                                                                                                                                                                                                                                                                                                                                                                                                           \n",
              "callr       asciicast, cli (>= 1.1.0), covr, mockery, ps, rprojroot,\\nspelling, testthat (>= 3.0.0), withr (>= 2.3.0)                                                                                                                                                                                                                                                                                                                                                                                                                                                                                                                                                                                                                                                          \n",
              "cellranger  covr, testthat (>= 1.0.0), knitr, rmarkdown                                                                                                                                                                                                                                                                                                                                                                                                                                                                                                                                                                                                                                                                                                                        \n",
              "cli         callr, covr, crayon, digest, glue (>= 1.6.0), grDevices,\\nhtmltools, htmlwidgets, knitr, methods, mockery, processx, ps\\n(>= 1.3.4.9000), rlang (>= 1.0.2.9003), rmarkdown, rprojroot,\\nrstudioapi, testthat, tibble, whoami, withr                                                                                                                                                                                                                                                                                                                                                                                                                                                                                                                                \n",
              "clipr       covr, knitr, rmarkdown, rstudioapi (>= 0.5), testthat (>=\\n2.0.0)                                                                                                                                                                                                                                                                                                                                                                                                                                                                                                                                                                                                                                                                                                  \n",
              "colorspace  datasets, utils, KernSmooth, MASS, kernlab, mvtnorm, vcd,\\ntcltk, shiny, shinyjs, ggplot2, dplyr, scales, grid, png, jpeg,\\nknitr, rmarkdown, RColorBrewer, rcartocolor, scico, viridis,\\nwesanderson                                                                                                                                                                                                                                                                                                                                                                                                                                                                                                                                                              \n",
              "commonmark  curl, testthat, xml2                                                                                                                                                                                                                                                                                                                                                                                                                                                                                                                                                                                                                                                                                                                                               \n",
              "conflicted  callr, covr, dplyr, Matrix, methods, pkgload, testthat (>=\\n3.0.0), withr                                                                                                                                                                                                                                                                                                                                                                                                                                                                                                                                                                                                                                                                                          \n",
              "cpp11       bench, brio, callr, cli, covr, decor, desc, ggplot2, glue,\\nknitr, lobstr, mockery, progress, rmarkdown, scales, Rcpp,\\ntestthat, tibble, utils, vctrs, withr                                                                                                                                                                                                                                                                                                                                                                                                                                                                                                                                                                                                      \n",
              "crayon      mockery, rstudioapi, testthat, withr                                                                                                                                                                                                                                                                                                                                                                                                                                                                                                                                                                                                                                                                                                                               \n",
              "credentials testthat, knitr, rmarkdown                                                                                                                                                                                                                                                                                                                                                                                                                                                                                                                                                                                                                                                                                                                                         \n",
              "curl        spelling, testthat (>= 1.0.0), knitr, jsonlite, rmarkdown,\\nmagrittr, httpuv (>= 1.4.4), webutils                                                                                                                                                                                                                                                                                                                                                                                                                                                                                                                                                                                                                                                                  \n",
              "data.table  bit64 (>= 4.0.0), bit (>= 4.0.4), curl, R.utils, xts,\\nnanotime, zoo (>= 1.8-1), yaml, knitr, rmarkdown                                                                                                                                                                                                                                                                                                                                                                                                                                                                                                                                                                                                                                                            \n",
              "DBI         blob, covr, DBItest, dbplyr, downlit, dplyr, glue, hms,\\nknitr, magrittr, RMariaDB, rmarkdown, rprojroot, RSQLite (>=\\n1.1-2), testthat, xml2                                                                                                                                                                                                                                                                                                                                                                                                                                                                                                                                                                                                                      \n",
              "dbplyr      bit64, covr, knitr, Lahman, nycflights13, odbc, RMariaDB (>=\\n1.0.2), rmarkdown, RPostgres (>= 1.1.3), RPostgreSQL, RSQLite\\n(>= 2.2.15), testthat (>= 3.0.2)                                                                                                                                                                                                                                                                                                                                                                                                                                                                                                                                                                                                      \n",
              "desc        callr, covr, gh, spelling, testthat, whoami, withr                                                                                                                                                                                                                                                                                                                                                                                                                                                                                                                                                                                                                                                                                                                 \n",
              "⋮           ⋮                                                                                                                                                                                                                                                                                                                                                                                                                                                                                                                                                                                                                                                                                                                                                                  \n",
              "zip         covr, processx, R6, testthat, withr                                                                                                                                                                                                                                                                                                                                                                                                                                                                                                                                                                                                                                                                                                                                \n",
              "base        methods                                                                                                                                                                                                                                                                                                                                                                                                                                                                                                                                                                                                                                                                                                                                                            \n",
              "boot        MASS, survival                                                                                                                                                                                                                                                                                                                                                                                                                                                                                                                                                                                                                                                                                                                                                     \n",
              "class       NA                                                                                                                                                                                                                                                                                                                                                                                                                                                                                                                                                                                                                                                                                                                                                                 \n",
              "cluster     MASS, Matrix                                                                                                                                                                                                                                                                                                                                                                                                                                                                                                                                                                                                                                                                                                                                                       \n",
              "codetools   NA                                                                                                                                                                                                                                                                                                                                                                                                                                                                                                                                                                                                                                                                                                                                                                 \n",
              "compiler    NA                                                                                                                                                                                                                                                                                                                                                                                                                                                                                                                                                                                                                                                                                                                                                                 \n",
              "datasets    NA                                                                                                                                                                                                                                                                                                                                                                                                                                                                                                                                                                                                                                                                                                                                                                 \n",
              "foreign     NA                                                                                                                                                                                                                                                                                                                                                                                                                                                                                                                                                                                                                                                                                                                                                                 \n",
              "graphics    NA                                                                                                                                                                                                                                                                                                                                                                                                                                                                                                                                                                                                                                                                                                                                                                 \n",
              "grDevices   KernSmooth                                                                                                                                                                                                                                                                                                                                                                                                                                                                                                                                                                                                                                                                                                                                                         \n",
              "grid        NA                                                                                                                                                                                                                                                                                                                                                                                                                                                                                                                                                                                                                                                                                                                                                                 \n",
              "KernSmooth  MASS, carData                                                                                                                                                                                                                                                                                                                                                                                                                                                                                                                                                                                                                                                                                                                                                      \n",
              "lattice     KernSmooth, MASS, latticeExtra, colorspace                                                                                                                                                                                                                                                                                                                                                                                                                                                                                                                                                                                                                                                                                                                         \n",
              "MASS        lattice, nlme, nnet, survival                                                                                                                                                                                                                                                                                                                                                                                                                                                                                                                                                                                                                                                                                                                                      \n",
              "Matrix      MASS, datasets, sfsmisc                                                                                                                                                                                                                                                                                                                                                                                                                                                                                                                                                                                                                                                                                                                                            \n",
              "methods     codetools                                                                                                                                                                                                                                                                                                                                                                                                                                                                                                                                                                                                                                                                                                                                                          \n",
              "mgcv        parallel, survival, MASS                                                                                                                                                                                                                                                                                                                                                                                                                                                                                                                                                                                                                                                                                                                                           \n",
              "nlme        Hmisc, MASS, SASmixed                                                                                                                                                                                                                                                                                                                                                                                                                                                                                                                                                                                                                                                                                                                                              \n",
              "nnet        MASS                                                                                                                                                                                                                                                                                                                                                                                                                                                                                                                                                                                                                                                                                                                                                               \n",
              "parallel    methods                                                                                                                                                                                                                                                                                                                                                                                                                                                                                                                                                                                                                                                                                                                                                            \n",
              "rpart       survival                                                                                                                                                                                                                                                                                                                                                                                                                                                                                                                                                                                                                                                                                                                                                           \n",
              "spatial     MASS                                                                                                                                                                                                                                                                                                                                                                                                                                                                                                                                                                                                                                                                                                                                                               \n",
              "splines     Matrix, methods                                                                                                                                                                                                                                                                                                                                                                                                                                                                                                                                                                                                                                                                                                                                                    \n",
              "stats       MASS, Matrix, SuppDists, methods, stats4                                                                                                                                                                                                                                                                                                                                                                                                                                                                                                                                                                                                                                                                                                                           \n",
              "stats4      NA                                                                                                                                                                                                                                                                                                                                                                                                                                                                                                                                                                                                                                                                                                                                                                 \n",
              "survival    NA                                                                                                                                                                                                                                                                                                                                                                                                                                                                                                                                                                                                                                                                                                                                                                 \n",
              "tcltk       NA                                                                                                                                                                                                                                                                                                                                                                                                                                                                                                                                                                                                                                                                                                                                                                 \n",
              "tools       codetools, methods, xml2, curl, commonmark, knitr, xfun, mathjaxr, V8                                                                                                                                                                                                                                                                                                                                                                                                                                                                                                                                                                                                                                                                                              \n",
              "utils       methods, xml2, commonmark, knitr                                                                                                                                                                                                                                                                                                                                                                                                                                                                                                                                                                                                                                                                                                                                   \n",
              "            Enhances                                                    \n",
              "IRdisplay   NA                                                          \n",
              "IRkernel    NA                                                          \n",
              "pbdZMQ      NA                                                          \n",
              "repr        data.table, tibble, htmlwidgets, vegalite, plotly, geojsonio\n",
              "askpass     NA                                                          \n",
              "backports   NA                                                          \n",
              "base64enc   png                                                         \n",
              "bit         NA                                                          \n",
              "bit64       NA                                                          \n",
              "blob        NA                                                          \n",
              "brew        NA                                                          \n",
              "brio        NA                                                          \n",
              "broom       NA                                                          \n",
              "bslib       NA                                                          \n",
              "cachem      NA                                                          \n",
              "callr       NA                                                          \n",
              "cellranger  NA                                                          \n",
              "cli         NA                                                          \n",
              "clipr       NA                                                          \n",
              "colorspace  NA                                                          \n",
              "commonmark  NA                                                          \n",
              "conflicted  NA                                                          \n",
              "cpp11       NA                                                          \n",
              "crayon      NA                                                          \n",
              "credentials NA                                                          \n",
              "curl        NA                                                          \n",
              "data.table  NA                                                          \n",
              "DBI         NA                                                          \n",
              "dbplyr      NA                                                          \n",
              "desc        NA                                                          \n",
              "⋮           ⋮                                                           \n",
              "zip         NA                                                          \n",
              "base        NA                                                          \n",
              "boot        NA                                                          \n",
              "class       NA                                                          \n",
              "cluster     NA                                                          \n",
              "codetools   NA                                                          \n",
              "compiler    NA                                                          \n",
              "datasets    NA                                                          \n",
              "foreign     NA                                                          \n",
              "graphics    NA                                                          \n",
              "grDevices   NA                                                          \n",
              "grid        NA                                                          \n",
              "KernSmooth  NA                                                          \n",
              "lattice     chron                                                       \n",
              "MASS        NA                                                          \n",
              "Matrix      SparseM, graph                                              \n",
              "methods     NA                                                          \n",
              "mgcv        NA                                                          \n",
              "nlme        NA                                                          \n",
              "nnet        NA                                                          \n",
              "parallel    snow, Rmpi                                                  \n",
              "rpart       NA                                                          \n",
              "spatial     NA                                                          \n",
              "splines     NA                                                          \n",
              "stats       NA                                                          \n",
              "stats4      NA                                                          \n",
              "survival    NA                                                          \n",
              "tcltk       NA                                                          \n",
              "tools       NA                                                          \n",
              "utils       NA                                                          \n",
              "            License                     License_is_FOSS License_restricts_use\n",
              "IRdisplay   MIT + file LICENSE          NA              NA                   \n",
              "IRkernel    MIT + file LICENSE          NA              NA                   \n",
              "pbdZMQ      GPL-3                       NA              NA                   \n",
              "repr        GPL (>= 3)                  NA              NA                   \n",
              "askpass     MIT + file LICENSE          NA              NA                   \n",
              "backports   GPL-2 | GPL-3               NA              NA                   \n",
              "base64enc   GPL-2 | GPL-3               NA              NA                   \n",
              "bit         GPL-2 | GPL-3               NA              NA                   \n",
              "bit64       GPL-2 | GPL-3               NA              NA                   \n",
              "blob        MIT + file LICENSE          NA              NA                   \n",
              "brew        GPL-2                       NA              NA                   \n",
              "brio        MIT + file LICENSE          NA              NA                   \n",
              "broom       MIT + file LICENSE          NA              NA                   \n",
              "bslib       MIT + file LICENSE          NA              NA                   \n",
              "cachem      MIT + file LICENSE          NA              NA                   \n",
              "callr       MIT + file LICENSE          NA              NA                   \n",
              "cellranger  MIT + file LICENSE          NA              NA                   \n",
              "cli         MIT + file LICENSE          NA              NA                   \n",
              "clipr       GPL-3                       NA              NA                   \n",
              "colorspace  BSD_3_clause + file LICENSE NA              NA                   \n",
              "commonmark  BSD_2_clause + file LICENSE NA              NA                   \n",
              "conflicted  MIT + file LICENSE          NA              NA                   \n",
              "cpp11       MIT + file LICENSE          NA              NA                   \n",
              "crayon      MIT + file LICENSE          NA              NA                   \n",
              "credentials MIT + file LICENSE          NA              NA                   \n",
              "curl        MIT + file LICENSE          NA              NA                   \n",
              "data.table  MPL-2.0 | file LICENSE      NA              NA                   \n",
              "DBI         LGPL (>= 2.1)               NA              NA                   \n",
              "dbplyr      MIT + file LICENSE          NA              NA                   \n",
              "desc        MIT + file LICENSE          NA              NA                   \n",
              "⋮           ⋮                           ⋮               ⋮                    \n",
              "zip         MIT + file LICENSE          NA              NA                   \n",
              "base        Part of R 4.3.1             NA              NA                   \n",
              "boot        Unlimited                   NA              NA                   \n",
              "class       GPL-2 | GPL-3               NA              NA                   \n",
              "cluster     GPL (>= 2)                  NA              NA                   \n",
              "codetools   GPL                         NA              NA                   \n",
              "compiler    Part of R 4.3.1             NA              NA                   \n",
              "datasets    Part of R 4.3.1             NA              NA                   \n",
              "foreign     GPL (>= 2)                  NA              NA                   \n",
              "graphics    Part of R 4.3.1             NA              NA                   \n",
              "grDevices   Part of R 4.3.1             NA              NA                   \n",
              "grid        Part of R 4.3.1             NA              NA                   \n",
              "KernSmooth  Unlimited                   NA              NA                   \n",
              "lattice     GPL (>= 2)                  NA              NA                   \n",
              "MASS        GPL-2 | GPL-3               NA              NA                   \n",
              "Matrix      GPL (>= 2) | file LICENCE   NA              NA                   \n",
              "methods     Part of R 4.3.1             NA              NA                   \n",
              "mgcv        GPL (>= 2)                  NA              NA                   \n",
              "nlme        GPL (>= 2)                  NA              NA                   \n",
              "nnet        GPL-2 | GPL-3               NA              NA                   \n",
              "parallel    Part of R 4.3.1             NA              NA                   \n",
              "rpart       GPL-2 | GPL-3               NA              NA                   \n",
              "spatial     GPL-2 | GPL-3               NA              NA                   \n",
              "splines     Part of R 4.3.1             NA              NA                   \n",
              "stats       Part of R 4.3.1             NA              NA                   \n",
              "stats4      Part of R 4.3.1             NA              NA                   \n",
              "survival    LGPL (>= 2)                 NA              NA                   \n",
              "tcltk       Part of R 4.3.1             NA              NA                   \n",
              "tools       Part of R 4.3.1             NA              NA                   \n",
              "utils       Part of R 4.3.1             NA              NA                   \n",
              "            OS_type MD5sum NeedsCompilation Built\n",
              "IRdisplay   NA      NA     no               4.3.1\n",
              "IRkernel    NA      NA     no               4.3.1\n",
              "pbdZMQ      NA      NA     yes              4.3.1\n",
              "repr        NA      NA     no               4.3.1\n",
              "askpass     NA      NA     yes              4.3.1\n",
              "backports   NA      NA     yes              4.2.0\n",
              "base64enc   NA      NA     yes              4.0.2\n",
              "bit         NA      NA     yes              4.0.2\n",
              "bit64       NA      NA     yes              4.2.0\n",
              "blob        NA      NA     no               4.2.3\n",
              "brew        NA      NA     no               4.2.1\n",
              "brio        NA      NA     yes              4.2.0\n",
              "broom       NA      NA     no               4.3.1\n",
              "bslib       NA      NA     no               4.3.1\n",
              "cachem      NA      NA     yes              4.3.0\n",
              "callr       NA      NA     no               4.2.2\n",
              "cellranger  NA      NA     no               4.0.1\n",
              "cli         NA      NA     yes              4.2.3\n",
              "clipr       NA      NA     no               4.2.0\n",
              "colorspace  NA      NA     yes              4.2.2\n",
              "commonmark  NA      NA     yes              4.2.3\n",
              "conflicted  NA      NA     no               4.2.2\n",
              "cpp11       NA      NA     no               4.3.1\n",
              "crayon      NA      NA     no               4.2.1\n",
              "credentials NA      NA     no               4.3.1\n",
              "curl        NA      NA     yes              4.3.1\n",
              "data.table  NA      NA     yes              4.2.2\n",
              "DBI         NA      NA     no               4.2.1\n",
              "dbplyr      NA      NA     no               4.3.1\n",
              "desc        NA      NA     no               4.2.1\n",
              "⋮           ⋮       ⋮      ⋮                ⋮    \n",
              "zip         NA      NA     yes              4.3.0\n",
              "base        NA      NA     NA               4.3.1\n",
              "boot        NA      NA     no               4.2.0\n",
              "class       NA      NA     yes              4.3.1\n",
              "cluster     NA      NA     yes              4.2.1\n",
              "codetools   NA      NA     no               4.2.2\n",
              "compiler    NA      NA     NA               4.3.1\n",
              "datasets    NA      NA     NA               4.3.1\n",
              "foreign     NA      NA     yes              4.3.1\n",
              "graphics    NA      NA     yes              4.3.1\n",
              "grDevices   NA      NA     yes              4.3.1\n",
              "grid        NA      NA     yes              4.3.1\n",
              "KernSmooth  NA      NA     yes              4.3.1\n",
              "lattice     NA      NA     yes              4.3.1\n",
              "MASS        NA      NA     yes              4.3.1\n",
              "Matrix      NA      NA     yes              4.3.1\n",
              "methods     NA      NA     yes              4.3.1\n",
              "mgcv        NA      NA     yes              4.3.1\n",
              "nlme        NA      NA     yes              4.3.1\n",
              "nnet        NA      NA     yes              4.3.1\n",
              "parallel    NA      NA     yes              4.3.1\n",
              "rpart       NA      NA     yes              4.2.1\n",
              "spatial     NA      NA     yes              4.3.1\n",
              "splines     NA      NA     yes              4.3.1\n",
              "stats       NA      NA     yes              4.3.1\n",
              "stats4      NA      NA     NA               4.3.1\n",
              "survival    NA      NA     yes              4.3.1\n",
              "tcltk       NA      NA     yes              4.3.1\n",
              "tools       NA      NA     yes              4.3.1\n",
              "utils       NA      NA     yes              4.3.1"
            ]
          },
          "metadata": {}
        }
      ],
      "source": [
        "#Iniciamos cargando las librerias de R-Studio para no tener ningún tipo de problemas en trabajos/actividades futuras-\n",
        "installed.packages()"
      ]
    },
    {
      "cell_type": "code",
      "source": [
        "#En lenguaje R, es muy sencillo generar una impresion con algún comentario o resultado. Con ayuda de la función print() la podremos utilizar\n",
        "#para mostrar valores en la consola o en la salida de un script o programa en R.\n",
        "\n",
        "print(\"Hello\")\n",
        "print(\"Hola, Soy Alison, ¿Cómo estás?\")"
      ],
      "metadata": {
        "colab": {
          "base_uri": "https://localhost:8080/"
        },
        "id": "MP_vgQVuPO17",
        "outputId": "306ca3fc-9fd8-4db7-f585-94273a7f2bf9"
      },
      "execution_count": null,
      "outputs": [
        {
          "output_type": "stream",
          "name": "stdout",
          "text": [
            "[1] \"Hello\"\n",
            "[1] \"Hola, Soy Alison, ¿Cómo estás?\"\n"
          ]
        }
      ]
    },
    {
      "cell_type": "code",
      "source": [
        "#Iniciamos creando un vector numérico con los siguientes valores = c(1, 5, 6, 2, 3, 4). Este vector se llama c(1, 5, 6, 2, 3, 4).#Co\n",
        "\n",
        "#Con ayuda de la función mean() la utilizaremos para calcular el valor promedio (media) de un conjunto de números. En este caso, se le\n",
        "#pasa como argumento el vector creado anteriormente .\n",
        "\n",
        "mean(c(1,5,6,2,3,4))"
      ],
      "metadata": {
        "colab": {
          "base_uri": "https://localhost:8080/",
          "height": 34
        },
        "id": "rHyvD7TPPO5k",
        "outputId": "7373aef7-6109-4670-ba87-9a1735f5427e"
      },
      "execution_count": null,
      "outputs": [
        {
          "output_type": "display_data",
          "data": {
            "text/html": [
              "3.5"
            ],
            "text/markdown": "3.5",
            "text/latex": "3.5",
            "text/plain": [
              "[1] 3.5"
            ]
          },
          "metadata": {}
        }
      ]
    },
    {
      "cell_type": "code",
      "source": [
        "#Al igual que el ejemplo anterior, iniciamos creando un vector llamado a que contiene los valores 1, 7, 8, 10 y 25. = a <- c(1, 7, 8, 10, 25):\n",
        "#Es importante saber que el operador c() se utiliza para concatenar estos valores y crear un vector numérico.\n",
        "\n",
        "#Le pedimos al programa que calcule la media (o promedio) de los valores en el vector a, con ayuda de la función mean(), el cual tomará el vector numérico como\n",
        "#argumento y devolviendo el valor promedio de esos números.\n",
        "\n",
        "a <-c(1,7,8,10,25)\n",
        "mean (a)"
      ],
      "metadata": {
        "colab": {
          "base_uri": "https://localhost:8080/",
          "height": 34
        },
        "id": "PCpgNvkSPO8t",
        "outputId": "d4673773-8cb2-448d-da73-30c609d72ca4"
      },
      "execution_count": null,
      "outputs": [
        {
          "output_type": "display_data",
          "data": {
            "text/html": [
              "10.2"
            ],
            "text/markdown": "10.2",
            "text/latex": "10.2",
            "text/plain": [
              "[1] 10.2"
            ]
          },
          "metadata": {}
        }
      ]
    },
    {
      "cell_type": "code",
      "source": [
        "# Con ayuda de la función sd se utilizará ara calcular la desviación estándar de un conjunto de datos, en este caso del vector numérico a del ejemplo anterior.\n",
        "sd(a)"
      ],
      "metadata": {
        "colab": {
          "base_uri": "https://localhost:8080/",
          "height": 34
        },
        "id": "l6xAxi84PO_q",
        "outputId": "d8e9a8f7-bf57-4867-ce2a-4cd50cbcaaf2"
      },
      "execution_count": null,
      "outputs": [
        {
          "output_type": "display_data",
          "data": {
            "text/html": [
              "8.92748564826626"
            ],
            "text/markdown": "8.92748564826626",
            "text/latex": "8.92748564826626",
            "text/plain": [
              "[1] 8.927486"
            ]
          },
          "metadata": {}
        }
      ]
    },
    {
      "cell_type": "code",
      "source": [
        "#Con ayuda de la función factor() la utilizaremos para convertir un vector de datos en un factor en R. Con ayuda de ese factor que es una variable\n",
        "#categórica que puede tomar un conjunto predefinido de valores llamados niveles. En este caso, el vector de caracteres se convierte en un factor.\n",
        "\n",
        "b<- factor(c(\"trea\", \"trea\",\"trea\",\"ctrl\",\"ctrl\"))"
      ],
      "metadata": {
        "id": "T2c-RPeVPPeq"
      },
      "execution_count": null,
      "outputs": []
    },
    {
      "cell_type": "code",
      "source": [
        "print(\"Hello\") #Mandamos imprimir un mensaje\n",
        "a<- c(1,7,8,20,25) #Creamos un vector numérico de nombre a\n",
        "print(mean(a)) #Le pedimos al programa que nos imprima el resultado de la media del veector numerico a"
      ],
      "metadata": {
        "colab": {
          "base_uri": "https://localhost:8080/"
        },
        "id": "3HBbDW-WPPhv",
        "outputId": "11950f7c-feb8-4ee3-bfda-1a11b2e7fe33"
      },
      "execution_count": null,
      "outputs": [
        {
          "output_type": "stream",
          "name": "stdout",
          "text": [
            "[1] \"Hello\"\n",
            "[1] 12.2\n"
          ]
        }
      ]
    },
    {
      "cell_type": "code",
      "source": [
        "help(\"sum\") #Con ayuda de este comando podremos obtener informacion: Descripcioón, sintaxis, Ejemplo de uso, Detalles técnicos\n",
        "            #sobre la funcion sum(),en la cual obtendremos una ventana emergente,es decir, una pestaña en el panel de ayuda."
      ],
      "metadata": {
        "id": "_ulSWptDPPkh"
      },
      "execution_count": null,
      "outputs": []
    },
    {
      "cell_type": "code",
      "source": [
        "help(help) #Se utiliza para obtener información de ayuda sobre la función help(), el cual incluye información detallada sobre los argumentos\n",
        "           #que puedes proporcionar a la función help() y cómo buscar ayuda específica para una función o paquete."
      ],
      "metadata": {
        "id": "eNBhAjNARcbY"
      },
      "execution_count": null,
      "outputs": []
    },
    {
      "cell_type": "code",
      "source": [
        "1 + 2 * 3\n",
        "\n",
        "1 + (2 * 3)\n",
        "\n",
        "(1 + 2) * 3"
      ],
      "metadata": {
        "colab": {
          "base_uri": "https://localhost:8080/",
          "height": 69
        },
        "id": "cqJL3Fz4Rcet",
        "outputId": "1f8a380c-bfe2-4ee6-a27b-542455582fd0"
      },
      "execution_count": null,
      "outputs": [
        {
          "output_type": "display_data",
          "data": {
            "text/html": [
              "7"
            ],
            "text/markdown": "7",
            "text/latex": "7",
            "text/plain": [
              "[1] 7"
            ]
          },
          "metadata": {}
        },
        {
          "output_type": "display_data",
          "data": {
            "text/html": [
              "7"
            ],
            "text/markdown": "7",
            "text/latex": "7",
            "text/plain": [
              "[1] 7"
            ]
          },
          "metadata": {}
        },
        {
          "output_type": "display_data",
          "data": {
            "text/html": [
              "9"
            ],
            "text/markdown": "9",
            "text/latex": "9",
            "text/plain": [
              "[1] 9"
            ]
          },
          "metadata": {}
        }
      ]
    },
    {
      "cell_type": "code",
      "source": [
        "1 + 1 #Se realiza una suma\n",
        "2 * 2 #Se realiza una multiplicacion\n",
        "2 + 10 / 5\n",
        "(2 + 10)/ 5\n",
        "10 ^2 +1 #Se calcula 10 elevado a la potencia de 2\n",
        "sqrt(9) #Se calcula la raíz cuadrada de 9\n",
        "pi #Pedimos que nos devulva el valor de pi\n",
        "print(pi, digits = 22) #Le pedimos al programa que nos muuestre el valor de pi con una precisión de 22 dígitos decimales\n",
        "sin(pi) #Le pedimos al programa que nos de el resultados de seno de pi\n",
        "log(100) #Le pedimos al programa calcular el logaritmo natural de 100\n",
        "log10(100) #Le pedimos al programa calcular el logaritmo en base 10 de 100\n",
        "log2(8) #Le pedimos al programa calcular el logaritmo en base 2 de 8\n",
        "exp(1) #Le pedimos al programa calcular la función exponencial de 1"
      ],
      "metadata": {
        "colab": {
          "base_uri": "https://localhost:8080/",
          "height": 244
        },
        "id": "yrp4d-jnRciX",
        "outputId": "08a83713-accd-4c56-ad90-c562cb24f9a9"
      },
      "execution_count": null,
      "outputs": [
        {
          "output_type": "display_data",
          "data": {
            "text/html": [
              "2"
            ],
            "text/markdown": "2",
            "text/latex": "2",
            "text/plain": [
              "[1] 2"
            ]
          },
          "metadata": {}
        },
        {
          "output_type": "display_data",
          "data": {
            "text/html": [
              "4"
            ],
            "text/markdown": "4",
            "text/latex": "4",
            "text/plain": [
              "[1] 4"
            ]
          },
          "metadata": {}
        },
        {
          "output_type": "display_data",
          "data": {
            "text/html": [
              "4"
            ],
            "text/markdown": "4",
            "text/latex": "4",
            "text/plain": [
              "[1] 4"
            ]
          },
          "metadata": {}
        },
        {
          "output_type": "display_data",
          "data": {
            "text/html": [
              "2.4"
            ],
            "text/markdown": "2.4",
            "text/latex": "2.4",
            "text/plain": [
              "[1] 2.4"
            ]
          },
          "metadata": {}
        },
        {
          "output_type": "display_data",
          "data": {
            "text/html": [
              "101"
            ],
            "text/markdown": "101",
            "text/latex": "101",
            "text/plain": [
              "[1] 101"
            ]
          },
          "metadata": {}
        },
        {
          "output_type": "display_data",
          "data": {
            "text/html": [
              "3"
            ],
            "text/markdown": "3",
            "text/latex": "3",
            "text/plain": [
              "[1] 3"
            ]
          },
          "metadata": {}
        },
        {
          "output_type": "display_data",
          "data": {
            "text/html": [
              "3.14159265358979"
            ],
            "text/markdown": "3.14159265358979",
            "text/latex": "3.14159265358979",
            "text/plain": [
              "[1] 3.141593"
            ]
          },
          "metadata": {}
        },
        {
          "output_type": "stream",
          "name": "stdout",
          "text": [
            "[1] 3.141592653589793115998\n"
          ]
        },
        {
          "output_type": "display_data",
          "data": {
            "text/html": [
              "1.22464679914735e-16"
            ],
            "text/markdown": "1.22464679914735e-16",
            "text/latex": "1.22464679914735e-16",
            "text/plain": [
              "[1] 1.224647e-16"
            ]
          },
          "metadata": {}
        },
        {
          "output_type": "display_data",
          "data": {
            "text/html": [
              "4.60517018598809"
            ],
            "text/markdown": "4.60517018598809",
            "text/latex": "4.60517018598809",
            "text/plain": [
              "[1] 4.60517"
            ]
          },
          "metadata": {}
        },
        {
          "output_type": "display_data",
          "data": {
            "text/html": [
              "2"
            ],
            "text/markdown": "2",
            "text/latex": "2",
            "text/plain": [
              "[1] 2"
            ]
          },
          "metadata": {}
        },
        {
          "output_type": "display_data",
          "data": {
            "text/html": [
              "3"
            ],
            "text/markdown": "3",
            "text/latex": "3",
            "text/plain": [
              "[1] 3"
            ]
          },
          "metadata": {}
        },
        {
          "output_type": "display_data",
          "data": {
            "text/html": [
              "2.71828182845905"
            ],
            "text/markdown": "2.71828182845905",
            "text/latex": "2.71828182845905",
            "text/plain": [
              "[1] 2.718282"
            ]
          },
          "metadata": {}
        }
      ]
    },
    {
      "cell_type": "code",
      "source": [
        "#Aqui le estamos pidiendo al programa que con ayuda de la función round() redonde el número 0.0124567 a 3 decimales.\n",
        "round(0.0124567, digits = 3)"
      ],
      "metadata": {
        "colab": {
          "base_uri": "https://localhost:8080/",
          "height": 34
        },
        "id": "8I3DMG6vR4cy",
        "outputId": "8bba0be2-3b36-4064-c88e-ce71202b060b"
      },
      "execution_count": null,
      "outputs": [
        {
          "output_type": "display_data",
          "data": {
            "text/html": [
              "0.012"
            ],
            "text/markdown": "0.012",
            "text/latex": "0.012",
            "text/plain": [
              "[1] 0.012"
            ]
          },
          "metadata": {}
        }
      ]
    },
    {
      "cell_type": "code",
      "source": [
        "round(0.0124567, 3) #Aqui le pedimos al programa que lo redonde a 3 lugares decimales."
      ],
      "metadata": {
        "colab": {
          "base_uri": "https://localhost:8080/",
          "height": 34
        },
        "id": "M_4Uo1L-R4gS",
        "outputId": "3990744f-eef2-4190-cd83-8c2206038097"
      },
      "execution_count": null,
      "outputs": [
        {
          "output_type": "display_data",
          "data": {
            "text/html": [
              "0.012"
            ],
            "text/markdown": "0.012",
            "text/latex": "0.012",
            "text/plain": [
              "[1] 0.012"
            ]
          },
          "metadata": {}
        }
      ]
    },
    {
      "cell_type": "code",
      "source": [
        "a <- TRUE #Se crea una variable llamada a y se le asigna el valor lógico TRUE, que representa \"verdadero\"\n",
        "b <- FALSE #Se crea una variable llamada b y se le asigna el valor lógico FALSE, que representa \"falso\"\n",
        "mode (a) #  Con ayuda de la función mode, podremos saber el tipo de dato.\n",
        "\n",
        "a #Muestra el contenido de la variable a\n",
        "!a\n",
        "\n",
        "a && b #Con ayuda de && Verifica si ambas son verdaderas, es decir, TRUE\n",
        "\n",
        "a || b #El operador || realiza una operación lógica \"o\" (OR) entre dos expresiones. En este caso, verifica si al menos una de a o b es TRUE.\n",
        "       #Dado que a es TRUE, el resultado será TRUE. Esto imprimirá TRUE en la consola.\n",
        "\n",
        "xor(a,b) #La función xor() se utiliza para realizar una operación lógica \"o exclusivo\" (XOR) entre dos expresiones. Devuelve TRUE si una y solo una\n",
        "         #de las expresiones es TRUE. En este caso, dado que a es TRUE y b es FALSE, el resultado será TRUE."
      ],
      "metadata": {
        "colab": {
          "base_uri": "https://localhost:8080/",
          "height": 121
        },
        "id": "f5ssUp2mR4jf",
        "outputId": "0a49344f-7053-4cbb-f6ef-97bae5de2111"
      },
      "execution_count": null,
      "outputs": [
        {
          "output_type": "display_data",
          "data": {
            "text/html": [
              "'logical'"
            ],
            "text/markdown": "'logical'",
            "text/latex": "'logical'",
            "text/plain": [
              "[1] \"logical\""
            ]
          },
          "metadata": {}
        },
        {
          "output_type": "display_data",
          "data": {
            "text/html": [
              "TRUE"
            ],
            "text/markdown": "TRUE",
            "text/latex": "TRUE",
            "text/plain": [
              "[1] TRUE"
            ]
          },
          "metadata": {}
        },
        {
          "output_type": "display_data",
          "data": {
            "text/html": [
              "FALSE"
            ],
            "text/markdown": "FALSE",
            "text/latex": "FALSE",
            "text/plain": [
              "[1] FALSE"
            ]
          },
          "metadata": {}
        },
        {
          "output_type": "display_data",
          "data": {
            "text/html": [
              "FALSE"
            ],
            "text/markdown": "FALSE",
            "text/latex": "FALSE",
            "text/plain": [
              "[1] FALSE"
            ]
          },
          "metadata": {}
        },
        {
          "output_type": "display_data",
          "data": {
            "text/html": [
              "TRUE"
            ],
            "text/markdown": "TRUE",
            "text/latex": "TRUE",
            "text/plain": [
              "[1] TRUE"
            ]
          },
          "metadata": {}
        },
        {
          "output_type": "display_data",
          "data": {
            "text/html": [
              "TRUE"
            ],
            "text/markdown": "TRUE",
            "text/latex": "TRUE",
            "text/plain": [
              "[1] TRUE"
            ]
          },
          "metadata": {}
        }
      ]
    },
    {
      "cell_type": "code",
      "source": [
        "a <- letters[1:10]\n",
        "a[5:1] <- a[c(TRUE, FALSE)]\n",
        "a"
      ],
      "metadata": {
        "colab": {
          "base_uri": "https://localhost:8080/",
          "height": 34
        },
        "id": "9MrnBMisR4mr",
        "outputId": "1791e2f6-9b01-49e4-afd7-0a2324069808"
      },
      "execution_count": null,
      "outputs": [
        {
          "output_type": "display_data",
          "data": {
            "text/html": [
              "<style>\n",
              ".list-inline {list-style: none; margin:0; padding: 0}\n",
              ".list-inline>li {display: inline-block}\n",
              ".list-inline>li:not(:last-child)::after {content: \"\\00b7\"; padding: 0 .5ex}\n",
              "</style>\n",
              "<ol class=list-inline><li>'i'</li><li>'g'</li><li>'e'</li><li>'c'</li><li>'a'</li><li>'f'</li><li>'g'</li><li>'h'</li><li>'i'</li><li>'j'</li></ol>\n"
            ],
            "text/markdown": "1. 'i'\n2. 'g'\n3. 'e'\n4. 'c'\n5. 'a'\n6. 'f'\n7. 'g'\n8. 'h'\n9. 'i'\n10. 'j'\n\n\n",
            "text/latex": "\\begin{enumerate*}\n\\item 'i'\n\\item 'g'\n\\item 'e'\n\\item 'c'\n\\item 'a'\n\\item 'f'\n\\item 'g'\n\\item 'h'\n\\item 'i'\n\\item 'j'\n\\end{enumerate*}\n",
            "text/plain": [
              " [1] \"i\" \"g\" \"e\" \"c\" \"a\" \"f\" \"g\" \"h\" \"i\" \"j\""
            ]
          },
          "metadata": {}
        }
      ]
    },
    {
      "cell_type": "code",
      "source": [
        "b <- LETTERS[1:10] #Se crea un vector a que contiene las primeras 10 letras minúsculas del alfabeto\n",
        "b[1] #Seleccionamos el primer elemento del vector b y asi sucesivamente.....\n",
        "\n",
        "b[1.1]\n",
        "\n",
        "b[1.9999]\n",
        "\n",
        "b[2]"
      ],
      "metadata": {
        "colab": {
          "base_uri": "https://localhost:8080/",
          "height": 86
        },
        "id": "pFG6FJZpRcmE",
        "outputId": "a15af665-7ad5-40d0-c243-161c09f6bf6e"
      },
      "execution_count": null,
      "outputs": [
        {
          "output_type": "display_data",
          "data": {
            "text/html": [
              "'A'"
            ],
            "text/markdown": "'A'",
            "text/latex": "'A'",
            "text/plain": [
              "[1] \"A\""
            ]
          },
          "metadata": {}
        },
        {
          "output_type": "display_data",
          "data": {
            "text/html": [
              "'A'"
            ],
            "text/markdown": "'A'",
            "text/latex": "'A'",
            "text/plain": [
              "[1] \"A\""
            ]
          },
          "metadata": {}
        },
        {
          "output_type": "display_data",
          "data": {
            "text/html": [
              "'A'"
            ],
            "text/markdown": "'A'",
            "text/latex": "'A'",
            "text/plain": [
              "[1] \"A\""
            ]
          },
          "metadata": {}
        },
        {
          "output_type": "display_data",
          "data": {
            "text/html": [
              "'B'"
            ],
            "text/markdown": "'B'",
            "text/latex": "'B'",
            "text/plain": [
              "[1] \"B\""
            ]
          },
          "metadata": {}
        }
      ]
    },
    {
      "cell_type": "code",
      "source": [
        "b <- LETTERS[1:10] #Se crea un vector b que contiene las primeras 10 letras mayúsculas del alfabeto\n",
        "b[-1] #Se excluye el primer elemento (A) utilizando -1 como índice negativo. El resultado será un vector que contiene las letras desde la segunda hasta la décima letra\n",
        "\n",
        "b[-1.1]\n",
        "\n",
        "b[-1.9999]\n",
        "\n",
        "b[-2]"
      ],
      "metadata": {
        "colab": {
          "base_uri": "https://localhost:8080/",
          "height": 86
        },
        "id": "vakvq-bHS2tG",
        "outputId": "4d8d472b-ed78-4d27-cb17-281899381c5d"
      },
      "execution_count": null,
      "outputs": [
        {
          "output_type": "display_data",
          "data": {
            "text/html": [
              "<style>\n",
              ".list-inline {list-style: none; margin:0; padding: 0}\n",
              ".list-inline>li {display: inline-block}\n",
              ".list-inline>li:not(:last-child)::after {content: \"\\00b7\"; padding: 0 .5ex}\n",
              "</style>\n",
              "<ol class=list-inline><li>'B'</li><li>'C'</li><li>'D'</li><li>'E'</li><li>'F'</li><li>'G'</li><li>'H'</li><li>'I'</li><li>'J'</li></ol>\n"
            ],
            "text/markdown": "1. 'B'\n2. 'C'\n3. 'D'\n4. 'E'\n5. 'F'\n6. 'G'\n7. 'H'\n8. 'I'\n9. 'J'\n\n\n",
            "text/latex": "\\begin{enumerate*}\n\\item 'B'\n\\item 'C'\n\\item 'D'\n\\item 'E'\n\\item 'F'\n\\item 'G'\n\\item 'H'\n\\item 'I'\n\\item 'J'\n\\end{enumerate*}\n",
            "text/plain": [
              "[1] \"B\" \"C\" \"D\" \"E\" \"F\" \"G\" \"H\" \"I\" \"J\""
            ]
          },
          "metadata": {}
        },
        {
          "output_type": "display_data",
          "data": {
            "text/html": [
              "<style>\n",
              ".list-inline {list-style: none; margin:0; padding: 0}\n",
              ".list-inline>li {display: inline-block}\n",
              ".list-inline>li:not(:last-child)::after {content: \"\\00b7\"; padding: 0 .5ex}\n",
              "</style>\n",
              "<ol class=list-inline><li>'B'</li><li>'C'</li><li>'D'</li><li>'E'</li><li>'F'</li><li>'G'</li><li>'H'</li><li>'I'</li><li>'J'</li></ol>\n"
            ],
            "text/markdown": "1. 'B'\n2. 'C'\n3. 'D'\n4. 'E'\n5. 'F'\n6. 'G'\n7. 'H'\n8. 'I'\n9. 'J'\n\n\n",
            "text/latex": "\\begin{enumerate*}\n\\item 'B'\n\\item 'C'\n\\item 'D'\n\\item 'E'\n\\item 'F'\n\\item 'G'\n\\item 'H'\n\\item 'I'\n\\item 'J'\n\\end{enumerate*}\n",
            "text/plain": [
              "[1] \"B\" \"C\" \"D\" \"E\" \"F\" \"G\" \"H\" \"I\" \"J\""
            ]
          },
          "metadata": {}
        },
        {
          "output_type": "display_data",
          "data": {
            "text/html": [
              "<style>\n",
              ".list-inline {list-style: none; margin:0; padding: 0}\n",
              ".list-inline>li {display: inline-block}\n",
              ".list-inline>li:not(:last-child)::after {content: \"\\00b7\"; padding: 0 .5ex}\n",
              "</style>\n",
              "<ol class=list-inline><li>'B'</li><li>'C'</li><li>'D'</li><li>'E'</li><li>'F'</li><li>'G'</li><li>'H'</li><li>'I'</li><li>'J'</li></ol>\n"
            ],
            "text/markdown": "1. 'B'\n2. 'C'\n3. 'D'\n4. 'E'\n5. 'F'\n6. 'G'\n7. 'H'\n8. 'I'\n9. 'J'\n\n\n",
            "text/latex": "\\begin{enumerate*}\n\\item 'B'\n\\item 'C'\n\\item 'D'\n\\item 'E'\n\\item 'F'\n\\item 'G'\n\\item 'H'\n\\item 'I'\n\\item 'J'\n\\end{enumerate*}\n",
            "text/plain": [
              "[1] \"B\" \"C\" \"D\" \"E\" \"F\" \"G\" \"H\" \"I\" \"J\""
            ]
          },
          "metadata": {}
        },
        {
          "output_type": "display_data",
          "data": {
            "text/html": [
              "<style>\n",
              ".list-inline {list-style: none; margin:0; padding: 0}\n",
              ".list-inline>li {display: inline-block}\n",
              ".list-inline>li:not(:last-child)::after {content: \"\\00b7\"; padding: 0 .5ex}\n",
              "</style>\n",
              "<ol class=list-inline><li>'A'</li><li>'C'</li><li>'D'</li><li>'E'</li><li>'F'</li><li>'G'</li><li>'H'</li><li>'I'</li><li>'J'</li></ol>\n"
            ],
            "text/markdown": "1. 'A'\n2. 'C'\n3. 'D'\n4. 'E'\n5. 'F'\n6. 'G'\n7. 'H'\n8. 'I'\n9. 'J'\n\n\n",
            "text/latex": "\\begin{enumerate*}\n\\item 'A'\n\\item 'C'\n\\item 'D'\n\\item 'E'\n\\item 'F'\n\\item 'G'\n\\item 'H'\n\\item 'I'\n\\item 'J'\n\\end{enumerate*}\n",
            "text/plain": [
              "[1] \"A\" \"C\" \"D\" \"E\" \"F\" \"G\" \"H\" \"I\" \"J\""
            ]
          },
          "metadata": {}
        }
      ]
    },
    {
      "cell_type": "code",
      "source": [
        "a.df <- data.frame(x = 1:6, y= \"a\", z= c(TRUE, FALSE))\n",
        "comment(a.df)\n",
        "\n",
        "comment(a.df) <- \"this is stored as a comment\"\n",
        "comment(a.df)"
      ],
      "metadata": {
        "colab": {
          "base_uri": "https://localhost:8080/",
          "height": 53
        },
        "id": "r0c0b-7sS2wg",
        "outputId": "bdb1859b-1fa4-467d-c9b1-40d36b582f31"
      },
      "execution_count": null,
      "outputs": [
        {
          "output_type": "display_data",
          "data": {
            "text/plain": [
              "NULL"
            ]
          },
          "metadata": {}
        },
        {
          "output_type": "display_data",
          "data": {
            "text/html": [
              "'this is stored as a comment'"
            ],
            "text/markdown": "'this is stored as a comment'",
            "text/latex": "'this is stored as a comment'",
            "text/plain": [
              "[1] \"this is stored as a comment\""
            ]
          },
          "metadata": {}
        }
      ]
    },
    {
      "cell_type": "code",
      "source": [
        "names(a.df) #Creamos un objeto de datos llamado a.df utilizando la función data.frame()\n",
        "\n",
        "names(a.df) <- toupper(names(a.df)) #Con ayuda de la función comment(a.df) para obtener el comentario asociado al objeto a.df\n",
        "\n",
        "attr(a.df, \"names\") #Se agrega un comentario al objeto\n",
        "\n",
        "attr(a.df, \"my.attribute\") <- \"this is stored in my attribute\"\n",
        "attributes(a.df)\n"
      ],
      "metadata": {
        "colab": {
          "base_uri": "https://localhost:8080/",
          "height": 253
        },
        "id": "JJsrFOqPS2zy",
        "outputId": "dc0c7f6c-a0f1-4d3a-aef5-5e87473ae9e1"
      },
      "execution_count": null,
      "outputs": [
        {
          "output_type": "display_data",
          "data": {
            "text/html": [
              "<style>\n",
              ".list-inline {list-style: none; margin:0; padding: 0}\n",
              ".list-inline>li {display: inline-block}\n",
              ".list-inline>li:not(:last-child)::after {content: \"\\00b7\"; padding: 0 .5ex}\n",
              "</style>\n",
              "<ol class=list-inline><li>'x'</li><li>'y'</li><li>'z'</li></ol>\n"
            ],
            "text/markdown": "1. 'x'\n2. 'y'\n3. 'z'\n\n\n",
            "text/latex": "\\begin{enumerate*}\n\\item 'x'\n\\item 'y'\n\\item 'z'\n\\end{enumerate*}\n",
            "text/plain": [
              "[1] \"x\" \"y\" \"z\""
            ]
          },
          "metadata": {}
        },
        {
          "output_type": "display_data",
          "data": {
            "text/html": [
              "<style>\n",
              ".list-inline {list-style: none; margin:0; padding: 0}\n",
              ".list-inline>li {display: inline-block}\n",
              ".list-inline>li:not(:last-child)::after {content: \"\\00b7\"; padding: 0 .5ex}\n",
              "</style>\n",
              "<ol class=list-inline><li>'X'</li><li>'Y'</li><li>'Z'</li></ol>\n"
            ],
            "text/markdown": "1. 'X'\n2. 'Y'\n3. 'Z'\n\n\n",
            "text/latex": "\\begin{enumerate*}\n\\item 'X'\n\\item 'Y'\n\\item 'Z'\n\\end{enumerate*}\n",
            "text/plain": [
              "[1] \"X\" \"Y\" \"Z\""
            ]
          },
          "metadata": {}
        },
        {
          "output_type": "display_data",
          "data": {
            "text/html": [
              "<dl>\n",
              "\t<dt>$names</dt>\n",
              "\t\t<dd><style>\n",
              ".list-inline {list-style: none; margin:0; padding: 0}\n",
              ".list-inline>li {display: inline-block}\n",
              ".list-inline>li:not(:last-child)::after {content: \"\\00b7\"; padding: 0 .5ex}\n",
              "</style>\n",
              "<ol class=list-inline><li>'X'</li><li>'Y'</li><li>'Z'</li></ol>\n",
              "</dd>\n",
              "\t<dt>$class</dt>\n",
              "\t\t<dd>'data.frame'</dd>\n",
              "\t<dt>$row.names</dt>\n",
              "\t\t<dd><style>\n",
              ".list-inline {list-style: none; margin:0; padding: 0}\n",
              ".list-inline>li {display: inline-block}\n",
              ".list-inline>li:not(:last-child)::after {content: \"\\00b7\"; padding: 0 .5ex}\n",
              "</style>\n",
              "<ol class=list-inline><li>1</li><li>2</li><li>3</li><li>4</li><li>5</li><li>6</li></ol>\n",
              "</dd>\n",
              "\t<dt>$comment</dt>\n",
              "\t\t<dd>'this is stored as a comment'</dd>\n",
              "\t<dt>$my.attribute</dt>\n",
              "\t\t<dd>'this is stored in my attribute'</dd>\n",
              "</dl>\n"
            ],
            "text/markdown": "$names\n:   1. 'X'\n2. 'Y'\n3. 'Z'\n\n\n\n$class\n:   'data.frame'\n$row.names\n:   1. 1\n2. 2\n3. 3\n4. 4\n5. 5\n6. 6\n\n\n\n$comment\n:   'this is stored as a comment'\n$my.attribute\n:   'this is stored in my attribute'\n\n\n",
            "text/latex": "\\begin{description}\n\\item[\\$names] \\begin{enumerate*}\n\\item 'X'\n\\item 'Y'\n\\item 'Z'\n\\end{enumerate*}\n\n\\item[\\$class] 'data.frame'\n\\item[\\$row.names] \\begin{enumerate*}\n\\item 1\n\\item 2\n\\item 3\n\\item 4\n\\item 5\n\\item 6\n\\end{enumerate*}\n\n\\item[\\$comment] 'this is stored as a comment'\n\\item[\\$my.attribute] 'this is stored in my attribute'\n\\end{description}\n",
            "text/plain": [
              "$names\n",
              "[1] \"X\" \"Y\" \"Z\"\n",
              "\n",
              "$class\n",
              "[1] \"data.frame\"\n",
              "\n",
              "$row.names\n",
              "[1] 1 2 3 4 5 6\n",
              "\n",
              "$comment\n",
              "[1] \"this is stored as a comment\"\n",
              "\n",
              "$my.attribute\n",
              "[1] \"this is stored in my attribute\"\n"
            ]
          },
          "metadata": {}
        }
      ]
    }
  ]
}
