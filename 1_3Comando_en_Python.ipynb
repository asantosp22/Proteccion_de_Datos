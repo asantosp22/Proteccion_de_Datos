{
  "nbformat": 4,
  "nbformat_minor": 0,
  "metadata": {
    "colab": {
      "provenance": [],
      "authorship_tag": "ABX9TyMkkRFJ+pz/c9H0jt/4LqZy",
      "include_colab_link": true
    },
    "kernelspec": {
      "name": "python3",
      "display_name": "Python 3"
    },
    "language_info": {
      "name": "python"
    }
  },
  "cells": [
    {
      "cell_type": "markdown",
      "metadata": {
        "id": "view-in-github",
        "colab_type": "text"
      },
      "source": [
        "<a href=\"https://colab.research.google.com/github/asantosp22/Proteccion_de_Datos/blob/main/1_3Comando_en_Python.ipynb\" target=\"_parent\"><img src=\"https://colab.research.google.com/assets/colab-badge.svg\" alt=\"Open In Colab\"/></a>"
      ]
    },
    {
      "cell_type": "markdown",
      "source": [
        "#  Documento 1.3: IMPORTACIÓN DE DATOS EN PYTHON\n"
      ],
      "metadata": {
        "id": "xXPBgm5QnQyw"
      }
    },
    {
      "cell_type": "markdown",
      "source": [
        "\n",
        "*   ***Fecha:*** 17 de septiembre del 2023\n",
        "*   ***Nombre del alumno:*** Alison S. Santos Pérez."
      ],
      "metadata": {
        "id": "wfgT4XRbndPv"
      }
    },
    {
      "cell_type": "markdown",
      "source": [
        "# **Trabajando con JSON**\n",
        "\n",
        "¿Qué es JSON?\n",
        "*   JSON es el acrónimo de JavaScript Object Notation.\n",
        "*   JSON se basa en dos estructuras:\n",
        "1.    una colección de pares nombre/valor y una lista ordenada de valores.\n",
        "*   Como tipos de datos, JSON ofrece cadenas,números, objetos y valores que consisten en verdadero, falso y nulo."
      ],
      "metadata": {
        "id": "1fSuKe7fpb4y"
      }
    },
    {
      "cell_type": "code",
      "source": [
        "#EJERCICIO 1\n",
        "# json_examples/json_basic.py\n",
        "#Comenzamos importando los módulos sys y json.\n",
        "import sys\n",
        "import json\n",
        "# Despues creamos un simple diccionario con algunos números dentro y una lista.\n",
        "data = {\n",
        "    'big_number': 2 ** 3141,\n",
        "    'max_float': sys.float_info.max,\n",
        "    'a_list': [2, 3, 5, 7],\n",
        "}\n",
        "json_data = json.dumps(data) ##Ejecutamos con json.dumps(), el cual toma los datos y los convierte en JSON.\n",
        "data_out = json.loads(json_data) #Le pedimos al programa que eso datos introduzcan en json.loads(), el cual en vez de convertirlos\n",
        "                                 #en JSON, los restablece en Python.\n",
        "assert data == data_out # Y por último aseguramos que los datos originales y el resultado de la ejecucion a través de JSON\n",
        "                        #json y viceversa, los datos coinciden\n"
      ],
      "metadata": {
        "id": "dr0AkiVsN8C9"
      },
      "execution_count": null,
      "outputs": []
    },
    {
      "cell_type": "markdown",
      "source": [
        "**Segundo ejemplo: Trabajando con JSON**"
      ],
      "metadata": {
        "id": "ApAyJMb7q1kf"
      }
    },
    {
      "cell_type": "code",
      "source": [
        "#EJERCICIO 2\n",
        "# json_examples/json_basic.py\n",
        "\n",
        "#Como en el ejemplo anterior (EJERCICIO 1), creamos un diccionario pero ahora ese diccionario tendrá los datos del MUSEO DEL DESIERTO ubicado en\n",
        "#Saltillo, Coahuila.\n",
        "#Como coahuilense soy una gran fanatica de conocer la historia de los dinosaurios, del origen y las características de los desiertos en el mundo\n",
        "#El desierto y su pasado; El hombre y el desierto; Evolución y biodiversidad, y Ecosistemas: laboratorios de la vida, etc.\n",
        "\n",
        "#En este diccionario, podrás encontrar el museo con su dirección (el cual recomiendo mucho que lo visites :).\n",
        "\n",
        "import json\n",
        "info = {\n",
        "    'full_name': 'Museo del Desierto',\n",
        "    'address': {\n",
        "        'street': 'Carlos Abedrop Dávila 3745, Parque las Maravillas, Centro Metropolitano',\n",
        "        'zip': ' 25022',\n",
        "        'city': 'Saltillo',\n",
        "        'country': 'Coahuila',\n",
        "    }\n",
        "}\n",
        "\n",
        "#            IMPORTANTE\n",
        "#Es importante saber cómo llamamos json.dumps.\n",
        "#dejamos que sangra con dos espacios y ordenar las claves alfabéticamente.\n",
        "#Por lo cual obtenemos como resultado:\n",
        "print(json.dumps(info, indent=2, sort_keys=True))"
      ],
      "metadata": {
        "colab": {
          "base_uri": "https://localhost:8080/"
        },
        "id": "zgz4-3XoObD5",
        "outputId": "1d0aae3c-55ff-4ca0-925f-48f0fc2d8cb3"
      },
      "execution_count": null,
      "outputs": [
        {
          "output_type": "stream",
          "name": "stdout",
          "text": [
            "{\n",
            "  \"address\": {\n",
            "    \"city\": \"Saltillo\",\n",
            "    \"country\": \"Coahuila\",\n",
            "    \"street\": \"Carlos Abedrop D\\u00e1vila 3745, Parque las Maravillas, Centro Metropolitano\",\n",
            "    \"zip\": \" 25022\"\n",
            "  },\n",
            "  \"full_name\": \"Museo del Desierto\"\n",
            "}\n"
          ]
        }
      ]
    },
    {
      "cell_type": "code",
      "source": [
        "#EJERCICIO 3\n",
        "# json_examples/json_tuple.py\n",
        "#1.-Iniciamos importando la libreria json\n",
        "import json\n",
        "\n",
        "#2.-Se define un diccionario llamado data_in el cual contiene los valores de 'a_tuple' de la tupla(tabla/lista):\n",
        "data_in = {\n",
        "    'a_tuple': (1, 2, 3, 4, 5),\n",
        "}\n",
        "#Le pedimos al programa convertir el diccionario data_in en una cadena JSON utilizando json.dumps().\n",
        "#Con esto se convertirá el diccionario en una representación de cadena JSON, almacenandolo en la variable llamada json_data\n",
        "json_data = json.dumps(data_in)\n",
        "print(json_data) # Mandamos imprimir la variable json_data, la cual mostrará JSON del diccionario\n",
        "                 #{\"a_tuple\": [1, 2, 3, 4, 5]}\n",
        "data_out = json.loads(json_data) #Despues, utilizamos json.loads() para convertir la cadena json_data en un objeto de PYTHON, almacenandolo\n",
        "                                 #en la variable data_out\n",
        "print(data_out) #Finalmente, le pedimos al programa que nos imprima la variable data_out, la cual contiene el objeto PYTHON que se obtuvo\n",
        "                #al cargar la cadena de JSON.\n",
        "                #ARROJANDO -> {'a_tuple': [1, 2, 3, 4, 5]}\n"
      ],
      "metadata": {
        "colab": {
          "base_uri": "https://localhost:8080/"
        },
        "id": "GO83yGrcO6TZ",
        "outputId": "33968609-6872-4dfb-917d-9befda2b185d"
      },
      "execution_count": null,
      "outputs": [
        {
          "output_type": "stream",
          "name": "stdout",
          "text": [
            "{\"a_tuple\": [1, 2, 3, 4, 5]}\n",
            "{'a_tuple': [1, 2, 3, 4, 5]}\n"
          ]
        }
      ]
    },
    {
      "cell_type": "code",
      "source": [
        "#EJERCICIO 4\n",
        "# json_examples/json_cplx.py\n",
        "#Importamos la libreria json\n",
        "import json\n",
        "\n",
        "#Comenzamos definiendo una clase de nombre ComplexEnconder pero como una subclase de la clase JSONEnconder.\n",
        "#Esta clase anula el metodo predeterminado. Por lo que este método se llama siempre que el codificador encuentra un objeto que no pueda codificar y se\n",
        "#espera que devuelva un objeto codificable-> representación de ese objeto.\n",
        "class ComplexEncoder(json.JSONEncoder):\n",
        "  def default(self, obj): #Comprueba si el argumento es un objeto complejo, por lo que en este caso, devuelve un diccionario metainformación personalizada\n",
        "                          # y una lista que contiene tanto la parte real como la imaginaria del número.\n",
        "\n",
        "                          #Llamamos al método default() de la clase, que simplemente generará un TypeError\n",
        "    print(f\"ComplexEncoder.default: {obj=}\")\n",
        "    if isinstance(obj, complex):\n",
        "      return {\n",
        "          '_meta': '_complex',\n",
        "          'num': [obj.real, obj.imag],\n",
        "      }\n",
        "      return super().default(obj)\n",
        "\n",
        "\n",
        "data = {\n",
        "    'an_int': 42,\n",
        "    'a_float': 3.14159265,\n",
        "    'a_complex': 3 + 4j,\n",
        "}\n",
        "json_data = json.dumps(data, cls=ComplexEncoder) #Luego llamamos a json.dumps(), pero esta vez usamos el argumento cls para especificar nuestro codificador\n",
        "                                                 #personalizado.\n",
        "print(json_data)                                 #Mandamos imprimir el resultado\n",
        "\n",
        "def object_hook(obj):  #En vez de realizar otra clase, en su lugar se eligió usaur una diferente técnica la cual es más sencilla \"object_hook\"\n",
        "                        #Dentro del cuerpo de object_hook(), encontramos un bloque try.\n",
        "  print(f\"object_hook: {obj=}\")\n",
        "  try:                  #INICIA LA PARTE IMPORTANTE\n",
        "    if obj['meta'] == 'complex': #Estas dos líneas dentro del cuerpo del propio bloque try, la función recibe un objeto.\n",
        "      return complex(*obj['num']) #(observe que la función sólo se llama cuando obj es un diccionario), y si los metadatos coincide con nuestra convención\n",
        "                                  #para números complejos, pasamos las partes real e imaginaria a la función compleja(). El bloque try/except está ahí\n",
        "                                  #porque nuestra función ser llamado para cada objeto del diccionario que se decodifica, por lo que debemos manejar el\n",
        "                                  #caso donde nuestra clave _meta no está presente.\n",
        "  except KeyError:\n",
        "    return obj\n",
        "\n",
        "data_out= json.loads(json_data, object_hook=object_hook)\n",
        "print(data_out)\n",
        "\n",
        "\n"
      ],
      "metadata": {
        "colab": {
          "base_uri": "https://localhost:8080/"
        },
        "id": "Eq68Ss4bMp5V",
        "outputId": "268204d5-63e9-4b69-e118-444ca50f9265"
      },
      "execution_count": null,
      "outputs": [
        {
          "output_type": "stream",
          "name": "stdout",
          "text": [
            "ComplexEncoder.default: obj=(3+4j)\n",
            "{\"an_int\": 42, \"a_float\": 3.14159265, \"a_complex\": {\"_meta\": \"_complex\", \"num\": [3.0, 4.0]}}\n",
            "object_hook: obj={'_meta': '_complex', 'num': [3.0, 4.0]}\n",
            "object_hook: obj={'an_int': 42, 'a_float': 3.14159265, 'a_complex': {'_meta': '_complex', 'num': [3.0, 4.0]}}\n",
            "{'an_int': 42, 'a_float': 3.14159265, 'a_complex': {'_meta': '_complex', 'num': [3.0, 4.0]}}\n"
          ]
        }
      ]
    },
    {
      "cell_type": "code",
      "source": [
        "#EJERCICIO 5\n",
        "# json_examples/json_datetime.py\n",
        "#Empezamos obteniendo la información de fecha y hora actual, y lo hacemos tanto sin (ahora) como con (ahora_tz) conocimiento de zona horaria.\n",
        "import json\n",
        "from datetime import datetime, timedelta, timezone\n",
        "\n",
        "now = datetime.now() #Obtiene la fecha y hora actual en la zona horaria local utilizando datetime.now() y almacenandola en la variable de nombre \"now\".\n",
        "now_tz = datetime.now(tz=timezone(timedelta(hours=1))) #Se obtiene la fecha y hora actual en una zona horaria específica (una hora adelante para este caso)\n",
        "                                                       #utilizando datetime.now(tz=timezone(timedelta(hours=1))) y almacenandola en la variable de\n",
        "                                                       #nombre \"now_tz\".\n",
        "\n",
        "class DatetimeEncoder(json.JSONEncoder): #se define una clase de nombre DatetimeEncoder de json.JSONEnconder.\n",
        "                                         #esta clase se utilizará para personalizar los objetos datetime a JSON\n",
        "\n",
        "  def default(self, obj): #Dentro de la clase, se definirá un método default (sel,obj) que se llamará automáticamente cuando se encuentra un objeto\n",
        "                          #directamente a JSON.\n",
        "    if isinstance(obj, datetime): #AHORA VERIFICAREMOS SI EL OBJETO obj ES UNA INSTANCIA DE LA CLASE datatime\n",
        "      try:\n",
        "        off = obj.utcoffset().seconds #Si obj es una instancia de datetime, se intenta obtener el desplazamiento UTC en segundos utilizando\n",
        "                                      #obj.utcoffset().seconds. Si no se puede obtener un desplazamiento UTC.\n",
        "      except AttributeError:          #Si obj no tiene información de zona horaria......\n",
        "        off = None                    #se establece off en None.\n",
        "\n",
        "        return {\n",
        "            '_meta': '_datetime',\n",
        "            'data': obj.timetuple()[:6] + (obj.microsecond, ),\n",
        "            'utcoffset': off,\n",
        "            }\n",
        "\n",
        "        return super().default(obj)\n",
        "\n",
        "data = {   #Se construirá un diccionario con la información sobre el objeto datetime.\n",
        "    'an_int': 42,\n",
        "    'a_float': 3.14159265,\n",
        "    'a_datetime': now,\n",
        "    'a_datetime_tz': now_tz,\n",
        "}\n",
        "json_data = json.dumps(data, cls=DatetimeEncoder)#utilizamos json.dumps()\n",
        "print(json_data) #Y finalmente mandamos imprimir el resultado de json_data"
      ],
      "metadata": {
        "id": "cMFF1hpUMvIx",
        "colab": {
          "base_uri": "https://localhost:8080/"
        },
        "outputId": "56a33d39-3f9a-41e3-9cf3-fc7b88590ec1"
      },
      "execution_count": null,
      "outputs": [
        {
          "output_type": "stream",
          "name": "stdout",
          "text": [
            "{\"an_int\": 42, \"a_float\": 3.14159265, \"a_datetime\": {\"_meta\": \"_datetime\", \"data\": [2023, 9, 16, 7, 58, 1, 653109], \"utcoffset\": null}, \"a_datetime_tz\": null}\n"
          ]
        }
      ]
    },
    {
      "cell_type": "markdown",
      "source": [
        "# **I/O,flujos y solicitudes**\n",
        "\n",
        "*   I/O significa entrada/salida y se refiere en términos generales a la comunicación entre una computadora y el mundo exterior.\n",
        "*   Hay varios tipos diferentes de E/S.\n",
        "\n",
        "1.   El primero presentará la clase io.StringIO, que es un flujo en memoria para E/S de texto.\n",
        "2.   El segundo, en cambio, escapará de la localidad de nuestro\n",
        "computadora y demostrar cómo realizar una solicitud HTTP.\n",
        "\n",
        "\n",
        "\n",
        "\n",
        "\n"
      ],
      "metadata": {
        "id": "69P73pRg4zyF"
      }
    },
    {
      "cell_type": "code",
      "source": [
        "#EJERCICIO 6\n",
        "# io_examples/string_io.py\n",
        "#importamos el modulo io.\n",
        "import io  #Este es un módulo muy interesante ya que presenta muchas herramientas relacionadas con transmisiones y Entradas/Salidas.\n",
        "\n",
        "\n",
        "stream = io.StringIO() #StringIO es un buffer en memoria (para crear y manipular flujos de texto en memoria).\n",
        "                       #Se crea un objeto StringIO de nombre stream. En el StringIO es una clase que permite trabajar con cadenas de texto como si fueran\n",
        "                       #archivos.\n",
        "stream.write('Hola, estoy aprendiendo a programar en Python.\\n') #Escribimos la cadena 'Hola, estoy aprendiendo a programar en Python\n",
        "                                                                 # Esta cadena agregará al flujo de texto en memoria.\n",
        "print('Muy bien!!, conviertete en un ninja de Python!', file=stream) #Le pedimos al programa imprimir la cadena 'Muy bien!!, conviértete en un ninja de Python!'\n",
        "                                                                     #con el argumento file=stream. Esto hace que se agregue a esta cadena el flujo de texto después\n",
        "                                                                     #de la cadena anterior.\n",
        "\n",
        "\n",
        "contents = stream.getvalue()  #Se obtiene el contenido del objeto stream utilizando el método getvalue() y lo almacena en la variable contents.\n",
        "print(contents)   #Le pedimos al programa imprimir el contenido almacenado en la variable contents.\n",
        "stream.close()  #Aquí le pedimos al programa que cierre el objeto stream\n",
        "\n",
        "# io_examples/string_io.py\n",
        "#Como podemos observar es el mismo ejemplo solo que ahora con ayuda del bloque with y StringIO ya no es necesario cerrar el objeto stream como en el\n",
        "#ejemplo anterior, es mas sencillo.\n",
        "with io.StringIO() as stream:\n",
        "  stream.write('Hola, estoy aprendiendo a programar en Python.\\n')\n",
        "  print('Muy bien!!, conviertete en un ninja de Python!', file=stream)\n",
        "  contents = stream.getvalue()\n",
        "  print(contents)"
      ],
      "metadata": {
        "colab": {
          "base_uri": "https://localhost:8080/"
        },
        "id": "TptLAzUyM8wJ",
        "outputId": "37afc91f-f078-441a-ccb4-24d609864c0c"
      },
      "execution_count": null,
      "outputs": [
        {
          "output_type": "stream",
          "name": "stdout",
          "text": [
            "Hola, estoy aprendiendo a programar en Python.\n",
            "Muy bien!!, conviertete en un ninja de Python!\n",
            "\n",
            "Hola, estoy aprendiendo a programar en Python.\n",
            "Muy bien!!, conviertete en un ninja de Python!\n",
            "\n"
          ]
        }
      ]
    },
    {
      "cell_type": "markdown",
      "source": [
        "# ***°Using an in-memory stream/ Usando una secuencia en memoria***\n",
        "*    La memoria es mucho más rápida.\n",
        "que un disco, siempre está disponible y para pequeñas cantidades de datos puede ser la solución perfecta.\n",
        "elección\n",
        "\n"
      ],
      "metadata": {
        "id": "jGrnRktE57J-"
      }
    },
    {
      "cell_type": "markdown",
      "source": [
        "# **Serializar datos con pickle**\n",
        "\n",
        "Hablemos de pickle\n",
        "\n",
        "\n",
        "*   El módulo pickle, de la biblioteca estándar de Python, ofrece herramientas para convertir objetos de Python en flujos de bytes y viceversa\n",
        "*   El modulo pickle se traduce en bytes,\n",
        "es específico de Python y, gracias a las maravillosas capacidades de introspección de Python, admite una gran cantidad de tipos de datos.\n",
        "\n"
      ],
      "metadata": {
        "id": "8Lf9s0sM1BeW"
      }
    },
    {
      "cell_type": "markdown",
      "source": [
        "***Utilizando otros datos :)***"
      ],
      "metadata": {
        "id": "d5ZrszlY16u9"
      }
    },
    {
      "cell_type": "code",
      "source": [
        "#EJERCICIO 7\n",
        "# persistence/pickler.py\n",
        "\n",
        "#Importa los módulos pickle y dataclasses.\n",
        "import pickle\n",
        "from dataclasses import dataclass\n",
        "\n",
        "@dataclass\n",
        "#Se define una clase de nombre Person (persona), en el cual se usará la función @dataclass del módulo dataclasses.\n",
        "#En esta clase encontraremos tres atributos: first_name (nombre), last_name (apellido) e id (identificación).\n",
        "class Person:\n",
        "  first_name: str #atributo de la clase: first_name(nombre).\n",
        "  last_name: str #segundo atributo de la clase: last_name(apellido)\n",
        "  id: int  #tercer atributo de la clase: id(identificación)\n",
        "\n",
        "#Se define un método dentro de la clase Person llamado greet, el cual se imprimirá un saludo personalizado junto con el nombre y la identificación\n",
        "#de la persona.\n",
        "\n",
        "  def greet(self):\n",
        "    print(f'Hola, soy {self.first_name} {self.last_name}'\n",
        "          f' y mi núnero de identificación es: {self.id}')\n",
        "\n",
        "#Se crea una lista llamada people la cual contiene tres objetos de la clase Person con diferentes nombres, apellidos e identificaciones.\n",
        "people = [\n",
        "    Person('Alison', 'Santos', 345), #primer objeto de la clase persona con los datos de la primera persona a ingresar.\n",
        "    Person('Emilio', 'Pérez', 678), #segundo objeto de la clase persona con los datos de la segunda persona a ingresar\n",
        "    Person('Victoria', 'Pérez', 890), #tercer objeto de la clase persona con los datos de la tercera persona a ingresar.\n",
        "]\n",
        "\n",
        "# save data in binary format to a file\n",
        "# Guardamos la lista people en formato binario.\n",
        "with open('data.pickle', 'wb') as stream:\n",
        "  pickle.dump(people, stream)\n",
        "\n",
        "# load data from a file\n",
        "#Cargamos los datos de ese archivo en una nueva variable de nombre peeps, la cual será una lista de objetos de la clase Person.\n",
        "with open('data.pickle', 'rb') as stream:\n",
        "  peeps = pickle.load(stream)\n",
        "\n",
        "# Mandamos imprimir el saludo personalizado para cada persona junto con su nombre y su identificación.\n",
        "for person in peeps:\n",
        "  person.greet()\n"
      ],
      "metadata": {
        "colab": {
          "base_uri": "https://localhost:8080/"
        },
        "id": "riRc82R6NHek",
        "outputId": "2a786d7c-f4f1-4659-b557-e230cd71b858"
      },
      "execution_count": null,
      "outputs": [
        {
          "output_type": "stream",
          "name": "stdout",
          "text": [
            "Hola, soy Alison Santos y mi núnero de identificación es: 345\n",
            "Hola, soy Emilio Pérez y mi núnero de identificación es: 678\n",
            "Hola, soy Victoria Pérez y mi núnero de identificación es: 890\n"
          ]
        }
      ]
    },
    {
      "cell_type": "markdown",
      "source": [
        "# **Contenido del directorio**"
      ],
      "metadata": {
        "id": "RmeDqHhp7NV2"
      }
    },
    {
      "cell_type": "code",
      "source": [
        "#EJERCICIO 8\n",
        "# files/walking.py\n",
        "#Importa la biblioteca os, que proporciona funciones para interactuar con el sistema operativo,\n",
        "#incluyendo la manipulación de archivos y directorios.\n",
        "import os\n",
        "\n",
        "for root, dirs, files in os.walk('.'): #inicia un bucle que recorre todos los directorios y subdirectorios a partir del directorio actual.\n",
        "                                       #root:es la ruta al directorio actual que se está examinando.\n",
        "                                       #dirs: lista de nombres de subdirectorios en el directorio actual.\n",
        "                                       #files:lista de nombres de archivos en el directorio actual.\n",
        "\n",
        "  abs_root = os.path.abspath(root) #Convierte la ruta root en una ruta absoluta utilizando os.path.abspath()\n",
        "  print(abs_root) # Imprime la ruta absoluta del directorio actual en el que se encuentra el bucle for.\n",
        "\n",
        "if dirs: #Aquí se comprobará si la lista dirs no está vacía.\n",
        "  print('Directories:') #Imprime \"Directories:\" si hay subdirectorios en el directorio actual.\n",
        "  for dir_ in dirs: #Inicia un bucle que recorre la lista de nombres de subdirectorios en el directorio actual.\n",
        "    print(dir_) #Se manda imprimir el nombre de cada subdirectorio.\n",
        "  print()  #En este caso se le pide al programa imprimir una línea en blanco despues de imprimir cada nombre de archivo\n",
        "\n",
        "if files:  #Nuevamente se comprueba si la lista files no está vacía.\n",
        "  print('Files:') #Se manda a imprimir si hay archivos en el directorio actual.\n",
        "  for filename in files:\n",
        "    print(filename) #Se manda imprimir el nombre de cada archivo.\n",
        "    print() #Nuevamente se le pide al programa imprimir una línea en blanco despues de imprimir cada nombre de archivo."
      ],
      "metadata": {
        "colab": {
          "base_uri": "https://localhost:8080/"
        },
        "id": "imEt8V32ihYI",
        "outputId": "41b24df0-f2f0-49f8-8800-b9da5e18c050"
      },
      "execution_count": null,
      "outputs": [
        {
          "output_type": "stream",
          "name": "stdout",
          "text": [
            "/content\n",
            "/content/.config\n",
            "/content/.config/configurations\n",
            "/content/.config/logs\n",
            "/content/.config/logs/2023.09.14\n",
            "/content/sample_data\n",
            "Files:\n",
            "anscombe.json\n",
            "\n",
            "README.md\n",
            "\n",
            "mnist_test.csv\n",
            "\n",
            "california_housing_test.csv\n",
            "\n",
            "mnist_train_small.csv\n",
            "\n",
            "california_housing_train.csv\n",
            "\n"
          ]
        }
      ]
    },
    {
      "cell_type": "markdown",
      "source": [
        "# **Realizar solicitudes HTTP**"
      ],
      "metadata": {
        "id": "t9keVce6-IZP"
      }
    },
    {
      "cell_type": "code",
      "source": [
        "#EJERCICIO 9\n",
        "# io_examples/reqs.py\n",
        "\n",
        "#Importamos la libreria requests la cuak se utilizará para realizar solicitudes HTTP a varias URL y mostrar la respuesta de cada solicitud.\n",
        "import requests\n",
        "\n",
        "urls = { #Definiremos un diccionario de nombre \"urls\" la cual se le realizará una solicitud de https.\n",
        "    \"get\": \"https://httpbin.org/get?t=learn+python+programming\",\n",
        "    \"headers\": \"https://httpbin.org/headers\",\n",
        "    \"ip\": \"https://httpbin.org/ip\",\n",
        "    \"user-agent\": \"https://httpbin.org/user-agent\",\n",
        "    \"UUID\": \"https://httpbin.org/uuid\",\n",
        "    \"JSON\": \"https://httpbin.org/json\",\n",
        "}\n",
        "#Se defineuna función de nombre get_content ña cual tomar dos argumentos: title y url.\n",
        "#Esta función realiza una solicitud HTTP GET a la URL proporcionada para luego imprimir el título y el contenido de la respuesta en formato JSON.\n",
        "def get_content(title, url):\n",
        "  resp = requests.get(url)\n",
        "  print(f\"Response for {title}\")\n",
        "  print(resp.json())\n",
        "\n",
        "for title, url in urls.items():\n",
        "  get_content(title, url)\n",
        "  print(\"-\" * 40)"
      ],
      "metadata": {
        "colab": {
          "base_uri": "https://localhost:8080/"
        },
        "id": "y69iHqQRGf5H",
        "outputId": "7adfb274-0eee-4a81-e58e-ece6017785f9"
      },
      "execution_count": null,
      "outputs": [
        {
          "output_type": "stream",
          "name": "stdout",
          "text": [
            "Response for get\n",
            "{'args': {'t': 'learn python programming'}, 'headers': {'Accept': '*/*', 'Accept-Encoding': 'gzip, deflate', 'Host': 'httpbin.org', 'User-Agent': 'python-requests/2.31.0', 'X-Amzn-Trace-Id': 'Root=1-65056c8b-704587fa4021df213ba156f0'}, 'origin': '35.237.160.91', 'url': 'https://httpbin.org/get?t=learn+python+programming'}\n",
            "----------------------------------------\n",
            "Response for headers\n",
            "{'headers': {'Accept': '*/*', 'Accept-Encoding': 'gzip, deflate', 'Host': 'httpbin.org', 'User-Agent': 'python-requests/2.31.0', 'X-Amzn-Trace-Id': 'Root=1-65056c8b-4d9bde5471bb60d06e2aeb35'}}\n",
            "----------------------------------------\n",
            "Response for ip\n",
            "{'origin': '35.237.160.91'}\n",
            "----------------------------------------\n",
            "Response for user-agent\n",
            "{'user-agent': 'python-requests/2.31.0'}\n",
            "----------------------------------------\n",
            "Response for UUID\n",
            "{'uuid': '86c9e039-9326-4e29-9a0e-18067b7adc42'}\n",
            "----------------------------------------\n",
            "Response for JSON\n",
            "{'slideshow': {'author': 'Yours Truly', 'date': 'date of publication', 'slides': [{'title': 'Wake up to WonderWidgets!', 'type': 'all'}, {'items': ['Why <em>WonderWidgets</em> are great', 'Who <em>buys</em> WonderWidgets'], 'title': 'Overview', 'type': 'all'}], 'title': 'Sample Slide Show'}}\n",
            "----------------------------------------\n"
          ]
        }
      ]
    },
    {
      "cell_type": "code",
      "source": [
        "#EJERCICIO 10\n",
        "#Se importa la libreria request para realizar una solicitud HTTP POST a la URL 'https://httpbin.org/post'.\n",
        "import requests\n",
        "\n",
        "url = 'https://httpbin.org/post' #se crea una variable de nombre \"url\", la cual contiene la URL de destino a la que se enviará la solicitud POST.\n",
        "data = dict(title='Learn Python Programming') #se crea otra variable pero ahora de nombre \"data\", la cual contiene\n",
        "                                              #el valor es 'Learn Python Programming'. Este será el cuerpo de la solicitud POST.\n",
        "\n",
        "resp = requests.post(url, data=data) #nuevamente creamos una variable de nombre \"resp\", la cual contendrá a respuesta de la solicitud POST\n",
        "                                     #que se almacena en la variable.\n",
        "print('Response for POST')  #finalmente se manda a imprimir en formato JSON\n",
        "print(resp.json())"
      ],
      "metadata": {
        "colab": {
          "base_uri": "https://localhost:8080/"
        },
        "id": "Hgkws_glHlQI",
        "outputId": "72b252ad-d51d-4bbc-e384-099285803b05"
      },
      "execution_count": null,
      "outputs": [
        {
          "output_type": "stream",
          "name": "stdout",
          "text": [
            "Response for POST\n",
            "{'args': {}, 'data': '', 'files': {}, 'form': {'title': 'Learn Python Programming'}, 'headers': {'Accept': '*/*', 'Accept-Encoding': 'gzip, deflate', 'Content-Length': '30', 'Content-Type': 'application/x-www-form-urlencoded', 'Host': 'httpbin.org', 'User-Agent': 'python-requests/2.31.0', 'X-Amzn-Trace-Id': 'Root=1-65056aa4-0d5da56625efb70d7780c04a'}, 'json': None, 'origin': '35.237.160.91', 'url': 'https://httpbin.org/post'}\n"
          ]
        }
      ]
    }
  ]
}