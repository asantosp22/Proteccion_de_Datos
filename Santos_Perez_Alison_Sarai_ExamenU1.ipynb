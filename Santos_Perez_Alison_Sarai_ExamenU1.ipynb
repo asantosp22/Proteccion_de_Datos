{
  "nbformat": 4,
  "nbformat_minor": 0,
  "metadata": {
    "colab": {
      "provenance": [],
      "authorship_tag": "ABX9TyNI6LJ+KwBpxRy71SRBilG1",
      "include_colab_link": true
    },
    "kernelspec": {
      "name": "python3",
      "display_name": "Python 3"
    },
    "language_info": {
      "name": "python"
    }
  },
  "cells": [
    {
      "cell_type": "markdown",
      "metadata": {
        "id": "view-in-github",
        "colab_type": "text"
      },
      "source": [
        "<a href=\"https://colab.research.google.com/github/asantosp22/Proteccion_de_Datos/blob/main/Santos_Perez_Alison_Sarai_ExamenU1.ipynb\" target=\"_parent\"><img src=\"https://colab.research.google.com/assets/colab-badge.svg\" alt=\"Open In Colab\"/></a>"
      ]
    },
    {
      "cell_type": "markdown",
      "source": [
        "***EXAMEN U1***"
      ],
      "metadata": {
        "id": "DQDe0Nk9U5cE"
      }
    },
    {
      "cell_type": "markdown",
      "source": [
        "\n",
        "*   Nombre del alumno: Alison Saraí Santos Pérez.\n",
        "*   Fecha: 29 de Septiembre del 2023\n",
        "\n",
        "\n",
        "*   Materia: Protección de Datos.\n",
        "\n"
      ],
      "metadata": {
        "id": "iDJA5s3kVDD-"
      }
    },
    {
      "cell_type": "markdown",
      "source": [
        "**Ejemplo #1 ¿Es primo un número?:**\n",
        "Un número primo es un número entero mayor que 1 que sólo es divisible por uno y por sí mismo. Escribe una función que determine si su parámetro es primo o no, devolviendo True en caso afirmativo y False en caso contrario. Escribe un programa principal que lea un número entero del usuario y muestre un mensaje indicando si es primo o no. Asegúrese de que el programa principal no se ejecuta si el archivo que contiene la solución se importa en otro programa."
      ],
      "metadata": {
        "id": "ioW8qz9ZZrsO"
      }
    },
    {
      "cell_type": "code",
      "source": [
        "def es_PrimoN(numero): #Iniciamos creando la función de nombre: es_PrimoN, el cual contiene el parametro de número, que será agregado por el usuario\n",
        "  if numero <= 1:\n",
        "    return False #Numeros menores o iguales a 1: NO SON PRIMOS\n",
        "\n",
        "  for i in range(2, numero):\n",
        "    if numero % i == 0:\n",
        "      return False\n",
        "\n",
        "  return True\n",
        "\n",
        "if __name__ == \"__main__\":\n",
        "  numero= int(input(\"Por favor ingrese un numero entero:\"))\n",
        "\n",
        "  if es_PrimoN(numero):\n",
        "    print(f\"{numero} si es un número primo :)\")\n",
        "  else:\n",
        "    print(f\"{numero} NO es un número primo :/\")"
      ],
      "metadata": {
        "colab": {
          "base_uri": "https://localhost:8080/"
        },
        "id": "vRmgMz9wU4So",
        "outputId": "23d53bf6-2bbf-41b0-fb4f-5990186f0499"
      },
      "execution_count": null,
      "outputs": [
        {
          "output_type": "stream",
          "name": "stdout",
          "text": [
            "Por favor ingrese un numero entero:6\n",
            "6 NO es un número primo :/\n"
          ]
        }
      ]
    },
    {
      "cell_type": "markdown",
      "source": [
        "\n",
        "2.   **Ejemplo #2 Siguiente primo:**\n",
        "En este ejercicio crearás una función llamada nextPrime que encuentra y devuelve el primer número primo mayor que un número entero, n. El valor de n será pasado a la función como su único parámetro. Incluya un programa principal que lea un número entero del usuario y muestre el primer número primo mayor que el valor introducido.\n",
        "número primo mayor que el valor introducido. Importe y utilice su solución del Ejercicio 1 mientras realiza este ejercicio.\n",
        "\n"
      ],
      "metadata": {
        "id": "AqVfQK4aZSIm"
      }
    },
    {
      "cell_type": "code",
      "source": [
        "#Con ayuda de la función podremos verificar si en realidad un número es primo o no.\n",
        "#Paso2: Creamos otra función más, la cual nos ayudará a encontrar el siguiente número primero mayor que n"
      ],
      "metadata": {
        "id": "wzTtBKtOZRv4"
      },
      "execution_count": null,
      "outputs": []
    },
    {
      "cell_type": "code",
      "source": [
        "def next_prime(n):\n",
        "  while True:\n",
        "    n += 1\n",
        "    for i in range(2, int(n ** 0.5) + 1):\n",
        "      if n % i == 0:\n",
        "        break\n",
        "    else:\n",
        "      return n\n",
        "\n",
        "try:\n",
        "  numero = int(input(\"Por favor ingrese un número entero:\"))\n",
        "  siguiente_primo = next_prime(numero)\n",
        "  print(f\"El primer número primo mayor que {numero} es {siguiente_primo}\")\n",
        "\n",
        "except ValueError:\n",
        "  print(\"POR FAVOR INGRESE UN NÚMERO ENTERO VALIDO :):\")"
      ],
      "metadata": {
        "colab": {
          "base_uri": "https://localhost:8080/"
        },
        "id": "ffCh3cHyeUfQ",
        "outputId": "c4139970-f807-4190-b7c4-7edcbca56f4b"
      },
      "execution_count": null,
      "outputs": [
        {
          "output_type": "stream",
          "name": "stdout",
          "text": [
            "Por favor ingrese un número entero:1\n",
            "El primer número primo mayor que 1 es 2\n"
          ]
        }
      ]
    },
    {
      "cell_type": "markdown",
      "source": [
        "3. **Ejercicio #3 Mediana de tres valores:**\n",
        "Escriba una función que tome tres números como parámetros y devuelva como resultado la mediana de dichos parámetros. Incluya un programa principal que lea tres valores del usuario y muestre su mediana."
      ],
      "metadata": {
        "id": "uiE4awsifjr-"
      }
    },
    {
      "cell_type": "code",
      "source": [
        "def calcular_mediana(valores):\n",
        "    valores_ordenados = sorted(valores)\n",
        "    n = len(valores_ordenados)\n",
        "    medio = n // 2\n",
        "\n",
        "    if n % 2 == 0:\n",
        "        # Si la cantidad de valores es par, la mediana es el promedio de los dos valores centrales\n",
        "        return (valores_ordenados[medio - 1] + valores_ordenados[medio]) / 2\n",
        "    else:\n",
        "        # Si la cantidad de valores es impar, la mediana es el valor del medio\n",
        "        return valores_ordenados[medio]\n",
        "\n",
        "def main():\n",
        "    try:\n",
        "        valor1 = float(input(\"Ingrese el primer valor: \"))\n",
        "        valor2 = float(input(\"Ingrese el segundo valor: \"))\n",
        "        valor3 = float(input(\"Ingrese el tercer valor: \"))\n",
        "\n",
        "        valores = [valor1, valor2, valor3]\n",
        "        mediana = calcular_mediana(valores)\n",
        "\n",
        "        print(f\"La mediana de los valores {valor1}, {valor2}, {valor3} es {mediana}\")\n",
        "    except ValueError:\n",
        "        print(\"Por favor, ingrese valores numéricos válidos.\")\n",
        "\n",
        "if __name__ == \"__main__\":\n",
        "    main()\n"
      ],
      "metadata": {
        "colab": {
          "base_uri": "https://localhost:8080/"
        },
        "id": "6diVbv3pdpCL",
        "outputId": "20f75457-e31c-49a5-9d17-2358639a7a76"
      },
      "execution_count": null,
      "outputs": [
        {
          "output_type": "stream",
          "name": "stdout",
          "text": [
            "Ingrese el primer valor: 5\n",
            "Ingrese el segundo valor: 7\n",
            "Ingrese el tercer valor: 4\n",
            "La mediana de los valores 5.0, 7.0, 4.0 es 5.0\n"
          ]
        }
      ]
    },
    {
      "cell_type": "markdown",
      "source": [
        "4. **Ejemplo #4 Contraseña aleatoria:**\n",
        "Escriba una función que genere una contraseña aleatoria. La contraseña debe tener una longitud aleatoria de entre 7 y 10 caracteres. Cada carácter debe seleccionarse aleatoriamente de las posiciones 33 a 126 de la tabla ASCII. Su función no tomará ningún parámetro. Devolverá como único resultado la contraseña generada aleatoriamente. Muestre la contraseña generada aleatoriamente en el programa principal de su archivo.\n",
        "de su archivo. Su programa principal sólo debe ejecutarse cuando su solución no se ha importado en otro archivo."
      ],
      "metadata": {
        "id": "zm6mq8GWihSK"
      }
    },
    {
      "cell_type": "code",
      "source": [
        "#Iniciamos creando una función para generar una contraseña aleatoria"
      ],
      "metadata": {
        "id": "40wW7fOpd3yR"
      },
      "execution_count": null,
      "outputs": []
    },
    {
      "cell_type": "code",
      "source": [
        "from pickle import LONG_BINPUT\n",
        "import random\n",
        "\n",
        "def generar_contraseñaAleatoria():\n",
        "  longContra = random.randint(7, 10)\n",
        "  contraseña = ''\n",
        "  for _ in range(longContra):\n",
        "    caracter = chr(random.randint(33,126))\n",
        "    contraseña += caracter\n",
        "  return contraseña\n",
        "\n",
        "if __name__ == \"__main__\":\n",
        "  contraseñaFn_generada = generar_contraseñaAleatoria()\n",
        "  print(f\"La contraseña generada es: {contraseñaFn_generada}\")"
      ],
      "metadata": {
        "colab": {
          "base_uri": "https://localhost:8080/"
        },
        "id": "BSToGlK1jPv-",
        "outputId": "c1fd5ab7-7315-4590-ffcd-10ca9764ce65"
      },
      "execution_count": null,
      "outputs": [
        {
          "output_type": "stream",
          "name": "stdout",
          "text": [
            "La contraseña generada es: v]V#HYPl:\n"
          ]
        }
      ]
    },
    {
      "cell_type": "markdown",
      "source": [
        "5. **Ejemplo #5 Calcular la Hipotenusa:**\n",
        "Escribe una función que tome como parámetros las longitudes de los dos lados menores de un triángulo rectángulo.\n",
        "parámetros. Devuelve la hipotenusa del triángulo, calculada mediante el teorema de Pitágoras, como resultado de la función. Incluye un programa principal que lea las longitudes de los lados menores de un triángulo rectángulo, utilice su función para calcular la longitud de la hipotenusa y muestre el resultado.\n",
        "el resultado.\n",
        "\n"
      ],
      "metadata": {
        "id": "_XO8uTa5kS8l"
      }
    },
    {
      "cell_type": "code",
      "source": [
        "import math\n",
        "\n",
        "def calcula_Hipotenusa(lado1, lado2):\n",
        "  hipotenusa= math.sqrt(lado1**2 + lado2**2)\n",
        "  return hipotenusa\n",
        "\n",
        "try:\n",
        "  lado1= float(input(\"Ingrese la longitud del primer lado del triangulo rectangulo:\"))\n",
        "  lado2= float(input(\"Ingrese la longitud del segundo lado del triangulo rectangulo:\"))\n",
        "\n",
        "  hipotenusa= calcula_Hipotenusa(lado1, lado2)\n",
        "  print(f\"El total de longitud de la hipotenuda es: {hipotenusa:.2f}\")\n",
        "except ValueError:\n",
        "  print(\"POR FAVOR SOLO INGRESA VALORES NUMERICOS VALIDOS :): \")"
      ],
      "metadata": {
        "colab": {
          "base_uri": "https://localhost:8080/"
        },
        "id": "eQpD38qHigQw",
        "outputId": "0301e269-c5ce-4c87-ee33-caf771ee37a7"
      },
      "execution_count": null,
      "outputs": [
        {
          "output_type": "stream",
          "name": "stdout",
          "text": [
            "Ingrese la longitud del primer lado del triangulo rectangulo:65.8\n",
            "Ingrese la longitud del segundo lado del triangulo rectangulo:43\n",
            "El total de longitud de la hipotenuda es: 78.60\n"
          ]
        }
      ]
    }
  ]
}